{
 "cells": [
  {
   "cell_type": "code",
   "execution_count": 2,
   "id": "f6986115-1fa0-4186-abd6-a5e21242e608",
   "metadata": {},
   "outputs": [],
   "source": [
    "from xgboost import XGBRegressor\n",
    "import pandas as pd\n",
    "import numpy as np"
   ]
  },
  {
   "cell_type": "code",
   "execution_count": 3,
   "id": "03f0be99-07bc-4406-8a92-7b64f9664d6e",
   "metadata": {},
   "outputs": [],
   "source": [
    "cbcl = pd.read_csv('cbcl_1_5-2023-07-21.csv')\n",
    "iq = pd.read_csv(\"iq-2023-07-21.csv\")"
   ]
  },
  {
   "cell_type": "markdown",
   "id": "325d282c-f3cc-4648-841f-3d120a92e7d9",
   "metadata": {
    "jp-MarkdownHeadingCollapsed": true
   },
   "source": [
    "# ADOS focused\n",
    "\n",
    "## Data Loading\n",
    "\n",
    "Which datasets are relevant?\n",
    "\n",
    "- CBCL1-5\n",
    "- CBCL6-18\n",
    "- IQ\n",
    "- Autism Diagnostic Observation Schedule (ADOS)"
   ]
  },
  {
   "cell_type": "code",
   "execution_count": 5,
   "id": "1f8543ff-d110-4cd2-ba1d-8191117944c9",
   "metadata": {},
   "outputs": [],
   "source": [
    "ados1 = pd.read_csv('ados_original_module_1.csv')\n",
    "ados2 = pd.read_csv('ados_original_module_2.csv')\n",
    "ados3 = pd.read_csv('ados_original_module_3.csv')\n",
    "ados4 = pd.read_csv('ados_original_module_4.csv')\n",
    "\n",
    "ados2_1 = pd.read_csv('ados_2_module_1.csv')\n",
    "ados2_2 = pd.read_csv('ados_2_module_2.csv')\n",
    "ados2_3 = pd.read_csv('ados_2_module_3.csv')\n",
    "ados2_4 = pd.read_csv('ados_2_module_4.csv')\n",
    "\n",
    "ados_toddler = pd.read_csv('ados_2_toddler.csv')"
   ]
  },
  {
   "cell_type": "code",
   "execution_count": 20,
   "id": "eb41d300-7f5d-41a9-a077-586abd26c9f6",
   "metadata": {},
   "outputs": [
    {
     "name": "stdout",
     "output_type": "stream",
     "text": [
      "Shape of CBCL: (2835, 175)\n",
      "Shape of IQ: (5966, 26)\n",
      "\n",
      "Shape of ados1: (90, 53)\n",
      "Shape of ados2: (28, 51)\n",
      "Shape of ados3: (28, 50)\n",
      "Shape of ados4: (4, 49)\n",
      "\n",
      "Shape of ados2_1: (521, 55)\n",
      "Shape of ados2_2: (259, 50)\n",
      "Shape of ados2_3: (405, 49)\n",
      "Shape of ados2_4: (20, 57)\n",
      "\n",
      "Shape of ados_toddler: (355, 62)\n"
     ]
    }
   ],
   "source": [
    "# Printing the shape of each DataFrame\n",
    "\n",
    "print(\"Shape of CBCL:\", cbcl.shape)\n",
    "print(\"Shape of IQ:\", iq.shape)\n",
    "\n",
    "print(\"\\nShape of ados1:\", ados1.shape)\n",
    "print(\"Shape of ados2:\", ados2.shape)\n",
    "print(\"Shape of ados3:\", ados3.shape)\n",
    "print(\"Shape of ados4:\", ados4.shape)\n",
    "\n",
    "print(\"\\nShape of ados2_1:\", ados2_1.shape)\n",
    "print(\"Shape of ados2_2:\", ados2_2.shape)\n",
    "print(\"Shape of ados2_3:\", ados2_3.shape)\n",
    "print(\"Shape of ados2_4:\", ados2_4.shape)\n",
    "\n",
    "print(\"\\nShape of ados_toddler:\", ados_toddler.shape)"
   ]
  },
  {
   "cell_type": "markdown",
   "id": "a32cbcb3-0c19-4397-af1b-46d02fb808f6",
   "metadata": {},
   "source": [
    "## Check for subject ID overlaps between datasets \n",
    "\n",
    "Does ADOS files fill in the gaps of diagnostic results in CBCL?"
   ]
  },
  {
   "cell_type": "code",
   "execution_count": 21,
   "id": "642659e0-43d2-44e2-b4a3-b37a925b076d",
   "metadata": {},
   "outputs": [],
   "source": [
    "ados_dataframes = [\n",
    "    'ados1', 'ados2', 'ados3', 'ados4', 'ados2_1', 'ados2_2', 'ados2_3', 'ados2_4', 'ados_toddler'\n",
    "]"
   ]
  },
  {
   "cell_type": "code",
   "execution_count": 26,
   "id": "8f6ba8c6-6e93-49d5-8b37-40a65d41574b",
   "metadata": {
    "scrolled": true
   },
   "outputs": [
    {
     "name": "stdout",
     "output_type": "stream",
     "text": [
      "(90, 53)\n",
      "Shape after merging with ados1: (0, 227)\n",
      "(28, 51)\n",
      "Shape after merging with ados2: (0, 225)\n",
      "(28, 50)\n",
      "Shape after merging with ados3: (0, 224)\n",
      "(4, 49)\n",
      "Shape after merging with ados4: (0, 223)\n",
      "(521, 55)\n",
      "Shape after merging with ados2_1: (5, 229)\n",
      "(259, 50)\n",
      "Shape after merging with ados2_2: (5, 224)\n",
      "(405, 49)\n",
      "Shape after merging with ados2_3: (0, 223)\n",
      "(20, 57)\n",
      "Shape after merging with ados2_4: (0, 231)\n",
      "(355, 62)\n",
      "Shape after merging with ados_toddler: (13, 236)\n"
     ]
    }
   ],
   "source": [
    "for ados_df in ados_dataframes:\n",
    "    current_df = globals()[ados_df]\n",
    "    print(current_df.shape)\n",
    "    \n",
    "    merged_df = pd.merge(cbcl, current_df, on=\"subject_sp_id\", how=\"inner\")\n",
    "    print(f\"Shape after merging with {ados_df}: {merged_df.shape}\")"
   ]
  },
  {
   "cell_type": "code",
   "execution_count": 28,
   "id": "769b49b8-17d8-4532-9931-e9d20731de13",
   "metadata": {
    "scrolled": true
   },
   "outputs": [
    {
     "data": {
      "text/html": [
       "<div>\n",
       "<style scoped>\n",
       "    .dataframe tbody tr th:only-of-type {\n",
       "        vertical-align: middle;\n",
       "    }\n",
       "\n",
       "    .dataframe tbody tr th {\n",
       "        vertical-align: top;\n",
       "    }\n",
       "\n",
       "    .dataframe thead th {\n",
       "        text-align: right;\n",
       "    }\n",
       "</style>\n",
       "<table border=\"1\" class=\"dataframe\">\n",
       "  <thead>\n",
       "    <tr style=\"text-align: right;\">\n",
       "      <th></th>\n",
       "      <th>subject_sp_id</th>\n",
       "      <th>respondent_sp_id</th>\n",
       "      <th>family_sf_id</th>\n",
       "      <th>biomother_sp_id</th>\n",
       "      <th>biofather_sp_id</th>\n",
       "      <th>sex_x</th>\n",
       "      <th>current_depend_adult_x</th>\n",
       "      <th>asd_x</th>\n",
       "      <th>age_at_eval_months_x</th>\n",
       "      <th>age_at_eval_years_x</th>\n",
       "      <th>...</th>\n",
       "      <th>e4_anxiety</th>\n",
       "      <th>ados_2_T_algorithm</th>\n",
       "      <th>ados_2_social_affect_total</th>\n",
       "      <th>ados_2_restricted_repetitive_total</th>\n",
       "      <th>ados_2_SA_RRB_total</th>\n",
       "      <th>sa_css</th>\n",
       "      <th>rrb_css</th>\n",
       "      <th>total_css</th>\n",
       "      <th>range_of_concern</th>\n",
       "      <th>eval_year</th>\n",
       "    </tr>\n",
       "  </thead>\n",
       "  <tbody>\n",
       "    <tr>\n",
       "      <th>0</th>\n",
       "      <td>SP0388241</td>\n",
       "      <td>SP0021095</td>\n",
       "      <td>SF0021113</td>\n",
       "      <td>SP0021095</td>\n",
       "      <td>SP0021345</td>\n",
       "      <td>Female</td>\n",
       "      <td>NaN</td>\n",
       "      <td>True</td>\n",
       "      <td>49</td>\n",
       "      <td>4</td>\n",
       "      <td>...</td>\n",
       "      <td>0</td>\n",
       "      <td>21-30 Months some words</td>\n",
       "      <td>11.0</td>\n",
       "      <td>3.0</td>\n",
       "      <td>14.0</td>\n",
       "      <td>NaN</td>\n",
       "      <td>NaN</td>\n",
       "      <td>NaN</td>\n",
       "      <td>moderate-to-severe</td>\n",
       "      <td>2020</td>\n",
       "    </tr>\n",
       "    <tr>\n",
       "      <th>1</th>\n",
       "      <td>SP0360269</td>\n",
       "      <td>SP0041857</td>\n",
       "      <td>SF0041858</td>\n",
       "      <td>SP0041857</td>\n",
       "      <td>SP0041861</td>\n",
       "      <td>Female</td>\n",
       "      <td>NaN</td>\n",
       "      <td>True</td>\n",
       "      <td>53</td>\n",
       "      <td>4</td>\n",
       "      <td>...</td>\n",
       "      <td>1</td>\n",
       "      <td>NaN</td>\n",
       "      <td>NaN</td>\n",
       "      <td>NaN</td>\n",
       "      <td>NaN</td>\n",
       "      <td>NaN</td>\n",
       "      <td>NaN</td>\n",
       "      <td>NaN</td>\n",
       "      <td>NaN</td>\n",
       "      <td>2019</td>\n",
       "    </tr>\n",
       "    <tr>\n",
       "      <th>2</th>\n",
       "      <td>SP0250852</td>\n",
       "      <td>SP0250851</td>\n",
       "      <td>SF0250852</td>\n",
       "      <td>SP0250851</td>\n",
       "      <td>NaN</td>\n",
       "      <td>Male</td>\n",
       "      <td>NaN</td>\n",
       "      <td>True</td>\n",
       "      <td>58</td>\n",
       "      <td>4</td>\n",
       "      <td>...</td>\n",
       "      <td>0</td>\n",
       "      <td>NaN</td>\n",
       "      <td>NaN</td>\n",
       "      <td>NaN</td>\n",
       "      <td>NaN</td>\n",
       "      <td>NaN</td>\n",
       "      <td>NaN</td>\n",
       "      <td>NaN</td>\n",
       "      <td>NaN</td>\n",
       "      <td>2018</td>\n",
       "    </tr>\n",
       "    <tr>\n",
       "      <th>3</th>\n",
       "      <td>SP0292661</td>\n",
       "      <td>SP0292660</td>\n",
       "      <td>SF0292661</td>\n",
       "      <td>SP0292660</td>\n",
       "      <td>SP0292686</td>\n",
       "      <td>Male</td>\n",
       "      <td>NaN</td>\n",
       "      <td>True</td>\n",
       "      <td>58</td>\n",
       "      <td>4</td>\n",
       "      <td>...</td>\n",
       "      <td>0</td>\n",
       "      <td>12-20 Months or 21-30 Months few-no words</td>\n",
       "      <td>17.0</td>\n",
       "      <td>4.0</td>\n",
       "      <td>21.0</td>\n",
       "      <td>9.0</td>\n",
       "      <td>7.0</td>\n",
       "      <td>8.0</td>\n",
       "      <td>moderate-to-severe</td>\n",
       "      <td>2019</td>\n",
       "    </tr>\n",
       "    <tr>\n",
       "      <th>4</th>\n",
       "      <td>SP0326399</td>\n",
       "      <td>SP0326398</td>\n",
       "      <td>SF0326399</td>\n",
       "      <td>SP0326398</td>\n",
       "      <td>SP0326476</td>\n",
       "      <td>Male</td>\n",
       "      <td>NaN</td>\n",
       "      <td>True</td>\n",
       "      <td>58</td>\n",
       "      <td>4</td>\n",
       "      <td>...</td>\n",
       "      <td>0</td>\n",
       "      <td>21-30 Months some words</td>\n",
       "      <td>19.0</td>\n",
       "      <td>5.0</td>\n",
       "      <td>24.0</td>\n",
       "      <td>NaN</td>\n",
       "      <td>NaN</td>\n",
       "      <td>NaN</td>\n",
       "      <td>moderate-to-severe</td>\n",
       "      <td>2019</td>\n",
       "    </tr>\n",
       "    <tr>\n",
       "      <th>5</th>\n",
       "      <td>SP0336034</td>\n",
       "      <td>SP0336033</td>\n",
       "      <td>SF0336034</td>\n",
       "      <td>SP0336033</td>\n",
       "      <td>SP0339957</td>\n",
       "      <td>Male</td>\n",
       "      <td>NaN</td>\n",
       "      <td>True</td>\n",
       "      <td>63</td>\n",
       "      <td>5</td>\n",
       "      <td>...</td>\n",
       "      <td>0</td>\n",
       "      <td>12-20 Months or 21-30 Months few-no words</td>\n",
       "      <td>18.0</td>\n",
       "      <td>4.0</td>\n",
       "      <td>22.0</td>\n",
       "      <td>9.0</td>\n",
       "      <td>7.0</td>\n",
       "      <td>9.0</td>\n",
       "      <td>moderate-to-severe</td>\n",
       "      <td>2019</td>\n",
       "    </tr>\n",
       "    <tr>\n",
       "      <th>6</th>\n",
       "      <td>SP0341871</td>\n",
       "      <td>SP0341868</td>\n",
       "      <td>SF0341871</td>\n",
       "      <td>SP0341868</td>\n",
       "      <td>SP0396338</td>\n",
       "      <td>Female</td>\n",
       "      <td>NaN</td>\n",
       "      <td>True</td>\n",
       "      <td>52</td>\n",
       "      <td>4</td>\n",
       "      <td>...</td>\n",
       "      <td>0</td>\n",
       "      <td>12-20 Months or 21-30 Months few-no words</td>\n",
       "      <td>12.0</td>\n",
       "      <td>4.0</td>\n",
       "      <td>16.0</td>\n",
       "      <td>6.0</td>\n",
       "      <td>7.0</td>\n",
       "      <td>6.0</td>\n",
       "      <td>moderate-to-severe</td>\n",
       "      <td>2019</td>\n",
       "    </tr>\n",
       "    <tr>\n",
       "      <th>7</th>\n",
       "      <td>SP0357816</td>\n",
       "      <td>SP0357815</td>\n",
       "      <td>SF0357816</td>\n",
       "      <td>SP0357815</td>\n",
       "      <td>SP0387745</td>\n",
       "      <td>Male</td>\n",
       "      <td>NaN</td>\n",
       "      <td>True</td>\n",
       "      <td>46</td>\n",
       "      <td>3</td>\n",
       "      <td>...</td>\n",
       "      <td>0</td>\n",
       "      <td>12-20 Months or 21-30 Months few-no words</td>\n",
       "      <td>14.0</td>\n",
       "      <td>7.0</td>\n",
       "      <td>21.0</td>\n",
       "      <td>NaN</td>\n",
       "      <td>NaN</td>\n",
       "      <td>NaN</td>\n",
       "      <td>moderate-to-severe</td>\n",
       "      <td>2019</td>\n",
       "    </tr>\n",
       "    <tr>\n",
       "      <th>8</th>\n",
       "      <td>SP0369166</td>\n",
       "      <td>SP0369165</td>\n",
       "      <td>SF0369166</td>\n",
       "      <td>SP0369165</td>\n",
       "      <td>SP0369788</td>\n",
       "      <td>Male</td>\n",
       "      <td>NaN</td>\n",
       "      <td>True</td>\n",
       "      <td>55</td>\n",
       "      <td>4</td>\n",
       "      <td>...</td>\n",
       "      <td>0</td>\n",
       "      <td>12-20 Months or 21-30 Months few-no words</td>\n",
       "      <td>13.0</td>\n",
       "      <td>6.0</td>\n",
       "      <td>19.0</td>\n",
       "      <td>NaN</td>\n",
       "      <td>NaN</td>\n",
       "      <td>NaN</td>\n",
       "      <td>moderate-to-severe</td>\n",
       "      <td>2019</td>\n",
       "    </tr>\n",
       "    <tr>\n",
       "      <th>9</th>\n",
       "      <td>SP0370091</td>\n",
       "      <td>SP0370090</td>\n",
       "      <td>SF0370091</td>\n",
       "      <td>SP0370090</td>\n",
       "      <td>NaN</td>\n",
       "      <td>Female</td>\n",
       "      <td>NaN</td>\n",
       "      <td>True</td>\n",
       "      <td>45</td>\n",
       "      <td>3</td>\n",
       "      <td>...</td>\n",
       "      <td>0</td>\n",
       "      <td>NaN</td>\n",
       "      <td>NaN</td>\n",
       "      <td>NaN</td>\n",
       "      <td>NaN</td>\n",
       "      <td>NaN</td>\n",
       "      <td>NaN</td>\n",
       "      <td>NaN</td>\n",
       "      <td>NaN</td>\n",
       "      <td>2019</td>\n",
       "    </tr>\n",
       "    <tr>\n",
       "      <th>10</th>\n",
       "      <td>SP0371707</td>\n",
       "      <td>SP0371706</td>\n",
       "      <td>SF0371707</td>\n",
       "      <td>SP0371706</td>\n",
       "      <td>SP0371712</td>\n",
       "      <td>Male</td>\n",
       "      <td>NaN</td>\n",
       "      <td>True</td>\n",
       "      <td>56</td>\n",
       "      <td>4</td>\n",
       "      <td>...</td>\n",
       "      <td>0</td>\n",
       "      <td>12-20 Months or 21-30 Months few-no words</td>\n",
       "      <td>14.0</td>\n",
       "      <td>6.0</td>\n",
       "      <td>20.0</td>\n",
       "      <td>NaN</td>\n",
       "      <td>NaN</td>\n",
       "      <td>NaN</td>\n",
       "      <td>moderate-to-severe</td>\n",
       "      <td>2019</td>\n",
       "    </tr>\n",
       "    <tr>\n",
       "      <th>11</th>\n",
       "      <td>SP0395902</td>\n",
       "      <td>SP0395901</td>\n",
       "      <td>SF0395902</td>\n",
       "      <td>SP0395901</td>\n",
       "      <td>SP0395934</td>\n",
       "      <td>Male</td>\n",
       "      <td>NaN</td>\n",
       "      <td>True</td>\n",
       "      <td>45</td>\n",
       "      <td>3</td>\n",
       "      <td>...</td>\n",
       "      <td>0</td>\n",
       "      <td>12-20 Months or 21-30 Months few-no words</td>\n",
       "      <td>12.0</td>\n",
       "      <td>5.0</td>\n",
       "      <td>17.0</td>\n",
       "      <td>NaN</td>\n",
       "      <td>NaN</td>\n",
       "      <td>7.0</td>\n",
       "      <td>moderate-to-severe</td>\n",
       "      <td>2018</td>\n",
       "    </tr>\n",
       "    <tr>\n",
       "      <th>12</th>\n",
       "      <td>SP0403436</td>\n",
       "      <td>SP0403435</td>\n",
       "      <td>SF0403436</td>\n",
       "      <td>SP0403435</td>\n",
       "      <td>SP0403734</td>\n",
       "      <td>Male</td>\n",
       "      <td>NaN</td>\n",
       "      <td>True</td>\n",
       "      <td>44</td>\n",
       "      <td>3</td>\n",
       "      <td>...</td>\n",
       "      <td>0</td>\n",
       "      <td>12-20 Months or 21-30 Months few-no words</td>\n",
       "      <td>17.0</td>\n",
       "      <td>5.0</td>\n",
       "      <td>22.0</td>\n",
       "      <td>NaN</td>\n",
       "      <td>NaN</td>\n",
       "      <td>NaN</td>\n",
       "      <td>moderate-to-severe</td>\n",
       "      <td>2020</td>\n",
       "    </tr>\n",
       "  </tbody>\n",
       "</table>\n",
       "<p>13 rows × 236 columns</p>\n",
       "</div>"
      ],
      "text/plain": [
       "   subject_sp_id respondent_sp_id family_sf_id biomother_sp_id  \\\n",
       "0      SP0388241        SP0021095    SF0021113       SP0021095   \n",
       "1      SP0360269        SP0041857    SF0041858       SP0041857   \n",
       "2      SP0250852        SP0250851    SF0250852       SP0250851   \n",
       "3      SP0292661        SP0292660    SF0292661       SP0292660   \n",
       "4      SP0326399        SP0326398    SF0326399       SP0326398   \n",
       "5      SP0336034        SP0336033    SF0336034       SP0336033   \n",
       "6      SP0341871        SP0341868    SF0341871       SP0341868   \n",
       "7      SP0357816        SP0357815    SF0357816       SP0357815   \n",
       "8      SP0369166        SP0369165    SF0369166       SP0369165   \n",
       "9      SP0370091        SP0370090    SF0370091       SP0370090   \n",
       "10     SP0371707        SP0371706    SF0371707       SP0371706   \n",
       "11     SP0395902        SP0395901    SF0395902       SP0395901   \n",
       "12     SP0403436        SP0403435    SF0403436       SP0403435   \n",
       "\n",
       "   biofather_sp_id   sex_x  current_depend_adult_x  asd_x  \\\n",
       "0        SP0021345  Female                     NaN   True   \n",
       "1        SP0041861  Female                     NaN   True   \n",
       "2              NaN    Male                     NaN   True   \n",
       "3        SP0292686    Male                     NaN   True   \n",
       "4        SP0326476    Male                     NaN   True   \n",
       "5        SP0339957    Male                     NaN   True   \n",
       "6        SP0396338  Female                     NaN   True   \n",
       "7        SP0387745    Male                     NaN   True   \n",
       "8        SP0369788    Male                     NaN   True   \n",
       "9              NaN  Female                     NaN   True   \n",
       "10       SP0371712    Male                     NaN   True   \n",
       "11       SP0395934    Male                     NaN   True   \n",
       "12       SP0403734    Male                     NaN   True   \n",
       "\n",
       "    age_at_eval_months_x  age_at_eval_years_x  ...  e4_anxiety  \\\n",
       "0                     49                    4  ...           0   \n",
       "1                     53                    4  ...           1   \n",
       "2                     58                    4  ...           0   \n",
       "3                     58                    4  ...           0   \n",
       "4                     58                    4  ...           0   \n",
       "5                     63                    5  ...           0   \n",
       "6                     52                    4  ...           0   \n",
       "7                     46                    3  ...           0   \n",
       "8                     55                    4  ...           0   \n",
       "9                     45                    3  ...           0   \n",
       "10                    56                    4  ...           0   \n",
       "11                    45                    3  ...           0   \n",
       "12                    44                    3  ...           0   \n",
       "\n",
       "                           ados_2_T_algorithm  ados_2_social_affect_total  \\\n",
       "0                     21-30 Months some words                        11.0   \n",
       "1                                         NaN                         NaN   \n",
       "2                                         NaN                         NaN   \n",
       "3   12-20 Months or 21-30 Months few-no words                        17.0   \n",
       "4                     21-30 Months some words                        19.0   \n",
       "5   12-20 Months or 21-30 Months few-no words                        18.0   \n",
       "6   12-20 Months or 21-30 Months few-no words                        12.0   \n",
       "7   12-20 Months or 21-30 Months few-no words                        14.0   \n",
       "8   12-20 Months or 21-30 Months few-no words                        13.0   \n",
       "9                                         NaN                         NaN   \n",
       "10  12-20 Months or 21-30 Months few-no words                        14.0   \n",
       "11  12-20 Months or 21-30 Months few-no words                        12.0   \n",
       "12  12-20 Months or 21-30 Months few-no words                        17.0   \n",
       "\n",
       "    ados_2_restricted_repetitive_total  ados_2_SA_RRB_total  sa_css  rrb_css  \\\n",
       "0                                  3.0                 14.0     NaN      NaN   \n",
       "1                                  NaN                  NaN     NaN      NaN   \n",
       "2                                  NaN                  NaN     NaN      NaN   \n",
       "3                                  4.0                 21.0     9.0      7.0   \n",
       "4                                  5.0                 24.0     NaN      NaN   \n",
       "5                                  4.0                 22.0     9.0      7.0   \n",
       "6                                  4.0                 16.0     6.0      7.0   \n",
       "7                                  7.0                 21.0     NaN      NaN   \n",
       "8                                  6.0                 19.0     NaN      NaN   \n",
       "9                                  NaN                  NaN     NaN      NaN   \n",
       "10                                 6.0                 20.0     NaN      NaN   \n",
       "11                                 5.0                 17.0     NaN      NaN   \n",
       "12                                 5.0                 22.0     NaN      NaN   \n",
       "\n",
       "    total_css    range_of_concern  eval_year  \n",
       "0         NaN  moderate-to-severe       2020  \n",
       "1         NaN                 NaN       2019  \n",
       "2         NaN                 NaN       2018  \n",
       "3         8.0  moderate-to-severe       2019  \n",
       "4         NaN  moderate-to-severe       2019  \n",
       "5         9.0  moderate-to-severe       2019  \n",
       "6         6.0  moderate-to-severe       2019  \n",
       "7         NaN  moderate-to-severe       2019  \n",
       "8         NaN  moderate-to-severe       2019  \n",
       "9         NaN                 NaN       2019  \n",
       "10        NaN  moderate-to-severe       2019  \n",
       "11        7.0  moderate-to-severe       2018  \n",
       "12        NaN  moderate-to-severe       2020  \n",
       "\n",
       "[13 rows x 236 columns]"
      ]
     },
     "execution_count": 28,
     "metadata": {},
     "output_type": "execute_result"
    }
   ],
   "source": [
    "merged_df"
   ]
  },
  {
   "cell_type": "markdown",
   "id": "f9e5e300-07e6-432e-8e54-89b6aa508511",
   "metadata": {},
   "source": [
    "- Only 13 entries are common between CBCL1-5 and ADOS_2_toddler (insufficient)\n",
    "- So the prospect of observing "
   ]
  },
  {
   "cell_type": "markdown",
   "id": "59a72237-0d01-4945-b430-f93b6b90293e",
   "metadata": {},
   "source": [
    "# Demographic analysis"
   ]
  },
  {
   "cell_type": "markdown",
   "id": "62e38806-93b9-4389-a683-c9fc53fa8d16",
   "metadata": {},
   "source": [
    "variable-      | 40          |\r\n"
   ]
  },
  {
   "cell_type": "code",
   "execution_count": 18,
   "id": "f40b46ab-3661-4ce1-8f2b-1b084de01dbe",
   "metadata": {},
   "outputs": [],
   "source": [
    "sex_counts = cbcl['sex'].value_counts(normalize=False)\n",
    "sex_percentage = cbcl['sex'].value_counts(normalize=True) * 100"
   ]
  },
  {
   "cell_type": "code",
   "execution_count": 19,
   "id": "e8cce634-d2eb-418c-bcdd-17aa05a70c48",
   "metadata": {},
   "outputs": [
    {
     "data": {
      "text/plain": [
       "sex\n",
       "Male      2087\n",
       "Female     748\n",
       "Name: count, dtype: int64"
      ]
     },
     "execution_count": 19,
     "metadata": {},
     "output_type": "execute_result"
    }
   ],
   "source": [
    "sex_counts"
   ]
  },
  {
   "cell_type": "code",
   "execution_count": 5,
   "id": "a6ca49d8-2e05-4d21-bdd1-58c6c5f1b59f",
   "metadata": {},
   "outputs": [
    {
     "data": {
      "text/plain": [
       "sex\n",
       "Male      73.61552\n",
       "Female    26.38448\n",
       "Name: proportion, dtype: float64"
      ]
     },
     "execution_count": 5,
     "metadata": {},
     "output_type": "execute_result"
    }
   ],
   "source": [
    "sex_percentage"
   ]
  },
  {
   "cell_type": "code",
   "execution_count": 21,
   "id": "27725a2c-bd7d-4ac2-84e0-bf5877944416",
   "metadata": {},
   "outputs": [],
   "source": [
    "male_df = cbcl[cbcl['sex'] == 'Male']\n",
    "female_df = cbcl[cbcl['sex'] == 'Female']"
   ]
  },
  {
   "cell_type": "code",
   "execution_count": 25,
   "id": "9a8ae546-b808-4862-85b4-8f548b3ca8a6",
   "metadata": {},
   "outputs": [],
   "source": [
    "male_asd_range_percent = male_df['dsm5_autism_spectrum_problems_problems_range'].value_counts(normalize=True) * 100\n",
    "male_asd_range_counts = male_df['dsm5_autism_spectrum_problems_problems_range'].value_counts(normalize=False)"
   ]
  },
  {
   "cell_type": "code",
   "execution_count": 26,
   "id": "4019fe83-404f-4d1f-aadb-f55e3bdd8a74",
   "metadata": {},
   "outputs": [
    {
     "data": {
      "text/plain": [
       "dsm5_autism_spectrum_problems_problems_range\n",
       "clinical      1271\n",
       "normal         546\n",
       "borderline     160\n",
       "Name: count, dtype: int64"
      ]
     },
     "execution_count": 26,
     "metadata": {},
     "output_type": "execute_result"
    }
   ],
   "source": [
    "male_asd_range_counts"
   ]
  },
  {
   "cell_type": "code",
   "execution_count": 17,
   "id": "93b23433-0265-4f5a-aa3b-48de4f8b351e",
   "metadata": {},
   "outputs": [
    {
     "data": {
      "text/plain": [
       "dsm5_autism_spectrum_problems_problems_range\n",
       "clinical      64.352370\n",
       "normal        27.136991\n",
       "borderline     8.510638\n",
       "Name: proportion, dtype: float64"
      ]
     },
     "execution_count": 17,
     "metadata": {},
     "output_type": "execute_result"
    }
   ],
   "source": [
    "male_asd_range_percent"
   ]
  },
  {
   "cell_type": "code",
   "execution_count": 22,
   "id": "55dda4a2-a007-4e98-8850-012200d51975",
   "metadata": {},
   "outputs": [],
   "source": [
    "female_asd_range_percent = female_df['dsm5_autism_spectrum_problems_problems_range'].value_counts(normalize=True) * 100\n",
    "female_asd_range_counts = female_df['dsm5_autism_spectrum_problems_problems_range'].value_counts(normalize=False)"
   ]
  },
  {
   "cell_type": "code",
   "execution_count": 23,
   "id": "9a56e326-7c38-4edb-ad21-03bc91dc2367",
   "metadata": {},
   "outputs": [
    {
     "data": {
      "text/plain": [
       "dsm5_autism_spectrum_problems_problems_range\n",
       "clinical      453\n",
       "normal        181\n",
       "borderline     68\n",
       "Name: count, dtype: int64"
      ]
     },
     "execution_count": 23,
     "metadata": {},
     "output_type": "execute_result"
    }
   ],
   "source": [
    "female_asd_range_counts"
   ]
  },
  {
   "cell_type": "code",
   "execution_count": 28,
   "id": "9d0c07bc-e71b-4e35-8185-a35cc5ec8cf5",
   "metadata": {},
   "outputs": [
    {
     "data": {
      "text/plain": [
       "dsm5_autism_spectrum_problems_problems_range\n",
       "clinical      64.529915\n",
       "normal        25.783476\n",
       "borderline     9.686610\n",
       "Name: proportion, dtype: float64"
      ]
     },
     "execution_count": 28,
     "metadata": {},
     "output_type": "execute_result"
    }
   ],
   "source": [
    "female_asd_range_percent"
   ]
  },
  {
   "cell_type": "code",
   "execution_count": 31,
   "id": "2bc9de05-25e0-4587-a8b0-d460b8ee3253",
   "metadata": {},
   "outputs": [],
   "source": [
    "female_depressive_counts = female_df['dsm5_depressive_problems_range'].value_counts(normalize=False)\n",
    "female_depressive_percent = female_df['dsm5_depressive_problems_range'].value_counts(normalize=True) * 100"
   ]
  },
  {
   "cell_type": "code",
   "execution_count": 33,
   "id": "3ef7b5c0-c576-4c8e-9394-6d97caae2077",
   "metadata": {},
   "outputs": [
    {
     "name": "stdout",
     "output_type": "stream",
     "text": [
      "dsm5_depressive_problems_range\n",
      "normal        367\n",
      "clinical      262\n",
      "borderline     73\n",
      "Name: count, dtype: int64\n",
      "dsm5_depressive_problems_range\n",
      "normal        52.279202\n",
      "clinical      37.321937\n",
      "borderline    10.398860\n",
      "Name: proportion, dtype: float64\n"
     ]
    }
   ],
   "source": [
    "print(female_depressive_counts)\n",
    "print(female_depressive_percent)"
   ]
  },
  {
   "cell_type": "code",
   "execution_count": 37,
   "id": "ee738937-2816-48b9-b163-0ffae1bced90",
   "metadata": {},
   "outputs": [],
   "source": [
    "male_anxiety_counts = male_df['dsm5_anxiety_problems_range'].value_counts(normalize=False)\n",
    "male_anxiety_percent = male_df['dsm5_anxiety_problems_range'].value_counts(normalize=True) * 100\n",
    "\n",
    "female_anxiety_counts = female_df['dsm5_anxiety_problems_range'].value_counts(normalize=False)\n",
    "female_anxiety_percent = female_df['dsm5_anxiety_problems_range'].value_counts(normalize=True) * 100"
   ]
  },
  {
   "cell_type": "code",
   "execution_count": 38,
   "id": "51293877-a54d-4c7f-8cda-414c583e051e",
   "metadata": {},
   "outputs": [
    {
     "name": "stdout",
     "output_type": "stream",
     "text": [
      "dsm5_anxiety_problems_range\n",
      "normal        455\n",
      "clinical      196\n",
      "borderline     51\n",
      "Name: count, dtype: int64\n",
      "dsm5_anxiety_problems_range\n",
      "normal        64.814815\n",
      "clinical      27.920228\n",
      "borderline     7.264957\n",
      "Name: proportion, dtype: float64\n"
     ]
    }
   ],
   "source": [
    "print(female_anxiety_counts)\n",
    "print(female_anxiety_percent)"
   ]
  },
  {
   "cell_type": "code",
   "execution_count": 39,
   "id": "c4d3b8c4-bf57-4e0e-9b7a-6ce6467ac632",
   "metadata": {},
   "outputs": [
    {
     "name": "stdout",
     "output_type": "stream",
     "text": [
      "dsm5_anxiety_problems_range\n",
      "normal        1405\n",
      "clinical       454\n",
      "borderline     118\n",
      "Name: count, dtype: int64\n",
      "dsm5_anxiety_problems_range\n",
      "normal        71.067274\n",
      "clinical      22.964087\n",
      "borderline     5.968639\n",
      "Name: proportion, dtype: float64\n"
     ]
    }
   ],
   "source": [
    "print(male_anxiety_counts)\n",
    "print(male_anxiety_percent)"
   ]
  },
  {
   "cell_type": "code",
   "execution_count": 40,
   "id": "ebf95413-3428-4721-84f5-32de05f5e51c",
   "metadata": {},
   "outputs": [],
   "source": [
    "male_ADHD_counts = male_df['dsm5_attention_deficit_hyperactivity_range'].value_counts(normalize=False)\n",
    "male_ADHD_percent = male_df['dsm5_attention_deficit_hyperactivity_range'].value_counts(normalize=True) * 100\n",
    "\n",
    "female_ADHD_counts = female_df['dsm5_attention_deficit_hyperactivity_range'].value_counts(normalize=False)\n",
    "female_ADHD_percent = female_df['dsm5_attention_deficit_hyperactivity_range'].value_counts(normalize=True) * 100"
   ]
  },
  {
   "cell_type": "code",
   "execution_count": 41,
   "id": "4a1c3190-b334-4bc4-8d27-21b3414bc8c2",
   "metadata": {},
   "outputs": [
    {
     "name": "stdout",
     "output_type": "stream",
     "text": [
      "dsm5_attention_deficit_hyperactivity_range\n",
      "normal        1292\n",
      "clinical       434\n",
      "borderline     251\n",
      "Name: count, dtype: int64\n",
      "dsm5_attention_deficit_hyperactivity_range\n",
      "normal        65.351543\n",
      "clinical      21.952453\n",
      "borderline    12.696004\n",
      "Name: proportion, dtype: float64\n",
      "dsm5_attention_deficit_hyperactivity_range\n",
      "normal        423\n",
      "clinical      181\n",
      "borderline     98\n",
      "Name: count, dtype: int64\n",
      "dsm5_attention_deficit_hyperactivity_range\n",
      "normal        60.256410\n",
      "clinical      25.783476\n",
      "borderline    13.960114\n",
      "Name: proportion, dtype: float64\n"
     ]
    }
   ],
   "source": [
    "print(male_ADHD_counts)\n",
    "print(male_ADHD_percent)\n",
    "\n",
    "print(female_ADHD_counts)\n",
    "print(female_ADHD_percent)"
   ]
  },
  {
   "cell_type": "code",
   "execution_count": null,
   "id": "85b33b45-a078-46fe-8c3e-53d45239f1b3",
   "metadata": {},
   "outputs": [],
   "source": []
  },
  {
   "cell_type": "code",
   "execution_count": null,
   "id": "8ae6024c-664f-4264-ab0e-1564f07a5dcc",
   "metadata": {},
   "outputs": [],
   "source": []
  },
  {
   "cell_type": "code",
   "execution_count": 42,
   "id": "b3b9bbaf-5da7-4d44-bf1d-16a27bafdb2d",
   "metadata": {},
   "outputs": [
    {
     "name": "stdout",
     "output_type": "stream",
     "text": [
      "dsm5_attention_deficit_hyperactivity_range\n",
      "normal        1715\n",
      "clinical       615\n",
      "borderline     349\n",
      "Name: count, dtype: int64\n",
      "dsm5_attention_deficit_hyperactivity_range\n",
      "normal        64.016424\n",
      "clinical      22.956327\n",
      "borderline    13.027249\n",
      "Name: proportion, dtype: float64\n"
     ]
    }
   ],
   "source": [
    "ADHD_counts = cbcl['dsm5_attention_deficit_hyperactivity_range'].value_counts(normalize=False)\n",
    "ADHD_percent = cbcl['c'].value_counts(normalize=True) * 100\n",
    "\n",
    "print(ADHD_counts)\n",
    "print(ADHD_percent)"
   ]
  },
  {
   "cell_type": "code",
   "execution_count": 43,
   "id": "2f9e5a22-9c56-4082-a89f-2dd06eb7106e",
   "metadata": {},
   "outputs": [
    {
     "name": "stdout",
     "output_type": "stream",
     "text": [
      "dsm5_anxiety_problems_range\n",
      "normal        1860\n",
      "clinical       650\n",
      "borderline     169\n",
      "Name: count, dtype: int64\n",
      "dsm5_anxiety_problems_range\n",
      "normal        69.428891\n",
      "clinical      24.262785\n",
      "borderline     6.308324\n",
      "Name: proportion, dtype: float64\n"
     ]
    }
   ],
   "source": [
    "anxiety_counts = cbcl['dsm5_anxiety_problems_range'].value_counts(normalize=False)\n",
    "anxiety_percent = cbcl['dsm5_anxiety_problems_range'].value_counts(normalize=True) * 100\n",
    "\n",
    "print(anxiety_counts)\n",
    "print(anxiety_percent)"
   ]
  },
  {
   "cell_type": "code",
   "execution_count": null,
   "id": "2eb2a0ef-934a-481e-ae4f-77bc1da8c9d3",
   "metadata": {},
   "outputs": [],
   "source": []
  },
  {
   "cell_type": "code",
   "execution_count": null,
   "id": "489ea78d-e7fa-44a7-b79a-12dddca6e411",
   "metadata": {},
   "outputs": [],
   "source": []
  },
  {
   "cell_type": "code",
   "execution_count": null,
   "id": "f7639e7b-7c1b-4bae-a7bb-6a088c78a1f4",
   "metadata": {},
   "outputs": [],
   "source": []
  },
  {
   "cell_type": "code",
   "execution_count": 45,
   "id": "ed8cc933-1c07-4ac3-a882-63bb85dde36f",
   "metadata": {},
   "outputs": [
    {
     "ename": "KeyError",
     "evalue": "'normal_adhd'",
     "output_type": "error",
     "traceback": [
      "\u001b[1;31m---------------------------------------------------------------------------\u001b[0m",
      "\u001b[1;31mKeyError\u001b[0m                                  Traceback (most recent call last)",
      "File \u001b[1;32mD:\\SOFTWARE\\Python\\Lib\\site-packages\\pandas\\core\\indexes\\base.py:3653\u001b[0m, in \u001b[0;36mIndex.get_loc\u001b[1;34m(self, key)\u001b[0m\n\u001b[0;32m   3652\u001b[0m \u001b[38;5;28;01mtry\u001b[39;00m:\n\u001b[1;32m-> 3653\u001b[0m     \u001b[38;5;28;01mreturn\u001b[39;00m \u001b[38;5;28;43mself\u001b[39;49m\u001b[38;5;241;43m.\u001b[39;49m\u001b[43m_engine\u001b[49m\u001b[38;5;241;43m.\u001b[39;49m\u001b[43mget_loc\u001b[49m\u001b[43m(\u001b[49m\u001b[43mcasted_key\u001b[49m\u001b[43m)\u001b[49m\n\u001b[0;32m   3654\u001b[0m \u001b[38;5;28;01mexcept\u001b[39;00m \u001b[38;5;167;01mKeyError\u001b[39;00m \u001b[38;5;28;01mas\u001b[39;00m err:\n",
      "File \u001b[1;32mD:\\SOFTWARE\\Python\\Lib\\site-packages\\pandas\\_libs\\index.pyx:147\u001b[0m, in \u001b[0;36mpandas._libs.index.IndexEngine.get_loc\u001b[1;34m()\u001b[0m\n",
      "File \u001b[1;32mD:\\SOFTWARE\\Python\\Lib\\site-packages\\pandas\\_libs\\index.pyx:176\u001b[0m, in \u001b[0;36mpandas._libs.index.IndexEngine.get_loc\u001b[1;34m()\u001b[0m\n",
      "File \u001b[1;32mpandas\\_libs\\hashtable_class_helper.pxi:7080\u001b[0m, in \u001b[0;36mpandas._libs.hashtable.PyObjectHashTable.get_item\u001b[1;34m()\u001b[0m\n",
      "File \u001b[1;32mpandas\\_libs\\hashtable_class_helper.pxi:7088\u001b[0m, in \u001b[0;36mpandas._libs.hashtable.PyObjectHashTable.get_item\u001b[1;34m()\u001b[0m\n",
      "\u001b[1;31mKeyError\u001b[0m: 'normal_adhd'",
      "\nThe above exception was the direct cause of the following exception:\n",
      "\u001b[1;31mKeyError\u001b[0m                                  Traceback (most recent call last)",
      "Cell \u001b[1;32mIn[45], line 13\u001b[0m\n\u001b[0;32m     10\u001b[0m adhd_col \u001b[38;5;241m=\u001b[39m \u001b[38;5;124mf\u001b[39m\u001b[38;5;124m'\u001b[39m\u001b[38;5;132;01m{\u001b[39;00madhd_category\u001b[38;5;132;01m}\u001b[39;00m\u001b[38;5;124m_adhd\u001b[39m\u001b[38;5;124m'\u001b[39m\n\u001b[0;32m     11\u001b[0m asd_col \u001b[38;5;241m=\u001b[39m \u001b[38;5;124mf\u001b[39m\u001b[38;5;124m'\u001b[39m\u001b[38;5;132;01m{\u001b[39;00masd_category\u001b[38;5;132;01m}\u001b[39;00m\u001b[38;5;124m_asd\u001b[39m\u001b[38;5;124m'\u001b[39m\n\u001b[1;32m---> 13\u001b[0m intersection_count \u001b[38;5;241m=\u001b[39m \u001b[43mcbcl\u001b[49m\u001b[43m[\u001b[49m\u001b[43madhd_col\u001b[49m\u001b[43m]\u001b[49m \u001b[38;5;241m&\u001b[39m cbcl[asd_col]\n\u001b[0;32m     14\u001b[0m total_count \u001b[38;5;241m=\u001b[39m v[adhd_col] \u001b[38;5;241m|\u001b[39m cbcl[asd_col]\n\u001b[0;32m     16\u001b[0m row_data\u001b[38;5;241m.\u001b[39mappend(\u001b[38;5;124mf\u001b[39m\u001b[38;5;124m\"\u001b[39m\u001b[38;5;132;01m{\u001b[39;00mintersection_count\u001b[38;5;241m.\u001b[39msum()\u001b[38;5;132;01m}\u001b[39;00m\u001b[38;5;124m / \u001b[39m\u001b[38;5;132;01m{\u001b[39;00mtotal_count\u001b[38;5;241m.\u001b[39msum()\u001b[38;5;132;01m}\u001b[39;00m\u001b[38;5;124m\"\u001b[39m)\n",
      "File \u001b[1;32mD:\\SOFTWARE\\Python\\Lib\\site-packages\\pandas\\core\\frame.py:3761\u001b[0m, in \u001b[0;36mDataFrame.__getitem__\u001b[1;34m(self, key)\u001b[0m\n\u001b[0;32m   3759\u001b[0m \u001b[38;5;28;01mif\u001b[39;00m \u001b[38;5;28mself\u001b[39m\u001b[38;5;241m.\u001b[39mcolumns\u001b[38;5;241m.\u001b[39mnlevels \u001b[38;5;241m>\u001b[39m \u001b[38;5;241m1\u001b[39m:\n\u001b[0;32m   3760\u001b[0m     \u001b[38;5;28;01mreturn\u001b[39;00m \u001b[38;5;28mself\u001b[39m\u001b[38;5;241m.\u001b[39m_getitem_multilevel(key)\n\u001b[1;32m-> 3761\u001b[0m indexer \u001b[38;5;241m=\u001b[39m \u001b[38;5;28;43mself\u001b[39;49m\u001b[38;5;241;43m.\u001b[39;49m\u001b[43mcolumns\u001b[49m\u001b[38;5;241;43m.\u001b[39;49m\u001b[43mget_loc\u001b[49m\u001b[43m(\u001b[49m\u001b[43mkey\u001b[49m\u001b[43m)\u001b[49m\n\u001b[0;32m   3762\u001b[0m \u001b[38;5;28;01mif\u001b[39;00m is_integer(indexer):\n\u001b[0;32m   3763\u001b[0m     indexer \u001b[38;5;241m=\u001b[39m [indexer]\n",
      "File \u001b[1;32mD:\\SOFTWARE\\Python\\Lib\\site-packages\\pandas\\core\\indexes\\base.py:3655\u001b[0m, in \u001b[0;36mIndex.get_loc\u001b[1;34m(self, key)\u001b[0m\n\u001b[0;32m   3653\u001b[0m     \u001b[38;5;28;01mreturn\u001b[39;00m \u001b[38;5;28mself\u001b[39m\u001b[38;5;241m.\u001b[39m_engine\u001b[38;5;241m.\u001b[39mget_loc(casted_key)\n\u001b[0;32m   3654\u001b[0m \u001b[38;5;28;01mexcept\u001b[39;00m \u001b[38;5;167;01mKeyError\u001b[39;00m \u001b[38;5;28;01mas\u001b[39;00m err:\n\u001b[1;32m-> 3655\u001b[0m     \u001b[38;5;28;01mraise\u001b[39;00m \u001b[38;5;167;01mKeyError\u001b[39;00m(key) \u001b[38;5;28;01mfrom\u001b[39;00m \u001b[38;5;21;01merr\u001b[39;00m\n\u001b[0;32m   3656\u001b[0m \u001b[38;5;28;01mexcept\u001b[39;00m \u001b[38;5;167;01mTypeError\u001b[39;00m:\n\u001b[0;32m   3657\u001b[0m     \u001b[38;5;66;03m# If we have a listlike key, _check_indexing_error will raise\u001b[39;00m\n\u001b[0;32m   3658\u001b[0m     \u001b[38;5;66;03m#  InvalidIndexError. Otherwise we fall through and re-raise\u001b[39;00m\n\u001b[0;32m   3659\u001b[0m     \u001b[38;5;66;03m#  the TypeError.\u001b[39;00m\n\u001b[0;32m   3660\u001b[0m     \u001b[38;5;28mself\u001b[39m\u001b[38;5;241m.\u001b[39m_check_indexing_error(key)\n",
      "\u001b[1;31mKeyError\u001b[0m: 'normal_adhd'"
     ]
    }
   ],
   "source": [
    "# Create a 3x3 matrix for intersections of ADHD and ASD\n",
    "adhd_categories = ['normal', 'borderline', 'clinical']\n",
    "asd_categories = ['normal', 'borderline', 'clinical']\n",
    "\n",
    "matrix_data = []\n",
    "\n",
    "for adhd_category in adhd_categories:\n",
    "    row_data = []\n",
    "    for asd_category in asd_categories:\n",
    "        adhd_col = f'{adhd_category}_adhd'\n",
    "        asd_col = f'{asd_category}_asd'\n",
    "        \n",
    "        intersection_count = cbcl[adhd_col] & cbcl[asd_col]\n",
    "        total_count = v[adhd_col] | cbcl[asd_col]\n",
    "        \n",
    "        row_data.append(f\"{intersection_count.sum()} / {total_count.sum()}\")\n",
    "\n",
    "    matrix_data.append(row_data)\n",
    "\n",
    "# Create a DataFrame for the intersection matrix\n",
    "intersection_matrix = pd.DataFrame(matrix_data, index=adhd_categories, columns=asd_categories)\n",
    "\n",
    "print(intersection_matrix)"
   ]
  },
  {
   "cell_type": "code",
   "execution_count": null,
   "id": "9be2c751-f26c-49f1-8b18-6b9d97d94910",
   "metadata": {},
   "outputs": [],
   "source": []
  }
 ],
 "metadata": {
  "kernelspec": {
   "display_name": "Python 3 (ipykernel)",
   "language": "python",
   "name": "python3"
  },
  "language_info": {
   "codemirror_mode": {
    "name": "ipython",
    "version": 3
   },
   "file_extension": ".py",
   "mimetype": "text/x-python",
   "name": "python",
   "nbconvert_exporter": "python",
   "pygments_lexer": "ipython3",
   "version": "3.11.4"
  }
 },
 "nbformat": 4,
 "nbformat_minor": 5
}
