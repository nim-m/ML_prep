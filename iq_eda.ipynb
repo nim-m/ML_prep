{
 "cells": [
  {
   "cell_type": "markdown",
   "id": "379c0b73-b0d5-4034-ae93-e4989edec8d6",
   "metadata": {},
   "source": [
    "## import libraries"
   ]
  },
  {
   "cell_type": "code",
   "execution_count": 1,
   "id": "4bd60e02-2d8b-4e90-a00f-13299052c206",
   "metadata": {},
   "outputs": [],
   "source": [
    "import pandas as pd\n",
    "import numpy as np\n",
    "import matplotlib.pyplot as plt\n",
    "import seaborn as sns"
   ]
  },
  {
   "cell_type": "markdown",
   "id": "b47bedd4-96ff-4d91-974e-2c85aaa208a8",
   "metadata": {},
   "source": [
    "## load datasets"
   ]
  },
  {
   "cell_type": "code",
   "execution_count": 9,
   "id": "4a25d3b9-f5d4-4f5e-9f13-8b09f3fe2fac",
   "metadata": {},
   "outputs": [
    {
     "name": "stderr",
     "output_type": "stream",
     "text": [
      "C:\\Users\\DELL\\AppData\\Local\\Temp\\ipykernel_9072\\3082356719.py:5: DtypeWarning: Columns (6) have mixed types. Specify dtype option on import or set low_memory=False.\n",
      "  dcdq = pd.read_csv(\"dcdq-2023-07-21.csv\")\n",
      "C:\\Users\\DELL\\AppData\\Local\\Temp\\ipykernel_9072\\3082356719.py:11: DtypeWarning: Columns (22,24) have mixed types. Specify dtype option on import or set low_memory=False.\n",
      "  core = pd.read_csv(\"core_descriptive_variables-2023-07-21.csv\")\n",
      "C:\\Users\\DELL\\AppData\\Local\\Temp\\ipykernel_9072\\3082356719.py:12: DtypeWarning: Columns (34) have mixed types. Specify dtype option on import or set low_memory=False.\n",
      "  indi = pd.read_csv(\"individuals_registration-2023-07-21.csv\")\n"
     ]
    }
   ],
   "source": [
    "cbcl = pd.read_csv('cbcl_1_5-2023-07-21.csv')\n",
    "iq = pd.read_csv(\"iq-2023-07-21.csv\")\n",
    "\n",
    "basic = pd.read_csv(\"basic_medical_screening-2023-07-21.csv\")\n",
    "dcdq = pd.read_csv(\"dcdq-2023-07-21.csv\")\n",
    "vineland = pd.read_csv(\"vineland-3-2023-07-21.csv\")\n",
    "rbsr = pd.read_csv(\"rbsr-2023-07-21.csv\")\n",
    "scq = pd.read_csv(\"scq-2023-07-21.csv\")\n",
    "\n",
    "background = pd.read_csv(\"background_history_child-2023-07-21.csv\")\n",
    "core = pd.read_csv(\"core_descriptive_variables-2023-07-21.csv\")\n",
    "indi = pd.read_csv(\"individuals_registration-2023-07-21.csv\")"
   ]
  },
  {
   "cell_type": "markdown",
   "id": "e8cf2488-2301-409d-b0fa-400b76197474",
   "metadata": {
    "jp-MarkdownHeadingCollapsed": true
   },
   "source": [
    "## Merging of datasets with IQ data\n",
    "\n",
    "- HFA, LFA\n",
    "- ASD vs non ASD\n",
    "- comorbidities\n",
    "- age based distribution (months)"
   ]
  },
  {
   "cell_type": "code",
   "execution_count": 50,
   "id": "f185b1ed-1853-4c86-8b94-8101483c4311",
   "metadata": {},
   "outputs": [],
   "source": [
    "# single merges\n",
    "iq_basic = pd.merge(iq, basic, on=\"subject_sp_id\", how=\"inner\")\n",
    "iq_cbcl = pd.merge(iq, cbcl, on=\"subject_sp_id\", how=\"inner\")\n",
    "\n",
    "iq_scq = pd.merge(iq, scq, on=\"subject_sp_id\", how=\"inner\")\n",
    "iq_vineland = pd.merge(iq, vineland, on=\"subject_sp_id\", how=\"inner\")\n",
    "iq_dcdq = pd.merge(iq, dcdq, on=\"subject_sp_id\", how=\"inner\")\n",
    "iq_rbsr = pd.merge(iq, rbsr, on=\"subject_sp_id\", how=\"inner\")\n",
    "\n",
    "# multi merge\n",
    "iq_basic_cbcl = pd.merge(iq_basic, cbcl, on=\"subject_sp_id\", how=\"inner\")"
   ]
  },
  {
   "cell_type": "code",
   "execution_count": 62,
   "id": "f1e93500-9277-46c3-8930-a352ec1bf6fd",
   "metadata": {},
   "outputs": [
    {
     "name": "stdout",
     "output_type": "stream",
     "text": [
      "iq_basic (4182, 158)\n",
      "iq_cbcl (129, 200)\n",
      "iq_scq (3808, 80)\n",
      "iq_vineland (1543, 111)\n",
      "iq_dcdq (2543, 60)\n",
      "iq_rbsr (3076, 90)\n"
     ]
    }
   ],
   "source": [
    "frames = ['iq_basic', 'iq_cbcl', 'iq_scq', 'iq_vineland', 'iq_dcdq', 'iq_rbsr']\n",
    "\n",
    "for df_name in frames:\n",
    "    df = globals()[f'{df_name}']\n",
    "    print(df_name, df.shape)"
   ]
  },
  {
   "cell_type": "markdown",
   "id": "4631aeb6-621e-4c00-8b00-92ba8986989b",
   "metadata": {
    "jp-MarkdownHeadingCollapsed": true
   },
   "source": [
    "## IQ data (n=5966)"
   ]
  },
  {
   "cell_type": "code",
   "execution_count": 30,
   "id": "d806ce3e-83a9-4ceb-85b3-5c4cbde25bce",
   "metadata": {},
   "outputs": [
    {
     "data": {
      "text/plain": [
       "(5966, 26)"
      ]
     },
     "execution_count": 30,
     "metadata": {},
     "output_type": "execute_result"
    }
   ],
   "source": [
    "iq.shape"
   ]
  },
  {
   "cell_type": "markdown",
   "id": "f0745824-378c-41da-b330-5dfd87774b52",
   "metadata": {
    "jp-MarkdownHeadingCollapsed": true
   },
   "source": [
    "### High functioning autism subset in IQ data (total=5966, hfa=1302)\n",
    "\n",
    "Including avg, high_avg and supe type intel_class"
   ]
  },
  {
   "cell_type": "code",
   "execution_count": 92,
   "id": "25398884-7e41-4773-8f8f-679d0a46ad58",
   "metadata": {},
   "outputs": [
    {
     "data": {
      "text/plain": [
       "(1302, 26)"
      ]
     },
     "execution_count": 92,
     "metadata": {},
     "output_type": "execute_result"
    }
   ],
   "source": [
    "hfa_iq = iq[iq['intel_class'].isin(['avg','high_avg', 'supe'])]\n",
    "hfa_iq.shape"
   ]
  },
  {
   "cell_type": "markdown",
   "id": "35a678ea-3bc1-4a67-a6c5-01382977c12d",
   "metadata": {
    "jp-MarkdownHeadingCollapsed": true
   },
   "source": [
    "### HFA subset in iq_basic data (total=4182, hfa=253)"
   ]
  },
  {
   "cell_type": "code",
   "execution_count": 91,
   "id": "d6fd83de-c64d-42e4-9f2b-7e0d560903f1",
   "metadata": {},
   "outputs": [
    {
     "data": {
      "text/plain": [
       "(253, 158)"
      ]
     },
     "execution_count": 91,
     "metadata": {},
     "output_type": "execute_result"
    }
   ],
   "source": [
    "hfa_iq_basic = iq_basic[iq_basic['intel_class'].isin(['high_avg', 'supe'])]\n",
    "hfa_iq_basic.shape"
   ]
  },
  {
   "cell_type": "markdown",
   "id": "f8f37afa-8c3d-48b2-b4e2-1db1f0d9e501",
   "metadata": {
    "jp-MarkdownHeadingCollapsed": true
   },
   "source": [
    "### ASD (asd=5638) vs non-ASD (no_asd=97,unknown=998) in IQ data"
   ]
  },
  {
   "cell_type": "code",
   "execution_count": 42,
   "id": "fe336069-b0c1-4711-8527-db2423101c32",
   "metadata": {},
   "outputs": [
    {
     "data": {
      "image/png": "[encoded data removed]",
      "text/plain": [
       "<Figure size 640x480 with 1 Axes>"
      ]
     },
     "metadata": {},
     "output_type": "display_data"
    },
    {
     "name": "stdout",
     "output_type": "stream",
     "text": [
      "asd_verif\n",
      "1      5638\n",
      "998     231\n",
      "0        97\n",
      "Name: count, dtype: int64\n"
     ]
    }
   ],
   "source": [
    "# ASD vs non-ASD\n",
    "asd_counts = iq['asd_verif'].value_counts()\n",
    "\n",
    "plt.pie(asd_counts, labels=asd_counts.index)\n",
    "plt.title(\"ASD v/s non-ASD Distribution in IQ data\")\n",
    "plt.show()\n",
    "\n",
    "print(asd_counts)"
   ]
  },
  {
   "cell_type": "markdown",
   "id": "d86845bd-29cb-454f-bedd-4a678c560487",
   "metadata": {
    "jp-MarkdownHeadingCollapsed": true
   },
   "source": [
    "### intel_class distribution in IQ data (detailed)"
   ]
  },
  {
   "cell_type": "code",
   "execution_count": 43,
   "id": "fb506991-11eb-4be9-a1b3-0ee2e5e0e64e",
   "metadata": {},
   "outputs": [
    {
     "data": {
      "image/png": "[encoded data removed]",
      "text/plain": [
       "<Figure size 640x480 with 1 Axes>"
      ]
     },
     "metadata": {},
     "output_type": "display_data"
    },
    {
     "name": "stdout",
     "output_type": "stream",
     "text": [
      "intel_class\n",
      "avg         978\n",
      "low_avg     580\n",
      "id_nos      566\n",
      "border      339\n",
      "mild        306\n",
      "moderate    226\n",
      "high_avg    218\n",
      "supe        106\n",
      "severe       59\n",
      "profound     42\n",
      "Name: count, dtype: int64\n"
     ]
    }
   ],
   "source": [
    "iq_counts = iq['intel_class'].value_counts()\n",
    "\n",
    "plt.pie(iq['intel_class'].value_counts(), labels=iq_counts.index)\n",
    "plt.title(\"intel_class Distribution in IQ data\")\n",
    "plt.show()\n",
    "\n",
    "print(iq_counts)"
   ]
  },
  {
   "cell_type": "markdown",
   "id": "f62c6c4a-e629-4c52-ac77-903dc42236c5",
   "metadata": {
    "jp-MarkdownHeadingCollapsed": true
   },
   "source": [
    "## Basic medical screening data (n=192557)"
   ]
  },
  {
   "cell_type": "code",
   "execution_count": 87,
   "id": "1f7bc4b2-cb54-4930-95da-7eacf52ec593",
   "metadata": {
    "scrolled": true
   },
   "outputs": [
    {
     "name": "stdout",
     "output_type": "stream",
     "text": [
      "subject_sp_id\n",
      "respondent_sp_id\n",
      "family_sf_id\n",
      "biomother_sp_id\n",
      "biofather_sp_id\n",
      "sex\n",
      "current_depend_adult\n",
      "asd\n",
      "age_at_eval_months\n",
      "age_at_eval_years\n",
      "basic_medical_measure_validity_flag\n",
      "attn_behav\n",
      "behav_adhd\n",
      "behav_conduct\n",
      "behav_intermitt_explos\n",
      "behav_odd\n",
      "birth_def_bone\n",
      "birth_def_bone_club\n",
      "birth_def_bone_miss\n",
      "birth_def_bone_polydact\n",
      "birth_def_bone_spine\n",
      "birth_def_cleft_lip\n",
      "birth_def_cleft_palate\n",
      "birth_def_cns\n",
      "birth_def_cns_brain\n",
      "birth_def_cns_myelo\n",
      "birth_def_fac\n",
      "birth_def_gastro\n",
      "birth_def_gi_esoph_atres\n",
      "birth_def_gi_hirschprung\n",
      "birth_def_gi_intest_malrot\n",
      "birth_def_gi_pylor_sten\n",
      "birth_def_thorac\n",
      "birth_def_thorac_cdh\n",
      "birth_def_thorac_heart\n",
      "birth_def_thorac_lung\n",
      "birth_def_urogen\n",
      "birth_def_urogen_hypospad\n",
      "birth_def_urogen_renal\n",
      "birth_def_urogen_renal_agen\n",
      "birth_def_urogen_uter_agen\n",
      "birth_def_oth_calc\n",
      "birth_etoh_subst\n",
      "birth_ivh\n",
      "birth_oth_calc\n",
      "birth_oxygen\n",
      "birth_pg_inf\n",
      "birth_prem\n",
      "cog_med\n",
      "dev_id\n",
      "dev_lang\n",
      "dev_lang_dis\n",
      "dev_ld\n",
      "dev_motor\n",
      "dev_mutism\n",
      "dev_soc_prag\n",
      "dev_speech\n",
      "eating_probs\n",
      "eating_disorder\n",
      "encopres\n",
      "enures\n",
      "etoh_subst\n",
      "feeding_dx\n",
      "gen_dx_oth_calc_self_report\n",
      "gen_test\n",
      "gen_test_aut_dd\n",
      "gen_test_cgh_cma\n",
      "gen_test_chrom_karyo\n",
      "gen_test_ep\n",
      "gen_test_fish_angel\n",
      "gen_test_fish_digeorge\n",
      "gen_test_fish_williams\n",
      "gen_test_fish_oth\n",
      "gen_test_frax\n",
      "gen_test_id\n",
      "gen_test_mecp2\n",
      "gen_test_nf1\n",
      "gen_test_noonan\n",
      "gen_test_pten\n",
      "gen_test_tsc\n",
      "gen_test_unknown\n",
      "gen_test_wes\n",
      "gen_test_wgs\n",
      "gen_test_oth_calc\n",
      "gest_age\n",
      "growth_low_wt\n",
      "growth_macroceph\n",
      "growth_microceph\n",
      "growth_obes\n",
      "growth_short\n",
      "growth_oth_calc\n",
      "med_cond_birth\n",
      "med_cond_birth_def\n",
      "med_cond_growth\n",
      "med_cond_neuro\n",
      "med_cond_visaud\n",
      "mood_anx\n",
      "mood_bipol\n",
      "mood_dep\n",
      "mood_dmd\n",
      "mood_hoard\n",
      "mood_ocd\n",
      "mood_or_anx\n",
      "mood_sep_anx\n",
      "mood_soc_anx\n",
      "neuro_inf\n",
      "neuro_lead\n",
      "neuro_sz\n",
      "neuro_tbi\n",
      "neuro_oth_calc\n",
      "pers_dis\n",
      "prev_study_agre\n",
      "prev_study_asc\n",
      "prev_study_charge\n",
      "prev_study_earli\n",
      "prev_study_marbles\n",
      "prev_study_mssng\n",
      "prev_study_seed\n",
      "prev_study_ssc\n",
      "prev_study_vip\n",
      "prev_study_oth_calc\n",
      "psych_oth_calc\n",
      "schiz\n",
      "sleep_dx\n",
      "sleep_eat_toilet\n",
      "sleep_probs\n",
      "tics\n",
      "visaud_blind\n",
      "visaud_catar\n",
      "visaud_deaf\n",
      "visaud_strab\n",
      "prev_study_calc\n",
      "eval_year\n"
     ]
    }
   ],
   "source": [
    "for element in basic.columns:\n",
    "    print(element)"
   ]
  },
  {
   "cell_type": "code",
   "execution_count": 90,
   "id": "d1d31622-dc55-41f6-ab96-1d0f32819f1d",
   "metadata": {},
   "outputs": [
    {
     "data": {
      "text/plain": [
       "(192557, 133)"
      ]
     },
     "execution_count": 90,
     "metadata": {},
     "output_type": "execute_result"
    }
   ],
   "source": [
    "basic.shape"
   ]
  },
  {
   "cell_type": "markdown",
   "id": "16a89a5a-1207-4da5-9a03-4e7adf240dbf",
   "metadata": {
    "jp-MarkdownHeadingCollapsed": true
   },
   "source": [
    "### ASD vs non-ASD in IQ, basic, and IQ_basic data\n",
    "\n",
    "**Conflict in data:** 228 entries in iq_basic have 'asd'=True and 'asd_verif'!=1"
   ]
  },
  {
   "cell_type": "code",
   "execution_count": 88,
   "id": "b2e0f1ac-72a1-4cc2-8104-77aed3e04265",
   "metadata": {},
   "outputs": [
    {
     "data": {
      "text/plain": [
       "asd_verif\n",
       "1      5638\n",
       "998     231\n",
       "0        97\n",
       "Name: count, dtype: int64"
      ]
     },
     "execution_count": 88,
     "metadata": {},
     "output_type": "execute_result"
    }
   ],
   "source": [
    "iq['asd_verif'].fillna(value=0)\n",
    "iq['asd_verif'].value_counts()"
   ]
  },
  {
   "cell_type": "code",
   "execution_count": 75,
   "id": "cf5a2c79-3631-483b-b130-5a5177997d87",
   "metadata": {},
   "outputs": [
    {
     "data": {
      "text/plain": [
       "asd\n",
       "False    112926\n",
       "True      79631\n",
       "Name: count, dtype: int64"
      ]
     },
     "execution_count": 75,
     "metadata": {},
     "output_type": "execute_result"
    }
   ],
   "source": [
    "basic['asd'].value_counts()"
   ]
  },
  {
   "cell_type": "code",
   "execution_count": 74,
   "id": "9da15cb6-9f18-4257-995d-c1cfe99808f8",
   "metadata": {},
   "outputs": [
    {
     "data": {
      "text/plain": [
       "asd\n",
       "True    4182\n",
       "Name: count, dtype: int64"
      ]
     },
     "execution_count": 74,
     "metadata": {},
     "output_type": "execute_result"
    }
   ],
   "source": [
    "iq_basic['asd'].fillna(value=0)\n",
    "iq_basic['asd'].value_counts()"
   ]
  },
  {
   "cell_type": "code",
   "execution_count": 82,
   "id": "e838e7af-ee96-44d0-a7f7-94ba0b5dc478",
   "metadata": {},
   "outputs": [
    {
     "data": {
      "text/plain": [
       "asd_verif\n",
       "1      3954\n",
       "998     159\n",
       "0        69\n",
       "Name: count, dtype: int64"
      ]
     },
     "execution_count": 82,
     "metadata": {},
     "output_type": "execute_result"
    }
   ],
   "source": [
    "iq_basic['asd_verif'].fillna(value=0)\n",
    "iq_basic['asd_verif'].value_counts()"
   ]
  },
  {
   "cell_type": "code",
   "execution_count": 94,
   "id": "73a27f7c-c5d0-4507-88fd-5ef8109db74d",
   "metadata": {},
   "outputs": [
    {
     "data": {
      "text/html": [
       "<div>\n",
       "<style scoped>\n",
       "    .dataframe tbody tr th:only-of-type {\n",
       "        vertical-align: middle;\n",
       "    }\n",
       "\n",
       "    .dataframe tbody tr th {\n",
       "        vertical-align: top;\n",
       "    }\n",
       "\n",
       "    .dataframe thead th {\n",
       "        text-align: right;\n",
       "    }\n",
       "</style>\n",
       "<table border=\"1\" class=\"dataframe\">\n",
       "  <thead>\n",
       "    <tr style=\"text-align: right;\">\n",
       "      <th></th>\n",
       "      <th>subject_sp_id</th>\n",
       "      <th>family_sf_id_x</th>\n",
       "      <th>test_year</th>\n",
       "      <th>age_test_date_months</th>\n",
       "      <th>test_type</th>\n",
       "      <th>intel_class</th>\n",
       "      <th>invalid</th>\n",
       "      <th>asd_verif</th>\n",
       "      <th>fsiq</th>\n",
       "      <th>fsiq_vers</th>\n",
       "      <th>...</th>\n",
       "      <th>sleep_dx</th>\n",
       "      <th>sleep_eat_toilet</th>\n",
       "      <th>sleep_probs</th>\n",
       "      <th>tics</th>\n",
       "      <th>visaud_blind</th>\n",
       "      <th>visaud_catar</th>\n",
       "      <th>visaud_deaf</th>\n",
       "      <th>visaud_strab</th>\n",
       "      <th>prev_study_calc</th>\n",
       "      <th>eval_year</th>\n",
       "    </tr>\n",
       "  </thead>\n",
       "  <tbody>\n",
       "    <tr>\n",
       "      <th>32</th>\n",
       "      <td>SP0000565</td>\n",
       "      <td>SF0000528</td>\n",
       "      <td>2013</td>\n",
       "      <td>76.0</td>\n",
       "      <td>0.0</td>\n",
       "      <td>NaN</td>\n",
       "      <td>NaN</td>\n",
       "      <td>998</td>\n",
       "      <td>NaN</td>\n",
       "      <td>NaN</td>\n",
       "      <td>...</td>\n",
       "      <td>NaN</td>\n",
       "      <td>1.0</td>\n",
       "      <td>1.0</td>\n",
       "      <td>NaN</td>\n",
       "      <td>NaN</td>\n",
       "      <td>NaN</td>\n",
       "      <td>NaN</td>\n",
       "      <td>NaN</td>\n",
       "      <td>NaN</td>\n",
       "      <td>2016</td>\n",
       "    </tr>\n",
       "    <tr>\n",
       "      <th>107</th>\n",
       "      <td>SP0005936</td>\n",
       "      <td>SF0005936</td>\n",
       "      <td>2017</td>\n",
       "      <td>70.0</td>\n",
       "      <td>0.0</td>\n",
       "      <td>NaN</td>\n",
       "      <td>NaN</td>\n",
       "      <td>998</td>\n",
       "      <td>das</td>\n",
       "      <td>NaN</td>\n",
       "      <td>...</td>\n",
       "      <td>NaN</td>\n",
       "      <td>NaN</td>\n",
       "      <td>NaN</td>\n",
       "      <td>NaN</td>\n",
       "      <td>NaN</td>\n",
       "      <td>NaN</td>\n",
       "      <td>NaN</td>\n",
       "      <td>NaN</td>\n",
       "      <td>NaN</td>\n",
       "      <td>2016</td>\n",
       "    </tr>\n",
       "    <tr>\n",
       "      <th>109</th>\n",
       "      <td>SP0006250</td>\n",
       "      <td>SF0006250</td>\n",
       "      <td>2018</td>\n",
       "      <td>103.0</td>\n",
       "      <td>1.0</td>\n",
       "      <td>NaN</td>\n",
       "      <td>0.0</td>\n",
       "      <td>998</td>\n",
       "      <td>wasi</td>\n",
       "      <td>2.0</td>\n",
       "      <td>...</td>\n",
       "      <td>NaN</td>\n",
       "      <td>NaN</td>\n",
       "      <td>NaN</td>\n",
       "      <td>NaN</td>\n",
       "      <td>NaN</td>\n",
       "      <td>NaN</td>\n",
       "      <td>NaN</td>\n",
       "      <td>NaN</td>\n",
       "      <td>NaN</td>\n",
       "      <td>2016</td>\n",
       "    </tr>\n",
       "    <tr>\n",
       "      <th>149</th>\n",
       "      <td>SP0011267</td>\n",
       "      <td>SF0011267</td>\n",
       "      <td>2013</td>\n",
       "      <td>71.0</td>\n",
       "      <td>1.0</td>\n",
       "      <td>avg</td>\n",
       "      <td>NaN</td>\n",
       "      <td>0</td>\n",
       "      <td>sb</td>\n",
       "      <td>5.0</td>\n",
       "      <td>...</td>\n",
       "      <td>NaN</td>\n",
       "      <td>NaN</td>\n",
       "      <td>1.0</td>\n",
       "      <td>1.0</td>\n",
       "      <td>NaN</td>\n",
       "      <td>NaN</td>\n",
       "      <td>NaN</td>\n",
       "      <td>NaN</td>\n",
       "      <td>NaN</td>\n",
       "      <td>2016</td>\n",
       "    </tr>\n",
       "    <tr>\n",
       "      <th>171</th>\n",
       "      <td>SP0012746</td>\n",
       "      <td>SF0012713</td>\n",
       "      <td>2012</td>\n",
       "      <td>48.0</td>\n",
       "      <td>1.0</td>\n",
       "      <td>avg</td>\n",
       "      <td>NaN</td>\n",
       "      <td>0</td>\n",
       "      <td>wppsi</td>\n",
       "      <td>3.0</td>\n",
       "      <td>...</td>\n",
       "      <td>NaN</td>\n",
       "      <td>1.0</td>\n",
       "      <td>NaN</td>\n",
       "      <td>NaN</td>\n",
       "      <td>NaN</td>\n",
       "      <td>NaN</td>\n",
       "      <td>NaN</td>\n",
       "      <td>NaN</td>\n",
       "      <td>NaN</td>\n",
       "      <td>2016</td>\n",
       "    </tr>\n",
       "    <tr>\n",
       "      <th>...</th>\n",
       "      <td>...</td>\n",
       "      <td>...</td>\n",
       "      <td>...</td>\n",
       "      <td>...</td>\n",
       "      <td>...</td>\n",
       "      <td>...</td>\n",
       "      <td>...</td>\n",
       "      <td>...</td>\n",
       "      <td>...</td>\n",
       "      <td>...</td>\n",
       "      <td>...</td>\n",
       "      <td>...</td>\n",
       "      <td>...</td>\n",
       "      <td>...</td>\n",
       "      <td>...</td>\n",
       "      <td>...</td>\n",
       "      <td>...</td>\n",
       "      <td>...</td>\n",
       "      <td>...</td>\n",
       "      <td>...</td>\n",
       "      <td>...</td>\n",
       "    </tr>\n",
       "    <tr>\n",
       "      <th>3968</th>\n",
       "      <td>SP0491375</td>\n",
       "      <td>SF0491375</td>\n",
       "      <td>2019</td>\n",
       "      <td>629.0</td>\n",
       "      <td>1.0</td>\n",
       "      <td>id_nos</td>\n",
       "      <td>NaN</td>\n",
       "      <td>998</td>\n",
       "      <td>wasi</td>\n",
       "      <td>2.0</td>\n",
       "      <td>...</td>\n",
       "      <td>NaN</td>\n",
       "      <td>NaN</td>\n",
       "      <td>NaN</td>\n",
       "      <td>NaN</td>\n",
       "      <td>NaN</td>\n",
       "      <td>NaN</td>\n",
       "      <td>NaN</td>\n",
       "      <td>NaN</td>\n",
       "      <td>NaN</td>\n",
       "      <td>2022</td>\n",
       "    </tr>\n",
       "    <tr>\n",
       "      <th>3975</th>\n",
       "      <td>SP0492349</td>\n",
       "      <td>SF0492349</td>\n",
       "      <td>2022</td>\n",
       "      <td>171.0</td>\n",
       "      <td>1.0</td>\n",
       "      <td>avg</td>\n",
       "      <td>0.0</td>\n",
       "      <td>0</td>\n",
       "      <td>wisc</td>\n",
       "      <td>5.0</td>\n",
       "      <td>...</td>\n",
       "      <td>NaN</td>\n",
       "      <td>NaN</td>\n",
       "      <td>NaN</td>\n",
       "      <td>NaN</td>\n",
       "      <td>NaN</td>\n",
       "      <td>NaN</td>\n",
       "      <td>1.0</td>\n",
       "      <td>NaN</td>\n",
       "      <td>NaN</td>\n",
       "      <td>2022</td>\n",
       "    </tr>\n",
       "    <tr>\n",
       "      <th>4017</th>\n",
       "      <td>SP0499172</td>\n",
       "      <td>SF0499172</td>\n",
       "      <td>2021</td>\n",
       "      <td>161.0</td>\n",
       "      <td>1.0</td>\n",
       "      <td>NaN</td>\n",
       "      <td>0.0</td>\n",
       "      <td>0</td>\n",
       "      <td>wasi</td>\n",
       "      <td>2.0</td>\n",
       "      <td>...</td>\n",
       "      <td>NaN</td>\n",
       "      <td>NaN</td>\n",
       "      <td>NaN</td>\n",
       "      <td>NaN</td>\n",
       "      <td>NaN</td>\n",
       "      <td>NaN</td>\n",
       "      <td>NaN</td>\n",
       "      <td>NaN</td>\n",
       "      <td>NaN</td>\n",
       "      <td>2022</td>\n",
       "    </tr>\n",
       "    <tr>\n",
       "      <th>4054</th>\n",
       "      <td>SP0506396</td>\n",
       "      <td>SF0506396</td>\n",
       "      <td>2014</td>\n",
       "      <td>28.0</td>\n",
       "      <td>1.0</td>\n",
       "      <td>NaN</td>\n",
       "      <td>0.0</td>\n",
       "      <td>998</td>\n",
       "      <td>other</td>\n",
       "      <td>NaN</td>\n",
       "      <td>...</td>\n",
       "      <td>1.0</td>\n",
       "      <td>1.0</td>\n",
       "      <td>1.0</td>\n",
       "      <td>NaN</td>\n",
       "      <td>NaN</td>\n",
       "      <td>NaN</td>\n",
       "      <td>NaN</td>\n",
       "      <td>NaN</td>\n",
       "      <td>NaN</td>\n",
       "      <td>2022</td>\n",
       "    </tr>\n",
       "    <tr>\n",
       "      <th>4071</th>\n",
       "      <td>SP0509486</td>\n",
       "      <td>SF0509486</td>\n",
       "      <td>2016</td>\n",
       "      <td>56.0</td>\n",
       "      <td>1.0</td>\n",
       "      <td>NaN</td>\n",
       "      <td>0.0</td>\n",
       "      <td>0</td>\n",
       "      <td>das</td>\n",
       "      <td>2.0</td>\n",
       "      <td>...</td>\n",
       "      <td>1.0</td>\n",
       "      <td>1.0</td>\n",
       "      <td>NaN</td>\n",
       "      <td>NaN</td>\n",
       "      <td>NaN</td>\n",
       "      <td>NaN</td>\n",
       "      <td>NaN</td>\n",
       "      <td>1.0</td>\n",
       "      <td>NaN</td>\n",
       "      <td>2022</td>\n",
       "    </tr>\n",
       "  </tbody>\n",
       "</table>\n",
       "<p>228 rows × 158 columns</p>\n",
       "</div>"
      ],
      "text/plain": [
       "     subject_sp_id family_sf_id_x  test_year  age_test_date_months  test_type  \\\n",
       "32       SP0000565      SF0000528       2013                  76.0        0.0   \n",
       "107      SP0005936      SF0005936       2017                  70.0        0.0   \n",
       "109      SP0006250      SF0006250       2018                 103.0        1.0   \n",
       "149      SP0011267      SF0011267       2013                  71.0        1.0   \n",
       "171      SP0012746      SF0012713       2012                  48.0        1.0   \n",
       "...            ...            ...        ...                   ...        ...   \n",
       "3968     SP0491375      SF0491375       2019                 629.0        1.0   \n",
       "3975     SP0492349      SF0492349       2022                 171.0        1.0   \n",
       "4017     SP0499172      SF0499172       2021                 161.0        1.0   \n",
       "4054     SP0506396      SF0506396       2014                  28.0        1.0   \n",
       "4071     SP0509486      SF0509486       2016                  56.0        1.0   \n",
       "\n",
       "     intel_class  invalid  asd_verif   fsiq  fsiq_vers  ... sleep_dx  \\\n",
       "32           NaN      NaN        998    NaN        NaN  ...      NaN   \n",
       "107          NaN      NaN        998    das        NaN  ...      NaN   \n",
       "109          NaN      0.0        998   wasi        2.0  ...      NaN   \n",
       "149          avg      NaN          0     sb        5.0  ...      NaN   \n",
       "171          avg      NaN          0  wppsi        3.0  ...      NaN   \n",
       "...          ...      ...        ...    ...        ...  ...      ...   \n",
       "3968      id_nos      NaN        998   wasi        2.0  ...      NaN   \n",
       "3975         avg      0.0          0   wisc        5.0  ...      NaN   \n",
       "4017         NaN      0.0          0   wasi        2.0  ...      NaN   \n",
       "4054         NaN      0.0        998  other        NaN  ...      1.0   \n",
       "4071         NaN      0.0          0    das        2.0  ...      1.0   \n",
       "\n",
       "      sleep_eat_toilet  sleep_probs tics  visaud_blind visaud_catar  \\\n",
       "32                 1.0          1.0  NaN           NaN          NaN   \n",
       "107                NaN          NaN  NaN           NaN          NaN   \n",
       "109                NaN          NaN  NaN           NaN          NaN   \n",
       "149                NaN          1.0  1.0           NaN          NaN   \n",
       "171                1.0          NaN  NaN           NaN          NaN   \n",
       "...                ...          ...  ...           ...          ...   \n",
       "3968               NaN          NaN  NaN           NaN          NaN   \n",
       "3975               NaN          NaN  NaN           NaN          NaN   \n",
       "4017               NaN          NaN  NaN           NaN          NaN   \n",
       "4054               1.0          1.0  NaN           NaN          NaN   \n",
       "4071               1.0          NaN  NaN           NaN          NaN   \n",
       "\n",
       "      visaud_deaf  visaud_strab prev_study_calc  eval_year  \n",
       "32            NaN           NaN             NaN       2016  \n",
       "107           NaN           NaN             NaN       2016  \n",
       "109           NaN           NaN             NaN       2016  \n",
       "149           NaN           NaN             NaN       2016  \n",
       "171           NaN           NaN             NaN       2016  \n",
       "...           ...           ...             ...        ...  \n",
       "3968          NaN           NaN             NaN       2022  \n",
       "3975          1.0           NaN             NaN       2022  \n",
       "4017          NaN           NaN             NaN       2022  \n",
       "4054          NaN           NaN             NaN       2022  \n",
       "4071          NaN           1.0             NaN       2022  \n",
       "\n",
       "[228 rows x 158 columns]"
      ]
     },
     "execution_count": 94,
     "metadata": {},
     "output_type": "execute_result"
    }
   ],
   "source": [
    "# check for records where 'asd'==True but 'asd_verif'!=1\n",
    "\n",
    "result = iq_basic[(iq_basic['asd'] == True) & (iq_basic['asd_verif'] != 1)]\n",
    "result"
   ]
  },
  {
   "cell_type": "markdown",
   "id": "675037ec-c7df-40a5-9f47-1f61c6947d88",
   "metadata": {
    "jp-MarkdownHeadingCollapsed": true
   },
   "source": [
    "## Comorbidity analysis"
   ]
  },
  {
   "cell_type": "code",
   "execution_count": 68,
   "id": "ceef048a-0513-4c9e-ad03-085381b09dbe",
   "metadata": {
    "scrolled": true
   },
   "outputs": [
    {
     "name": "stdout",
     "output_type": "stream",
     "text": [
      "behav_adhd\n",
      "0.0    2743\n",
      "1.0    1439\n",
      "Name: count, dtype: int64\n",
      "behav_conduct\n",
      "0.0    4122\n",
      "1.0      60\n",
      "Name: count, dtype: int64\n",
      "behav_odd\n",
      "0.0    3946\n",
      "1.0     236\n",
      "Name: count, dtype: int64\n",
      "behav_intermitt_explos\n",
      "0.0    4138\n",
      "1.0      44\n",
      "Name: count, dtype: int64\n",
      "mood_anx\n",
      "0.0    3393\n",
      "1.0     789\n",
      "Name: count, dtype: int64\n",
      "mood_bipol\n",
      "0.0    4133\n",
      "1.0      49\n",
      "Name: count, dtype: int64\n",
      "mood_dep\n",
      "0.0    3926\n",
      "1.0     256\n",
      "Name: count, dtype: int64\n",
      "mood_ocd\n",
      "0.0    3913\n",
      "1.0     269\n",
      "Name: count, dtype: int64\n"
     ]
    }
   ],
   "source": [
    "parameters = ['behav_adhd','behav_conduct','behav_odd','behav_intermitt_explos','mood_anx','mood_bipol','mood_dep','mood_ocd']\n",
    "\n",
    "# in the iq_basic data, how many are positive for each of the comorbidity parameters?\n",
    "\n",
    "for para in parameters:\n",
    "    iq_basic[para] = iq_basic[para].fillna(value=0)\n",
    "    print(iq_basic[para].value_counts())"
   ]
  },
  {
   "cell_type": "markdown",
   "id": "0ff38b50-41e2-4e45-a683-a0e6d7dd914d",
   "metadata": {
    "jp-MarkdownHeadingCollapsed": true
   },
   "source": [
    "**What can I infer from this data?**"
   ]
  },
  {
   "cell_type": "markdown",
   "id": "bfb7e41a-a1ab-4f93-a132-bbdc864d3fac",
   "metadata": {},
   "source": [
    "# Minimal dataset for calculating deriv_cog_imp (total_mini=1524, less5_mini=623)\n",
    "\n",
    "NOTE: need to add Core descriptive variables(cognitive_impairment_latest) and"
   ]
  },
  {
   "cell_type": "markdown",
   "id": "07911f9a-30e0-471c-b561-5d2eeac1507d",
   "metadata": {},
   "source": [
    "**Required parameters:**\n",
    "- IQ dataset\n",
    "    - subject_sp_id\n",
    "    - fsiq < 80\n",
    "    - nviq < 80\n",
    "    - fsiq_ratio < 80\n",
    "    - nviq_ratio < 80\n",
    "    - intel_class ('profound', 'severe', 'moderate', 'mild', 'border', 'id_nos')\n",
    "- Core descriptive variables\n",
    "    - cognitive_impairment_latest\n",
    "    - language_level_latest \n",
    "- Backgroud history child\n",
    "    - cog_age_level == 'signif_below_age'\n",
    "    - regress_lang_return_y_n\n",
    "- DCDQ\n",
    "    - motor_able = no\n",
    "- Vineland\n",
    "    - communication_standard < 80\n",
    "- Basic Medical Screening\n",
    "    - dev_lang\n",
    "- Individuals registration\n",
    "    - language_level_at_enrollment"
   ]
  },
  {
   "cell_type": "code",
   "execution_count": 27,
   "id": "739c2a4f-9974-4150-8e47-66189d1ebc78",
   "metadata": {},
   "outputs": [],
   "source": [
    "# create a minimal df with only the required parameters\n",
    "# the mandates are subject_id and deriv_cog_impair\n",
    "\n",
    "# [1] merge all required datasets\n",
    "\n",
    "# dfs = [iq, vineland, basic]\n",
    "dfs = [iq, vineland, basic, cbcl, core, background, rbsr, dcdq, indi, scq]\n",
    "mini = pd.merge(dfs[0], dfs[1], on='subject_sp_id', how=\"inner\")\n",
    "\n",
    "for df in dfs[2:]:\n",
    "    mini = pd.merge(mini, df, on='subject_sp_id', how=\"inner\")\n",
    "\n",
    "mini['deriv_cog_impair'] = ''"
   ]
  },
  {
   "cell_type": "code",
   "execution_count": 86,
   "id": "3730e4dd-ff5c-48cd-bd1a-83f56d5d1470",
   "metadata": {},
   "outputs": [],
   "source": [
    "# modified code to include more parameters for calculating cognitive impairment\n",
    "dfs = [iq, vineland, basic, cbcl, core, background, rbsr, dcdq, indi, scq]\n",
    "total = dfs[0].copy(deep=True)\n",
    "\n",
    "suffixes = ['_' + str(i) for i in range(1, len(dfs))]\n",
    "\n",
    "for df, sfx in zip(dfs[1:], suffixes):\n",
    "    total = pd.merge(mini, df, on='subject_sp_id', how=\"left\", suffixes=(sfx, ''))"
   ]
  },
  {
   "cell_type": "code",
   "execution_count": 87,
   "id": "3482a375-c06e-4fd8-a5ca-4eb29510523f",
   "metadata": {},
   "outputs": [
    {
     "data": {
      "text/plain": [
       "(1524, 244)"
      ]
     },
     "execution_count": 87,
     "metadata": {},
     "output_type": "execute_result"
    }
   ],
   "source": [
    "mini.shape"
   ]
  },
  {
   "cell_type": "code",
   "execution_count": null,
   "id": "c3522872-c72d-4e76-8185-b530a2944045",
   "metadata": {},
   "outputs": [],
   "source": []
  },
  {
   "cell_type": "code",
   "execution_count": 28,
   "id": "1d2ee464-fec8-4eb4-803c-b3ac6ae54b4d",
   "metadata": {},
   "outputs": [],
   "source": [
    "less5 = mini[mini['age_test_date_months'] < 61]"
   ]
  },
  {
   "cell_type": "code",
   "execution_count": 74,
   "id": "29490cb6-3693-4fe6-b1d2-7ceb1a2fa93f",
   "metadata": {
    "scrolled": true
   },
   "outputs": [],
   "source": [
    "# [2] keep only the required parameters\n",
    "req_cols = ['subject_sp_id','asd_x','asd_verif','invalid','age_test_date_months','fsiq','nviq','fsiq_score','nviq_score','fsiq_ratio','nviq_ratio','intel_class','communication_standard','deriv_cog_impair']\n",
    "less5 = less5[req_cols]"
   ]
  },
  {
   "cell_type": "code",
   "execution_count": 82,
   "id": "43c95576-e31c-487f-8c66-1e79ef013f69",
   "metadata": {},
   "outputs": [
    {
     "name": "stdout",
     "output_type": "stream",
     "text": [
      "less5: (623, 14)\n",
      "mini: (1524, 244)\n"
     ]
    }
   ],
   "source": [
    "print(\"less5:\", less5.shape)\n",
    "print(\"mini:\", mini.shape)"
   ]
  },
  {
   "cell_type": "code",
   "execution_count": 83,
   "id": "6c0906ae-c5e8-4398-99c4-19631a1de0dd",
   "metadata": {},
   "outputs": [
    {
     "name": "stdout",
     "output_type": "stream",
     "text": [
      "subject_sp_id\n",
      "family_sf_id_x\n",
      "test_year\n",
      "age_test_date_months\n",
      "test_type\n",
      "intel_class\n",
      "invalid\n",
      "asd_verif\n",
      "fsiq\n",
      "fsiq_vers\n",
      "fsiq_other\n",
      "fsiq_score\n",
      "fsiq_floor\n",
      "viq\n",
      "viq_vers\n",
      "viq_other\n",
      "viq_score\n",
      "viq_floor\n",
      "nviq\n",
      "nviq_vers\n",
      "nviq_other\n",
      "nviq_score\n",
      "nviq_floor\n",
      "fsiq_ratio\n",
      "viq_ratio\n",
      "nviq_ratio\n",
      "respondent_sp_id_x\n",
      "family_sf_id_y\n",
      "sex_x\n",
      "asd_x\n",
      "current_depend_adult_x\n",
      "age_at_eval_months_x\n",
      "age_at_eval_years_x\n",
      "abc_standard\n",
      "communication_standard\n",
      "dls_standard\n",
      "soc_standard\n",
      "motor_standard\n",
      "abc_adaptive_level\n",
      "abc_percentile\n",
      "communication_adaptive_level\n",
      "communication_percentile\n",
      "express_v_score\n",
      "express_raw_score\n",
      "express_age\n",
      "express_est\n",
      "express_growth\n",
      "receptive_v_score\n",
      "receptive_raw_score\n",
      "receptive_age\n",
      "receptive_est\n",
      "receptive_growth\n",
      "written_v_score\n",
      "written_raw_score\n",
      "written_age\n",
      "written_est\n",
      "written_growth\n",
      "dls_adaptive_level\n",
      "dls_percentile\n",
      "community_v_score\n",
      "community_raw_score\n",
      "community_age\n",
      "community_est\n",
      "community_growth\n",
      "domestic_v_score\n",
      "domestic_raw_score\n",
      "domestic_age\n",
      "domestic_est\n",
      "domestic_growth\n",
      "personal_v_score\n",
      "personal_raw_score\n",
      "personal_age\n",
      "personal_est\n",
      "personal_growth\n",
      "soc_adaptive_level\n",
      "soc_percentile\n",
      "coping_v_score\n",
      "coping_raw_score\n",
      "coping_age\n",
      "coping_est\n",
      "coping_growth\n",
      "interpersonal_v_score\n",
      "interpersonal_raw_score\n",
      "interpersonal_age\n",
      "interpersonal_est\n",
      "interpersonal_growth\n",
      "pla_v_score\n",
      "pla_raw_score\n",
      "pla_age\n",
      "pla_est\n",
      "pla_growth\n",
      "motor_adaptive_level\n",
      "motor_percentile\n",
      "fine_v_score\n",
      "fine_raw_score\n",
      "fine_age\n",
      "fine_est\n",
      "fine_growth\n",
      "gross_v_score\n",
      "gross_raw_score\n",
      "gross_age\n",
      "gross_est\n",
      "gross_growth\n",
      "external_v_score\n",
      "external_raw_score\n",
      "external_est\n",
      "internal_v_score\n",
      "internal_raw_score\n",
      "internal_est\n",
      "lowest_sub_v\n",
      "measure_code\n",
      "respondent_sp_id_y\n",
      "family_sf_id\n",
      "biomother_sp_id\n",
      "biofather_sp_id\n",
      "sex_y\n",
      "current_depend_adult_y\n",
      "asd_y\n",
      "age_at_eval_months_y\n",
      "age_at_eval_years_y\n",
      "basic_medical_measure_validity_flag\n",
      "attn_behav\n",
      "behav_adhd\n",
      "behav_conduct\n",
      "behav_intermitt_explos\n",
      "behav_odd\n",
      "birth_def_bone\n",
      "birth_def_bone_club\n",
      "birth_def_bone_miss\n",
      "birth_def_bone_polydact\n",
      "birth_def_bone_spine\n",
      "birth_def_cleft_lip\n",
      "birth_def_cleft_palate\n",
      "birth_def_cns\n",
      "birth_def_cns_brain\n",
      "birth_def_cns_myelo\n",
      "birth_def_fac\n",
      "birth_def_gastro\n",
      "birth_def_gi_esoph_atres\n",
      "birth_def_gi_hirschprung\n",
      "birth_def_gi_intest_malrot\n",
      "birth_def_gi_pylor_sten\n",
      "birth_def_thorac\n",
      "birth_def_thorac_cdh\n",
      "birth_def_thorac_heart\n",
      "birth_def_thorac_lung\n",
      "birth_def_urogen\n",
      "birth_def_urogen_hypospad\n",
      "birth_def_urogen_renal\n",
      "birth_def_urogen_renal_agen\n",
      "birth_def_urogen_uter_agen\n",
      "birth_def_oth_calc\n",
      "birth_etoh_subst\n",
      "birth_ivh\n",
      "birth_oth_calc\n",
      "birth_oxygen\n",
      "birth_pg_inf\n",
      "birth_prem\n",
      "cog_med\n",
      "dev_id\n",
      "dev_lang\n",
      "dev_lang_dis\n",
      "dev_ld\n",
      "dev_motor\n",
      "dev_mutism\n",
      "dev_soc_prag\n",
      "dev_speech\n",
      "eating_probs\n",
      "eating_disorder\n",
      "encopres\n",
      "enures\n",
      "etoh_subst\n",
      "feeding_dx\n",
      "gen_dx_oth_calc_self_report\n",
      "gen_test\n",
      "gen_test_aut_dd\n",
      "gen_test_cgh_cma\n",
      "gen_test_chrom_karyo\n",
      "gen_test_ep\n",
      "gen_test_fish_angel\n",
      "gen_test_fish_digeorge\n",
      "gen_test_fish_williams\n",
      "gen_test_fish_oth\n",
      "gen_test_frax\n",
      "gen_test_id\n",
      "gen_test_mecp2\n",
      "gen_test_nf1\n",
      "gen_test_noonan\n",
      "gen_test_pten\n",
      "gen_test_tsc\n",
      "gen_test_unknown\n",
      "gen_test_wes\n",
      "gen_test_wgs\n",
      "gen_test_oth_calc\n",
      "gest_age\n",
      "growth_low_wt\n",
      "growth_macroceph\n",
      "growth_microceph\n",
      "growth_obes\n",
      "growth_short\n",
      "growth_oth_calc\n",
      "med_cond_birth\n",
      "med_cond_birth_def\n",
      "med_cond_growth\n",
      "med_cond_neuro\n",
      "med_cond_visaud\n",
      "mood_anx\n",
      "mood_bipol\n",
      "mood_dep\n",
      "mood_dmd\n",
      "mood_hoard\n",
      "mood_ocd\n",
      "mood_or_anx\n",
      "mood_sep_anx\n",
      "mood_soc_anx\n",
      "neuro_inf\n",
      "neuro_lead\n",
      "neuro_sz\n",
      "neuro_tbi\n",
      "neuro_oth_calc\n",
      "pers_dis\n",
      "prev_study_agre\n",
      "prev_study_asc\n",
      "prev_study_charge\n",
      "prev_study_earli\n",
      "prev_study_marbles\n",
      "prev_study_mssng\n",
      "prev_study_seed\n",
      "prev_study_ssc\n",
      "prev_study_vip\n",
      "prev_study_oth_calc\n",
      "psych_oth_calc\n",
      "schiz\n",
      "sleep_dx\n",
      "sleep_eat_toilet\n",
      "sleep_probs\n",
      "tics\n",
      "visaud_blind\n",
      "visaud_catar\n",
      "visaud_deaf\n",
      "visaud_strab\n",
      "prev_study_calc\n",
      "eval_year\n",
      "deriv_cog_impair\n"
     ]
    }
   ],
   "source": [
    "for col in mini.columns:\n",
    "    print(col)"
   ]
  },
  {
   "cell_type": "markdown",
   "id": "1bf013b8-6fea-4cea-968b-1d8ff9f29942",
   "metadata": {},
   "source": [
    "# Derived Cognitive Impairment Variable "
   ]
  },
  {
   "cell_type": "code",
   "execution_count": 81,
   "id": "0b60ded6-5826-452c-8a72-b47e7b1f2f9d",
   "metadata": {
    "scrolled": true
   },
   "outputs": [
    {
     "ename": "KeyError",
     "evalue": "'cognitive_impairment_latest'",
     "output_type": "error",
     "traceback": [
      "\u001b[1;31m---------------------------------------------------------------------------\u001b[0m",
      "\u001b[1;31mKeyError\u001b[0m                                  Traceback (most recent call last)",
      "File \u001b[1;32mD:\\SOFTWARE\\Python\\Lib\\site-packages\\pandas\\core\\indexes\\base.py:3653\u001b[0m, in \u001b[0;36mIndex.get_loc\u001b[1;34m(self, key)\u001b[0m\n\u001b[0;32m   3652\u001b[0m \u001b[38;5;28;01mtry\u001b[39;00m:\n\u001b[1;32m-> 3653\u001b[0m     \u001b[38;5;28;01mreturn\u001b[39;00m \u001b[38;5;28;43mself\u001b[39;49m\u001b[38;5;241;43m.\u001b[39;49m\u001b[43m_engine\u001b[49m\u001b[38;5;241;43m.\u001b[39;49m\u001b[43mget_loc\u001b[49m\u001b[43m(\u001b[49m\u001b[43mcasted_key\u001b[49m\u001b[43m)\u001b[49m\n\u001b[0;32m   3654\u001b[0m \u001b[38;5;28;01mexcept\u001b[39;00m \u001b[38;5;167;01mKeyError\u001b[39;00m \u001b[38;5;28;01mas\u001b[39;00m err:\n",
      "File \u001b[1;32mD:\\SOFTWARE\\Python\\Lib\\site-packages\\pandas\\_libs\\index.pyx:147\u001b[0m, in \u001b[0;36mpandas._libs.index.IndexEngine.get_loc\u001b[1;34m()\u001b[0m\n",
      "File \u001b[1;32mD:\\SOFTWARE\\Python\\Lib\\site-packages\\pandas\\_libs\\index.pyx:176\u001b[0m, in \u001b[0;36mpandas._libs.index.IndexEngine.get_loc\u001b[1;34m()\u001b[0m\n",
      "File \u001b[1;32mpandas\\_libs\\hashtable_class_helper.pxi:7080\u001b[0m, in \u001b[0;36mpandas._libs.hashtable.PyObjectHashTable.get_item\u001b[1;34m()\u001b[0m\n",
      "File \u001b[1;32mpandas\\_libs\\hashtable_class_helper.pxi:7088\u001b[0m, in \u001b[0;36mpandas._libs.hashtable.PyObjectHashTable.get_item\u001b[1;34m()\u001b[0m\n",
      "\u001b[1;31mKeyError\u001b[0m: 'cognitive_impairment_latest'",
      "\nThe above exception was the direct cause of the following exception:\n",
      "\u001b[1;31mKeyError\u001b[0m                                  Traceback (most recent call last)",
      "Cell \u001b[1;32mIn[81], line 35\u001b[0m\n\u001b[0;32m     31\u001b[0m     \u001b[38;5;28;01mreturn\u001b[39;00m \u001b[38;5;241m0\u001b[39m\n\u001b[0;32m     33\u001b[0m \u001b[38;5;66;03m# Apply the function to each row of the DataFrame\u001b[39;00m\n\u001b[0;32m     34\u001b[0m \u001b[38;5;66;03m#mini['deriv_cog_impair'] = mini.apply(check_cognitive_impairment, axis=1)\u001b[39;00m\n\u001b[1;32m---> 35\u001b[0m less5[\u001b[38;5;124m'\u001b[39m\u001b[38;5;124mderiv_cog_impair\u001b[39m\u001b[38;5;124m'\u001b[39m] \u001b[38;5;241m=\u001b[39m \u001b[43mless5\u001b[49m\u001b[38;5;241;43m.\u001b[39;49m\u001b[43mapply\u001b[49m\u001b[43m(\u001b[49m\u001b[43mcheck_cognitive_impairment\u001b[49m\u001b[43m,\u001b[49m\u001b[43m \u001b[49m\u001b[43maxis\u001b[49m\u001b[38;5;241;43m=\u001b[39;49m\u001b[38;5;241;43m1\u001b[39;49m\u001b[43m)\u001b[49m\n",
      "File \u001b[1;32mD:\\SOFTWARE\\Python\\Lib\\site-packages\\pandas\\core\\frame.py:9423\u001b[0m, in \u001b[0;36mDataFrame.apply\u001b[1;34m(self, func, axis, raw, result_type, args, **kwargs)\u001b[0m\n\u001b[0;32m   9412\u001b[0m \u001b[38;5;28;01mfrom\u001b[39;00m \u001b[38;5;21;01mpandas\u001b[39;00m\u001b[38;5;21;01m.\u001b[39;00m\u001b[38;5;21;01mcore\u001b[39;00m\u001b[38;5;21;01m.\u001b[39;00m\u001b[38;5;21;01mapply\u001b[39;00m \u001b[38;5;28;01mimport\u001b[39;00m frame_apply\n\u001b[0;32m   9414\u001b[0m op \u001b[38;5;241m=\u001b[39m frame_apply(\n\u001b[0;32m   9415\u001b[0m     \u001b[38;5;28mself\u001b[39m,\n\u001b[0;32m   9416\u001b[0m     func\u001b[38;5;241m=\u001b[39mfunc,\n\u001b[1;32m   (...)\u001b[0m\n\u001b[0;32m   9421\u001b[0m     kwargs\u001b[38;5;241m=\u001b[39mkwargs,\n\u001b[0;32m   9422\u001b[0m )\n\u001b[1;32m-> 9423\u001b[0m \u001b[38;5;28;01mreturn\u001b[39;00m \u001b[43mop\u001b[49m\u001b[38;5;241;43m.\u001b[39;49m\u001b[43mapply\u001b[49m\u001b[43m(\u001b[49m\u001b[43m)\u001b[49m\u001b[38;5;241m.\u001b[39m__finalize__(\u001b[38;5;28mself\u001b[39m, method\u001b[38;5;241m=\u001b[39m\u001b[38;5;124m\"\u001b[39m\u001b[38;5;124mapply\u001b[39m\u001b[38;5;124m\"\u001b[39m)\n",
      "File \u001b[1;32mD:\\SOFTWARE\\Python\\Lib\\site-packages\\pandas\\core\\apply.py:678\u001b[0m, in \u001b[0;36mFrameApply.apply\u001b[1;34m(self)\u001b[0m\n\u001b[0;32m    675\u001b[0m \u001b[38;5;28;01melif\u001b[39;00m \u001b[38;5;28mself\u001b[39m\u001b[38;5;241m.\u001b[39mraw:\n\u001b[0;32m    676\u001b[0m     \u001b[38;5;28;01mreturn\u001b[39;00m \u001b[38;5;28mself\u001b[39m\u001b[38;5;241m.\u001b[39mapply_raw()\n\u001b[1;32m--> 678\u001b[0m \u001b[38;5;28;01mreturn\u001b[39;00m \u001b[38;5;28;43mself\u001b[39;49m\u001b[38;5;241;43m.\u001b[39;49m\u001b[43mapply_standard\u001b[49m\u001b[43m(\u001b[49m\u001b[43m)\u001b[49m\n",
      "File \u001b[1;32mD:\\SOFTWARE\\Python\\Lib\\site-packages\\pandas\\core\\apply.py:798\u001b[0m, in \u001b[0;36mFrameApply.apply_standard\u001b[1;34m(self)\u001b[0m\n\u001b[0;32m    797\u001b[0m \u001b[38;5;28;01mdef\u001b[39;00m \u001b[38;5;21mapply_standard\u001b[39m(\u001b[38;5;28mself\u001b[39m):\n\u001b[1;32m--> 798\u001b[0m     results, res_index \u001b[38;5;241m=\u001b[39m \u001b[38;5;28;43mself\u001b[39;49m\u001b[38;5;241;43m.\u001b[39;49m\u001b[43mapply_series_generator\u001b[49m\u001b[43m(\u001b[49m\u001b[43m)\u001b[49m\n\u001b[0;32m    800\u001b[0m     \u001b[38;5;66;03m# wrap results\u001b[39;00m\n\u001b[0;32m    801\u001b[0m     \u001b[38;5;28;01mreturn\u001b[39;00m \u001b[38;5;28mself\u001b[39m\u001b[38;5;241m.\u001b[39mwrap_results(results, res_index)\n",
      "File \u001b[1;32mD:\\SOFTWARE\\Python\\Lib\\site-packages\\pandas\\core\\apply.py:814\u001b[0m, in \u001b[0;36mFrameApply.apply_series_generator\u001b[1;34m(self)\u001b[0m\n\u001b[0;32m    811\u001b[0m \u001b[38;5;28;01mwith\u001b[39;00m option_context(\u001b[38;5;124m\"\u001b[39m\u001b[38;5;124mmode.chained_assignment\u001b[39m\u001b[38;5;124m\"\u001b[39m, \u001b[38;5;28;01mNone\u001b[39;00m):\n\u001b[0;32m    812\u001b[0m     \u001b[38;5;28;01mfor\u001b[39;00m i, v \u001b[38;5;129;01min\u001b[39;00m \u001b[38;5;28menumerate\u001b[39m(series_gen):\n\u001b[0;32m    813\u001b[0m         \u001b[38;5;66;03m# ignore SettingWithCopy here in case the user mutates\u001b[39;00m\n\u001b[1;32m--> 814\u001b[0m         results[i] \u001b[38;5;241m=\u001b[39m \u001b[38;5;28;43mself\u001b[39;49m\u001b[38;5;241;43m.\u001b[39;49m\u001b[43mf\u001b[49m\u001b[43m(\u001b[49m\u001b[43mv\u001b[49m\u001b[43m)\u001b[49m\n\u001b[0;32m    815\u001b[0m         \u001b[38;5;28;01mif\u001b[39;00m \u001b[38;5;28misinstance\u001b[39m(results[i], ABCSeries):\n\u001b[0;32m    816\u001b[0m             \u001b[38;5;66;03m# If we have a view on v, we need to make a copy because\u001b[39;00m\n\u001b[0;32m    817\u001b[0m             \u001b[38;5;66;03m#  series_generator will swap out the underlying data\u001b[39;00m\n\u001b[0;32m    818\u001b[0m             results[i] \u001b[38;5;241m=\u001b[39m results[i]\u001b[38;5;241m.\u001b[39mcopy(deep\u001b[38;5;241m=\u001b[39m\u001b[38;5;28;01mFalse\u001b[39;00m)\n",
      "Cell \u001b[1;32mIn[81], line 21\u001b[0m, in \u001b[0;36mcheck_cognitive_impairment\u001b[1;34m(row)\u001b[0m\n\u001b[0;32m     19\u001b[0m \u001b[38;5;28;01melif\u001b[39;00m row[\u001b[38;5;124m'\u001b[39m\u001b[38;5;124mcommunication_standard\u001b[39m\u001b[38;5;124m'\u001b[39m] \u001b[38;5;241m<\u001b[39m \u001b[38;5;241m80\u001b[39m:\n\u001b[0;32m     20\u001b[0m    \u001b[38;5;28;01mreturn\u001b[39;00m \u001b[38;5;241m1\u001b[39m\n\u001b[1;32m---> 21\u001b[0m \u001b[38;5;28;01melif\u001b[39;00m (\u001b[43mrow\u001b[49m\u001b[43m[\u001b[49m\u001b[38;5;124;43m'\u001b[39;49m\u001b[38;5;124;43mcognitive_impairment_latest\u001b[39;49m\u001b[38;5;124;43m'\u001b[39;49m\u001b[43m]\u001b[49m \u001b[38;5;241m==\u001b[39m \u001b[38;5;241m1\u001b[39m): \u001b[38;5;66;03m# core\u001b[39;00m\n\u001b[0;32m     22\u001b[0m     \u001b[38;5;28;01mreturn\u001b[39;00m \u001b[38;5;241m1\u001b[39m\n\u001b[0;32m     23\u001b[0m \u001b[38;5;28;01melif\u001b[39;00m (row[\u001b[38;5;124m'\u001b[39m\u001b[38;5;124mage_at_registration_years\u001b[39m\u001b[38;5;124m'\u001b[39m] \u001b[38;5;241m>\u001b[39m\u001b[38;5;241m=\u001b[39m \u001b[38;5;241m4\u001b[39m) \u001b[38;5;129;01mand\u001b[39;00m (row[\u001b[38;5;124m'\u001b[39m\u001b[38;5;124mlanguage_level_latest\u001b[39m\u001b[38;5;124m'\u001b[39m] \u001b[38;5;241m!=\u001b[39m \u001b[38;5;124m'\u001b[39m\u001b[38;5;124mUses longer sentences of his/her own and is able to tell you something that happened\u001b[39m\u001b[38;5;124m'\u001b[39m):   \u001b[38;5;66;03m# core\u001b[39;00m\n",
      "File \u001b[1;32mD:\\SOFTWARE\\Python\\Lib\\site-packages\\pandas\\core\\series.py:1007\u001b[0m, in \u001b[0;36mSeries.__getitem__\u001b[1;34m(self, key)\u001b[0m\n\u001b[0;32m   1004\u001b[0m     \u001b[38;5;28;01mreturn\u001b[39;00m \u001b[38;5;28mself\u001b[39m\u001b[38;5;241m.\u001b[39m_values[key]\n\u001b[0;32m   1006\u001b[0m \u001b[38;5;28;01melif\u001b[39;00m key_is_scalar:\n\u001b[1;32m-> 1007\u001b[0m     \u001b[38;5;28;01mreturn\u001b[39;00m \u001b[38;5;28;43mself\u001b[39;49m\u001b[38;5;241;43m.\u001b[39;49m\u001b[43m_get_value\u001b[49m\u001b[43m(\u001b[49m\u001b[43mkey\u001b[49m\u001b[43m)\u001b[49m\n\u001b[0;32m   1009\u001b[0m \u001b[38;5;28;01mif\u001b[39;00m is_hashable(key):\n\u001b[0;32m   1010\u001b[0m     \u001b[38;5;66;03m# Otherwise index.get_value will raise InvalidIndexError\u001b[39;00m\n\u001b[0;32m   1011\u001b[0m     \u001b[38;5;28;01mtry\u001b[39;00m:\n\u001b[0;32m   1012\u001b[0m         \u001b[38;5;66;03m# For labels that don't resolve as scalars like tuples and frozensets\u001b[39;00m\n",
      "File \u001b[1;32mD:\\SOFTWARE\\Python\\Lib\\site-packages\\pandas\\core\\series.py:1116\u001b[0m, in \u001b[0;36mSeries._get_value\u001b[1;34m(self, label, takeable)\u001b[0m\n\u001b[0;32m   1113\u001b[0m     \u001b[38;5;28;01mreturn\u001b[39;00m \u001b[38;5;28mself\u001b[39m\u001b[38;5;241m.\u001b[39m_values[label]\n\u001b[0;32m   1115\u001b[0m \u001b[38;5;66;03m# Similar to Index.get_value, but we do not fall back to positional\u001b[39;00m\n\u001b[1;32m-> 1116\u001b[0m loc \u001b[38;5;241m=\u001b[39m \u001b[38;5;28;43mself\u001b[39;49m\u001b[38;5;241;43m.\u001b[39;49m\u001b[43mindex\u001b[49m\u001b[38;5;241;43m.\u001b[39;49m\u001b[43mget_loc\u001b[49m\u001b[43m(\u001b[49m\u001b[43mlabel\u001b[49m\u001b[43m)\u001b[49m\n\u001b[0;32m   1118\u001b[0m \u001b[38;5;28;01mif\u001b[39;00m is_integer(loc):\n\u001b[0;32m   1119\u001b[0m     \u001b[38;5;28;01mreturn\u001b[39;00m \u001b[38;5;28mself\u001b[39m\u001b[38;5;241m.\u001b[39m_values[loc]\n",
      "File \u001b[1;32mD:\\SOFTWARE\\Python\\Lib\\site-packages\\pandas\\core\\indexes\\base.py:3655\u001b[0m, in \u001b[0;36mIndex.get_loc\u001b[1;34m(self, key)\u001b[0m\n\u001b[0;32m   3653\u001b[0m     \u001b[38;5;28;01mreturn\u001b[39;00m \u001b[38;5;28mself\u001b[39m\u001b[38;5;241m.\u001b[39m_engine\u001b[38;5;241m.\u001b[39mget_loc(casted_key)\n\u001b[0;32m   3654\u001b[0m \u001b[38;5;28;01mexcept\u001b[39;00m \u001b[38;5;167;01mKeyError\u001b[39;00m \u001b[38;5;28;01mas\u001b[39;00m err:\n\u001b[1;32m-> 3655\u001b[0m     \u001b[38;5;28;01mraise\u001b[39;00m \u001b[38;5;167;01mKeyError\u001b[39;00m(key) \u001b[38;5;28;01mfrom\u001b[39;00m \u001b[38;5;21;01merr\u001b[39;00m\n\u001b[0;32m   3656\u001b[0m \u001b[38;5;28;01mexcept\u001b[39;00m \u001b[38;5;167;01mTypeError\u001b[39;00m:\n\u001b[0;32m   3657\u001b[0m     \u001b[38;5;66;03m# If we have a listlike key, _check_indexing_error will raise\u001b[39;00m\n\u001b[0;32m   3658\u001b[0m     \u001b[38;5;66;03m#  InvalidIndexError. Otherwise we fall through and re-raise\u001b[39;00m\n\u001b[0;32m   3659\u001b[0m     \u001b[38;5;66;03m#  the TypeError.\u001b[39;00m\n\u001b[0;32m   3660\u001b[0m     \u001b[38;5;28mself\u001b[39m\u001b[38;5;241m.\u001b[39m_check_indexing_error(key)\n",
      "\u001b[1;31mKeyError\u001b[0m: 'cognitive_impairment_latest'"
     ]
    }
   ],
   "source": [
    "def check_cognitive_impairment(row):\n",
    "    if row['invalid'] != 1:\n",
    "        if pd.notnull(row['fsiq_score']) or pd.notnull(row['nviq_score']):\n",
    "            if pd.notnull(row['fsiq_score']) and row['fsiq_score'] < 80:\n",
    "                return 1\n",
    "            elif pd.notnull(row['nviq_score']) and row['nviq_score'] < 80:\n",
    "                return 1\n",
    "            else:\n",
    "                return 0\n",
    "        elif pd.notnull(row['fsiq_ratio']) or pd.notnull(row['nviq_ratio']):\n",
    "            if pd.notnull(row['fsiq_ratio']) and row['fsiq_ratio'] < 80:\n",
    "                return 1\n",
    "            elif pd.notnull(row['nviq_ratio']) and row['nviq_ratio'] < 80:\n",
    "                return 1\n",
    "            else:\n",
    "                return 0\n",
    "        elif row['intel_class'] in ['profound', 'severe', 'moderate', 'mild', 'border', 'id_nos']:\n",
    "            return 1\n",
    "        elif row['communication_standard'] < 80:\n",
    "           return 1\n",
    "        elif (row['cognitive_impairment_latest'] == 1): # core\n",
    "            return 1\n",
    "        elif (row['age_at_registration_years'] >= 4) and (row['language_level_latest'] != 'Uses longer sentences of his/her own and is able to tell you something that happened'):   # core\n",
    "            return 1\n",
    "        elif row['cog_age_level'] == 'signif_below_age' : \n",
    "            return 1\n",
    "        elif row['cog_test_score'] in ['24_below', '25_39', '40_54', '55_69', '70_79']:  # background\n",
    "            return 1\n",
    "        elif (row['age_at_registration_months'] >= 60) and (row['motor_able'] != 1) and (row['dev_lang'] == 1):\n",
    "            return 1\n",
    "    return 0\n",
    "\n",
    "# Apply the function to each row of the DataFrame\n",
    "#mini['deriv_cog_impair'] = mini.apply(check_cognitive_impairment, axis=1)\n",
    "less5['deriv_cog_impair'] = less5.apply(check_cognitive_impairment, axis=1)"
   ]
  },
  {
   "cell_type": "code",
   "execution_count": 234,
   "id": "d8cf0831-ed1c-400c-87cd-a3fd24b0307e",
   "metadata": {
    "scrolled": true
   },
   "outputs": [
    {
     "data": {
      "text/html": [
       "<div>\n",
       "<style scoped>\n",
       "    .dataframe tbody tr th:only-of-type {\n",
       "        vertical-align: middle;\n",
       "    }\n",
       "\n",
       "    .dataframe tbody tr th {\n",
       "        vertical-align: top;\n",
       "    }\n",
       "\n",
       "    .dataframe thead th {\n",
       "        text-align: right;\n",
       "    }\n",
       "</style>\n",
       "<table border=\"1\" class=\"dataframe\">\n",
       "  <thead>\n",
       "    <tr style=\"text-align: right;\">\n",
       "      <th></th>\n",
       "      <th>subject_sp_id</th>\n",
       "      <th>asd_x</th>\n",
       "      <th>asd_verif</th>\n",
       "      <th>invalid</th>\n",
       "      <th>age_test_date_months</th>\n",
       "      <th>fsiq</th>\n",
       "      <th>nviq</th>\n",
       "      <th>fsiq_score</th>\n",
       "      <th>nviq_score</th>\n",
       "      <th>fsiq_ratio</th>\n",
       "      <th>nviq_ratio</th>\n",
       "      <th>intel_class</th>\n",
       "      <th>communication_standard</th>\n",
       "      <th>deriv_cog_impair</th>\n",
       "    </tr>\n",
       "  </thead>\n",
       "  <tbody>\n",
       "    <tr>\n",
       "      <th>1</th>\n",
       "      <td>SP0000087</td>\n",
       "      <td>True</td>\n",
       "      <td>1</td>\n",
       "      <td>1.0</td>\n",
       "      <td>52.0</td>\n",
       "      <td>wppsi</td>\n",
       "      <td>NaN</td>\n",
       "      <td>82.0</td>\n",
       "      <td>97.0</td>\n",
       "      <td>NaN</td>\n",
       "      <td>NaN</td>\n",
       "      <td>low_avg</td>\n",
       "      <td>82</td>\n",
       "      <td>0</td>\n",
       "    </tr>\n",
       "    <tr>\n",
       "      <th>2</th>\n",
       "      <td>SP0000087</td>\n",
       "      <td>True</td>\n",
       "      <td>1</td>\n",
       "      <td>1.0</td>\n",
       "      <td>52.0</td>\n",
       "      <td>wppsi</td>\n",
       "      <td>NaN</td>\n",
       "      <td>82.0</td>\n",
       "      <td>97.0</td>\n",
       "      <td>NaN</td>\n",
       "      <td>NaN</td>\n",
       "      <td>low_avg</td>\n",
       "      <td>81</td>\n",
       "      <td>0</td>\n",
       "    </tr>\n",
       "    <tr>\n",
       "      <th>5</th>\n",
       "      <td>SP0000123</td>\n",
       "      <td>True</td>\n",
       "      <td>1</td>\n",
       "      <td>0.0</td>\n",
       "      <td>37.0</td>\n",
       "      <td>bsid</td>\n",
       "      <td>NaN</td>\n",
       "      <td>51.0</td>\n",
       "      <td>NaN</td>\n",
       "      <td>NaN</td>\n",
       "      <td>NaN</td>\n",
       "      <td>NaN</td>\n",
       "      <td>49</td>\n",
       "      <td>1</td>\n",
       "    </tr>\n",
       "    <tr>\n",
       "      <th>7</th>\n",
       "      <td>SP0000213</td>\n",
       "      <td>True</td>\n",
       "      <td>1</td>\n",
       "      <td>1.0</td>\n",
       "      <td>48.0</td>\n",
       "      <td>wppsi</td>\n",
       "      <td>NaN</td>\n",
       "      <td>101.0</td>\n",
       "      <td>98.0</td>\n",
       "      <td>NaN</td>\n",
       "      <td>NaN</td>\n",
       "      <td>avg</td>\n",
       "      <td>76</td>\n",
       "      <td>0</td>\n",
       "    </tr>\n",
       "    <tr>\n",
       "      <th>21</th>\n",
       "      <td>SP0001016</td>\n",
       "      <td>True</td>\n",
       "      <td>1</td>\n",
       "      <td>0.0</td>\n",
       "      <td>59.0</td>\n",
       "      <td>wppsi</td>\n",
       "      <td>NaN</td>\n",
       "      <td>133.0</td>\n",
       "      <td>117.0</td>\n",
       "      <td>NaN</td>\n",
       "      <td>NaN</td>\n",
       "      <td>supe</td>\n",
       "      <td>84</td>\n",
       "      <td>0</td>\n",
       "    </tr>\n",
       "    <tr>\n",
       "      <th>...</th>\n",
       "      <td>...</td>\n",
       "      <td>...</td>\n",
       "      <td>...</td>\n",
       "      <td>...</td>\n",
       "      <td>...</td>\n",
       "      <td>...</td>\n",
       "      <td>...</td>\n",
       "      <td>...</td>\n",
       "      <td>...</td>\n",
       "      <td>...</td>\n",
       "      <td>...</td>\n",
       "      <td>...</td>\n",
       "      <td>...</td>\n",
       "      <td>...</td>\n",
       "    </tr>\n",
       "    <tr>\n",
       "      <th>1511</th>\n",
       "      <td>SP0532168</td>\n",
       "      <td>True</td>\n",
       "      <td>1</td>\n",
       "      <td>0.0</td>\n",
       "      <td>32.0</td>\n",
       "      <td>msel</td>\n",
       "      <td>NaN</td>\n",
       "      <td>49.0</td>\n",
       "      <td>NaN</td>\n",
       "      <td>NaN</td>\n",
       "      <td>NaN</td>\n",
       "      <td>id_nos</td>\n",
       "      <td>61</td>\n",
       "      <td>1</td>\n",
       "    </tr>\n",
       "    <tr>\n",
       "      <th>1513</th>\n",
       "      <td>SP0533355</td>\n",
       "      <td>True</td>\n",
       "      <td>1</td>\n",
       "      <td>0.0</td>\n",
       "      <td>29.0</td>\n",
       "      <td>msel</td>\n",
       "      <td>NaN</td>\n",
       "      <td>81.0</td>\n",
       "      <td>NaN</td>\n",
       "      <td>NaN</td>\n",
       "      <td>NaN</td>\n",
       "      <td>low_avg</td>\n",
       "      <td>97</td>\n",
       "      <td>0</td>\n",
       "    </tr>\n",
       "    <tr>\n",
       "      <th>1514</th>\n",
       "      <td>SP0533678</td>\n",
       "      <td>True</td>\n",
       "      <td>1</td>\n",
       "      <td>0.0</td>\n",
       "      <td>28.0</td>\n",
       "      <td>msel</td>\n",
       "      <td>NaN</td>\n",
       "      <td>51.0</td>\n",
       "      <td>NaN</td>\n",
       "      <td>NaN</td>\n",
       "      <td>NaN</td>\n",
       "      <td>low_avg</td>\n",
       "      <td>84</td>\n",
       "      <td>1</td>\n",
       "    </tr>\n",
       "    <tr>\n",
       "      <th>1521</th>\n",
       "      <td>SP0542399</td>\n",
       "      <td>True</td>\n",
       "      <td>1</td>\n",
       "      <td>0.0</td>\n",
       "      <td>27.0</td>\n",
       "      <td>msel</td>\n",
       "      <td>NaN</td>\n",
       "      <td>NaN</td>\n",
       "      <td>NaN</td>\n",
       "      <td>NaN</td>\n",
       "      <td>NaN</td>\n",
       "      <td>low_avg</td>\n",
       "      <td>49</td>\n",
       "      <td>1</td>\n",
       "    </tr>\n",
       "    <tr>\n",
       "      <th>1522</th>\n",
       "      <td>SP0550634</td>\n",
       "      <td>True</td>\n",
       "      <td>1</td>\n",
       "      <td>0.0</td>\n",
       "      <td>35.0</td>\n",
       "      <td>das</td>\n",
       "      <td>NaN</td>\n",
       "      <td>93.0</td>\n",
       "      <td>106.0</td>\n",
       "      <td>NaN</td>\n",
       "      <td>NaN</td>\n",
       "      <td>avg</td>\n",
       "      <td>103</td>\n",
       "      <td>0</td>\n",
       "    </tr>\n",
       "  </tbody>\n",
       "</table>\n",
       "<p>623 rows × 14 columns</p>\n",
       "</div>"
      ],
      "text/plain": [
       "     subject_sp_id  asd_x  asd_verif  invalid  age_test_date_months   fsiq  \\\n",
       "1        SP0000087   True          1      1.0                  52.0  wppsi   \n",
       "2        SP0000087   True          1      1.0                  52.0  wppsi   \n",
       "5        SP0000123   True          1      0.0                  37.0   bsid   \n",
       "7        SP0000213   True          1      1.0                  48.0  wppsi   \n",
       "21       SP0001016   True          1      0.0                  59.0  wppsi   \n",
       "...            ...    ...        ...      ...                   ...    ...   \n",
       "1511     SP0532168   True          1      0.0                  32.0   msel   \n",
       "1513     SP0533355   True          1      0.0                  29.0   msel   \n",
       "1514     SP0533678   True          1      0.0                  28.0   msel   \n",
       "1521     SP0542399   True          1      0.0                  27.0   msel   \n",
       "1522     SP0550634   True          1      0.0                  35.0    das   \n",
       "\n",
       "     nviq  fsiq_score  nviq_score  fsiq_ratio  nviq_ratio intel_class  \\\n",
       "1     NaN        82.0        97.0         NaN         NaN     low_avg   \n",
       "2     NaN        82.0        97.0         NaN         NaN     low_avg   \n",
       "5     NaN        51.0         NaN         NaN         NaN         NaN   \n",
       "7     NaN       101.0        98.0         NaN         NaN         avg   \n",
       "21    NaN       133.0       117.0         NaN         NaN        supe   \n",
       "...   ...         ...         ...         ...         ...         ...   \n",
       "1511  NaN        49.0         NaN         NaN         NaN      id_nos   \n",
       "1513  NaN        81.0         NaN         NaN         NaN     low_avg   \n",
       "1514  NaN        51.0         NaN         NaN         NaN     low_avg   \n",
       "1521  NaN         NaN         NaN         NaN         NaN     low_avg   \n",
       "1522  NaN        93.0       106.0         NaN         NaN         avg   \n",
       "\n",
       "      communication_standard  deriv_cog_impair  \n",
       "1                         82                 0  \n",
       "2                         81                 0  \n",
       "5                         49                 1  \n",
       "7                         76                 0  \n",
       "21                        84                 0  \n",
       "...                      ...               ...  \n",
       "1511                      61                 1  \n",
       "1513                      97                 0  \n",
       "1514                      84                 1  \n",
       "1521                      49                 1  \n",
       "1522                     103                 0  \n",
       "\n",
       "[623 rows x 14 columns]"
      ]
     },
     "execution_count": 234,
     "metadata": {},
     "output_type": "execute_result"
    }
   ],
   "source": [
    "less5"
   ]
  },
  {
   "cell_type": "code",
   "execution_count": 32,
   "id": "ea0550fb-a743-4c24-bcaa-e924054419c4",
   "metadata": {},
   "outputs": [],
   "source": [
    "# save CSV files\n",
    "mini.to_csv(\"mini_1.csv\", index=False)\n",
    "less5.to_csv(\"less5_1.csv\", index=False)"
   ]
  },
  {
   "cell_type": "markdown",
   "id": "7b621d8e-a582-4f39-b01d-734b767ff35e",
   "metadata": {
    "jp-MarkdownHeadingCollapsed": true
   },
   "source": [
    "### Findings:\n",
    "Based on fsiq and nviq (scores and ratios), and intel_class"
   ]
  },
  {
   "cell_type": "code",
   "execution_count": 173,
   "id": "28fd9eec-b2d1-4a64-bbce-c38d9cabe24f",
   "metadata": {},
   "outputs": [
    {
     "data": {
      "text/plain": [
       "deriv_cog_impair\n",
       "0    842\n",
       "1    682\n",
       "Name: count, dtype: int64"
      ]
     },
     "execution_count": 173,
     "metadata": {},
     "output_type": "execute_result"
    }
   ],
   "source": [
    "mini['deriv_cog_impair'].value_counts()"
   ]
  },
  {
   "cell_type": "code",
   "execution_count": 193,
   "id": "4b1c3973-3c81-4dc1-baf7-727a1a6bab5c",
   "metadata": {},
   "outputs": [
    {
     "data": {
      "text/plain": [
       "deriv_cog_impair\n",
       "1    385\n",
       "0    238\n",
       "Name: count, dtype: int64"
      ]
     },
     "execution_count": 193,
     "metadata": {},
     "output_type": "execute_result"
    }
   ],
   "source": [
    "less5['deriv_cog_impair'].value_counts()"
   ]
  },
  {
   "cell_type": "markdown",
   "id": "469def53-7228-4830-9b20-8fb96283ad55",
   "metadata": {},
   "source": [
    "**Inference**\n",
    "\n",
    "- Now we have our dataset, with a computed cognitive impairment parameter.\n",
    "- We have to see which parameters are available for this dataset, and choose a set of predictor variables.\n",
    "- Then check how well pred_cog_impair compares to deriv_cog_impair."
   ]
  },
  {
   "cell_type": "markdown",
   "id": "d95951a2-072d-4678-b33d-dec299cd3ae5",
   "metadata": {
    "jp-MarkdownHeadingCollapsed": true
   },
   "source": [
    "# Dataset construction for Prediction Model\n",
    "\n",
    "**Parameters to be used:**\n",
    "- subject_sp_id\n",
    "- deriv_cog_impair\n",
    "- age_at_eval (for whichever test data is being used)\n",
    "\n",
    "**Check overlap with datasets**\n",
    "- CBCL\n",
    "- SCQ\n",
    "- Vineland\n",
    "- DCDQ\n",
    "- Basic Medical Screening"
   ]
  },
  {
   "cell_type": "code",
   "execution_count": 235,
   "id": "0214011a-0f71-4803-bc15-231203c5b8b4",
   "metadata": {},
   "outputs": [
    {
     "name": "stdout",
     "output_type": "stream",
     "text": [
      "less5_cbcl : (116, 188)\n",
      "less5_scq : (613, 68)\n",
      "less5_dcdq : (522, 48)\n",
      "less5_rbsr : (609, 78)\n",
      "less5_vineland : (661, 99)\n",
      "less5_basic : (623, 146)\n"
     ]
    }
   ],
   "source": [
    "# check overlaps\n",
    "less5_cbcl = pd.merge(less5, cbcl, on=\"subject_sp_id\", how=\"inner\")\n",
    "less5_scq = pd.merge(less5, scq, on=\"subject_sp_id\", how=\"inner\")\n",
    "less5_dcdq = pd.merge(less5, dcdq, on=\"subject_sp_id\", how=\"inner\")\n",
    "less5_rbsr = pd.merge(less5, rbsr, on=\"subject_sp_id\", how=\"inner\")\n",
    "less5_vineland = pd.merge(less5, vineland, on=\"subject_sp_id\", how=\"inner\")\n",
    "less5_basic = pd.merge(less5, basic, on=\"subject_sp_id\", how=\"inner\")\n",
    "\n",
    "\n",
    "print(\"less5_cbcl :\", less5_cbcl.shape)\n",
    "print(\"less5_scq :\", less5_scq.shape)\n",
    "print(\"less5_dcdq :\", less5_dcdq.shape)\n",
    "print(\"less5_rbsr :\", less5_rbsr.shape)\n",
    "print(\"less5_vineland :\", less5_vineland.shape)\n",
    "print(\"less5_basic :\", less5_basic.shape)"
   ]
  },
  {
   "cell_type": "markdown",
   "id": "3a0e3c87-c59b-453f-8c96-389ae297f737",
   "metadata": {},
   "source": [
    "#### Does vineland data have duplicate rows? Why does less5_vineland have more rows than less5?\n",
    "YES. It has 661 rows, instead of 623 rows in less5.\n",
    "Vineland original data has 690 duplicate rows."
   ]
  },
  {
   "cell_type": "code",
   "execution_count": 236,
   "id": "5b39a95e-1921-4079-bc2f-a191132ed501",
   "metadata": {},
   "outputs": [
    {
     "name": "stdout",
     "output_type": "stream",
     "text": [
      "no of duplicate rows: (690, 86)\n"
     ]
    }
   ],
   "source": [
    "# does vineland have duplicate rows?\n",
    "\n",
    "duplicate_rows = vineland.duplicated(subset=['subject_sp_id'], keep=False)\n",
    "duplicate_df = vineland[duplicate_rows]\n",
    "\n",
    "print(\"no of duplicate rows:\", duplicate_df.shape)"
   ]
  },
  {
   "cell_type": "markdown",
   "id": "02246ce2-fc2f-4afa-83b2-8b03d6bf2c08",
   "metadata": {},
   "source": [
    "**Drop duplicate rows from Vineland-3 data, keeping only the latest entry for each subject**"
   ]
  },
  {
   "cell_type": "code",
   "execution_count": 237,
   "id": "5823f1ba-51c3-40a2-9587-45c3921606bc",
   "metadata": {},
   "outputs": [
    {
     "name": "stdout",
     "output_type": "stream",
     "text": [
      "original vineland: (23160, 86)\n",
      "max age vineland: (22815, 86)\n"
     ]
    }
   ],
   "source": [
    "max_age_idx = vineland.groupby('subject_sp_id')['age_at_eval_months'].idxmax()\n",
    "vineland_max_age = vineland.loc[max_age_idx]\n",
    "\n",
    "print(\"original vineland:\", vineland.shape)\n",
    "print(\"max age vineland:\", vineland_max_age.shape)"
   ]
  },
  {
   "cell_type": "code",
   "execution_count": 238,
   "id": "f59dea5f-f3e8-4471-bdff-e81e344153d3",
   "metadata": {},
   "outputs": [
    {
     "name": "stdout",
     "output_type": "stream",
     "text": [
      "overlap b/w less5 and vineland_max_age (623, 99)\n"
     ]
    }
   ],
   "source": [
    "less5_vineland = pd.merge(less5, vineland_max_age, on=\"subject_sp_id\", how=\"inner\")\n",
    "print(\"overlap b/w less5 and vineland_max_age\",less5_vineland.shape)"
   ]
  },
  {
   "cell_type": "markdown",
   "id": "238818b0-ea4a-42c7-9a30-a3f9ce4b102e",
   "metadata": {},
   "source": [
    "# MODEL dataset"
   ]
  },
  {
   "cell_type": "markdown",
   "id": "9c973466-ebd5-44f5-83b3-b45d692c6416",
   "metadata": {},
   "source": [
    "### Construction of dataset"
   ]
  },
  {
   "cell_type": "code",
   "execution_count": 49,
   "id": "24ed9baa-11da-4786-8d15-f5c6dea7793c",
   "metadata": {},
   "outputs": [],
   "source": [
    "dfs = [iq, vineland, basic, cbcl, core, background, rbsr, dcdq, indi, scq]\n",
    "total = dfs[0].copy(deep=True)\n",
    "\n",
    "suffixes = ['_' + str(i) for i in range(1, len(dfs))]\n",
    "\n",
    "for df, sfx in zip(dfs[1:], suffixes):\n",
    "    total = pd.merge(total, df, on='subject_sp_id', how=\"left\", suffixes=(sfx, ''))"
   ]
  },
  {
   "cell_type": "code",
   "execution_count": 48,
   "id": "55ae8c76-d327-46fd-9d64-9e33f61e0dc1",
   "metadata": {},
   "outputs": [
    {
     "data": {
      "text/plain": [
       "(59, 770)"
      ]
     },
     "execution_count": 48,
     "metadata": {},
     "output_type": "execute_result"
    }
   ],
   "source": [
    "total.shape  # inner join"
   ]
  },
  {
   "cell_type": "code",
   "execution_count": 50,
   "id": "5f3c6339-14be-4895-a612-3536f364eb55",
   "metadata": {},
   "outputs": [
    {
     "data": {
      "text/plain": [
       "(6008, 770)"
      ]
     },
     "execution_count": 50,
     "metadata": {},
     "output_type": "execute_result"
    }
   ],
   "source": [
    "total.shape # left join"
   ]
  },
  {
   "cell_type": "code",
   "execution_count": 51,
   "id": "fe5d0b35-c0d7-474b-b769-f42011fd98fe",
   "metadata": {},
   "outputs": [],
   "source": [
    "# extract parameters\n",
    "\n",
    "model_para = [\n",
    "    # \n",
    "    \"subject_sp_id\",\n",
    "    # BACKGROUND --------------\n",
    "    \"age_onset_mos\",\n",
    "    \"cog_age_level\",   # ENCODING\n",
    "    \"family_hx_asd_mat_aunt_uncle\",\n",
    "    \"father_highest_education\",\n",
    "    \"fed_self_spoon_age_mos\",\n",
    "    \"function_age_level\",   # ENCODING\n",
    "    \"hand\",\n",
    "    \"intervention_counseling\",\n",
    "    \"intervention_medication\",\n",
    "    \"intervention_ot_fine_mot\",\n",
    "    \"intervention_ot_sensory\",\n",
    "    \"intervention_social_skills\",\n",
    "    \"intervention_speech_language\",\n",
    "    \"language_age_level\",   # ENCODING\n",
    "    \"mother_highest_education\",\n",
    "    \"onset_concern\",\n",
    "    \"plateau_y_n\",\n",
    "    \"regress_lang_return_y_n\",\n",
    "    \"regress_lang_time_return\",\n",
    "    \"regress_lang_y_n\",\n",
    "    \"repeat_grade\",\n",
    "    \"smiled_age_mos\",\n",
    "    \"sped_504\",\n",
    "    \"sped_aide\",\n",
    "    \"sped_asd_class_ft\",\n",
    "    \"sped_birth_to_three\",\n",
    "    \"sped_iep_asd\",\n",
    "    \"sped_iep_other\",\n",
    "    \"sped_ot\",\n",
    "    \"sped_other\",\n",
    "    \"sped_other_class_ft\",\n",
    "    \"sped_other_class_pt\",\n",
    "    \"sped_preschool\",\n",
    "    \"sped_priv_asd\",\n",
    "    \"sped_pt\",\n",
    "    \"sped_soc_skills\",\n",
    "    \"sped_speech\",\n",
    "    \"sped_y_n\",\n",
    "    \"support_require\",\n",
    "    # \n",
    "    # SCQ -----------\n",
    "    \"q01_phrases\",\n",
    "    \"q02_conversation\",\n",
    "    \"q04_inappropriate_question\",\n",
    "    \"q06_invented_words\",\n",
    "    \"q09_expressions_appropriate\",\n",
    "    \"q10_hand_tool\",\n",
    "    \"q13_interests_intensity\",\n",
    "    \"q14_senses\",\n",
    "    \"q18_objects_carry\",\n",
    "    \"q20_talk_friendly\",\n",
    "    \"q21_copy_you\",\n",
    "    \"q22_point_things\",\n",
    "    \"q23_gestures_wanted\",\n",
    "    \"q24_nod_head\",\n",
    "    \"q25_shake_head\",\n",
    "    \"q26_look_directly\",\n",
    "    \"q28_things_interested\",\n",
    "    \"q29_share\",\n",
    "    \"q30_join_enjoyment\",\n",
    "    \"q31_comfort\",\n",
    "    \"q32_help_attention\",\n",
    "    \"q33_range_expressions\",\n",
    "    \"q35_make_believe\",\n",
    "    \"q36_same_age\",\n",
    "    \"q38_pay_attention\",\n",
    "    # \n",
    "    # DCDQ --------------------------\n",
    "    \"q02_catch_ball\",\n",
    "    \"q05_run_fast_similar\",\n",
    "    \"q06_plan_motor_activity\",\n",
    "    \"q09_appropriate_tension_printing_writing\",\n",
    "    \"q10_cuts_pictures_shapes\",\n",
    "    \"q11_likes_sports_motors_skills\",\n",
    "    \"q13_quick_competent_tidying_up\",\n",
    "    \"fine_motor_handwriting\",\n",
    "    #\n",
    "    # basic medical screening --------------\n",
    "    \"dev_id\",\n",
    "    \"dev_lang_dis\",\n",
    "    \"mood_or_anx\",\n",
    "    \"neuro_oth_calc\",\n",
    "    # \n",
    "    # individuals registration -------------\n",
    "    \"diagnosis_age\",\n",
    "    \"ASD_services\",\n",
    "    \"iep_asd\",\n",
    "    \"cognitive_impairment_at_enrollment\",   # ENCODING\n",
    "    \"language_level_at_enrollment\"   # ENCODING\n",
    "]\n",
    "\n",
    "\n",
    "total = total[model_para]"
   ]
  },
  {
   "cell_type": "code",
   "execution_count": 59,
   "id": "5a0f8344-c2a6-470d-9c61-3113ab9f6fc1",
   "metadata": {},
   "outputs": [
    {
     "data": {
      "text/plain": [
       "(6008, 82)"
      ]
     },
     "execution_count": 59,
     "metadata": {},
     "output_type": "execute_result"
    }
   ],
   "source": [
    "total.shape"
   ]
  },
  {
   "cell_type": "code",
   "execution_count": 38,
   "id": "c6f94774-0000-46e4-ad6a-342013166e82",
   "metadata": {
    "scrolled": true
   },
   "outputs": [
    {
     "name": "stdout",
     "output_type": "stream",
     "text": [
      "subject_sp_id\n",
      "age_onset_mos\n",
      "cog_age_level\n",
      "family_hx_asd_mat_aunt_uncle\n",
      "father_highest_education\n",
      "fed_self_spoon_age_mos\n",
      "function_age_level\n",
      "hand\n",
      "intervention_counseling\n",
      "intervention_medication\n",
      "intervention_ot_fine_mot\n",
      "intervention_ot_sensory\n",
      "intervention_social_skills\n",
      "intervention_speech_language\n",
      "language_age_level\n",
      "mother_highest_education\n",
      "onset_concern\n",
      "plateau_y_n\n",
      "regress_lang_return_y_n\n",
      "regress_lang_time_return\n",
      "regress_lang_y_n\n",
      "repeat_grade\n",
      "smiled_age_mos\n",
      "sped_504\n",
      "sped_aide\n",
      "sped_asd_class_ft\n",
      "sped_birth_to_three\n",
      "sped_iep_asd\n",
      "sped_iep_other\n",
      "sped_ot\n",
      "sped_other\n",
      "sped_other_class_ft\n",
      "sped_other_class_pt\n",
      "sped_preschool\n",
      "sped_priv_asd\n",
      "sped_pt\n",
      "sped_soc_skills\n",
      "sped_speech\n",
      "sped_y_n\n",
      "support_require\n",
      "q01_phrases\n",
      "q02_conversation\n",
      "q04_inappropriate_question\n",
      "q06_invented_words\n",
      "q09_expressions_appropriate\n",
      "q10_hand_tool\n",
      "q13_interests_intensity\n",
      "q14_senses\n",
      "q18_objects_carry\n",
      "q20_talk_friendly\n",
      "q21_copy_you\n",
      "q22_point_things\n",
      "q23_gestures_wanted\n",
      "q24_nod_head\n",
      "q25_shake_head\n",
      "q26_look_directly\n",
      "q28_things_interested\n",
      "q29_share\n",
      "q30_join_enjoyment\n",
      "q31_comfort\n",
      "q32_help_attention\n",
      "q33_range_expressions\n",
      "q35_make_believe\n",
      "q36_same_age\n",
      "q38_pay_attention\n",
      "q02_catch_ball\n",
      "q05_run_fast_similar\n",
      "q06_plan_motor_activity\n",
      "q09_appropriate_tension_printing_writing\n",
      "q10_cuts_pictures_shapes\n",
      "q11_likes_sports_motors_skills\n",
      "q13_quick_competent_tidying_up\n",
      "fine_motor_handwriting\n",
      "dev_id\n",
      "dev_lang_dis\n",
      "mood_or_anx\n",
      "neuro_oth_calc\n",
      "diagnosis_age\n",
      "ASD_services\n",
      "iep_asd\n",
      "cognitive_impairment_at_enrollment\n",
      "language_level_at_enrollment\n"
     ]
    }
   ],
   "source": [
    "for col in total.columns:\n",
    "    print(col)"
   ]
  },
  {
   "cell_type": "code",
   "execution_count": 88,
   "id": "d7ec813a-8d9f-43d3-a291-1857aebbc15d",
   "metadata": {},
   "outputs": [],
   "source": [
    "total.to_csv('total.csv', index=False)"
   ]
  },
  {
   "cell_type": "code",
   "execution_count": 89,
   "id": "96abd30b-4ea2-413b-88de-6812af0188df",
   "metadata": {},
   "outputs": [],
   "source": [
    "final.to_csv('final.csv', index=False)"
   ]
  },
  {
   "cell_type": "markdown",
   "id": "3decf415-cf03-4262-99b7-f4d8d51b395c",
   "metadata": {},
   "source": [
    "### Combining predictor dataset with deriv_cog_impair dataset"
   ]
  },
  {
   "cell_type": "code",
   "execution_count": 60,
   "id": "53dc684b-0916-4287-896e-1c6e0d24ded6",
   "metadata": {},
   "outputs": [],
   "source": [
    "final = total.merge(less5[['subject_sp_id', 'deriv_cog_impair']], on='subject_sp_id', how='left')"
   ]
  },
  {
   "cell_type": "code",
   "execution_count": 56,
   "id": "c02f87b9-fabd-4ba0-94ff-78d50c787c72",
   "metadata": {},
   "outputs": [
    {
     "data": {
      "text/plain": [
       "(59, 97)"
      ]
     },
     "execution_count": 56,
     "metadata": {},
     "output_type": "execute_result"
    }
   ],
   "source": [
    "final.shape # inner join"
   ]
  },
  {
   "cell_type": "code",
   "execution_count": 61,
   "id": "9227c522-c5df-4f7b-9548-3e746788dada",
   "metadata": {},
   "outputs": [
    {
     "data": {
      "text/plain": [
       "(6062, 83)"
      ]
     },
     "execution_count": 61,
     "metadata": {},
     "output_type": "execute_result"
    }
   ],
   "source": [
    "final.shape # left join"
   ]
  },
  {
   "cell_type": "code",
   "execution_count": 63,
   "id": "be12ac85-1e52-4232-b246-21868d994316",
   "metadata": {},
   "outputs": [
    {
     "data": {
      "text/plain": [
       "(623, 14)"
      ]
     },
     "execution_count": 63,
     "metadata": {},
     "output_type": "execute_result"
    }
   ],
   "source": [
    "less5.shape"
   ]
  },
  {
   "cell_type": "code",
   "execution_count": 62,
   "id": "bb73b89e-dd53-4f56-888a-08342dd15caa",
   "metadata": {},
   "outputs": [
    {
     "data": {
      "text/plain": [
       "(6008, 82)"
      ]
     },
     "execution_count": 62,
     "metadata": {},
     "output_type": "execute_result"
    }
   ],
   "source": [
    "total.shape"
   ]
  },
  {
   "cell_type": "code",
   "execution_count": 90,
   "id": "67915826-f9e8-473b-8d1c-51f71b8dbecd",
   "metadata": {
    "scrolled": true
   },
   "outputs": [
    {
     "name": "stdout",
     "output_type": "stream",
     "text": [
      "subject_sp_id\n",
      "age_onset_mos\n",
      "cog_age_level\n",
      "family_hx_asd_mat_aunt_uncle\n",
      "father_highest_education\n",
      "fed_self_spoon_age_mos\n",
      "function_age_level\n",
      "hand\n",
      "intervention_counseling\n",
      "intervention_medication\n",
      "intervention_ot_fine_mot\n",
      "intervention_ot_sensory\n",
      "intervention_social_skills\n",
      "intervention_speech_language\n",
      "language_age_level\n",
      "mother_highest_education\n",
      "onset_concern\n",
      "plateau_y_n\n",
      "regress_lang_return_y_n\n",
      "regress_lang_time_return\n",
      "regress_lang_y_n\n",
      "repeat_grade\n",
      "smiled_age_mos\n",
      "sped_504\n",
      "sped_aide\n",
      "sped_asd_class_ft\n",
      "sped_birth_to_three\n",
      "sped_iep_asd\n",
      "sped_iep_other\n",
      "sped_ot\n",
      "sped_other\n",
      "sped_other_class_ft\n",
      "sped_other_class_pt\n",
      "sped_preschool\n",
      "sped_priv_asd\n",
      "sped_pt\n",
      "sped_soc_skills\n",
      "sped_speech\n",
      "sped_y_n\n",
      "support_require\n",
      "q01_phrases\n",
      "q02_conversation\n",
      "q04_inappropriate_question\n",
      "q06_invented_words\n",
      "q09_expressions_appropriate\n",
      "q10_hand_tool\n",
      "q13_interests_intensity\n",
      "q14_senses\n",
      "q18_objects_carry\n",
      "q20_talk_friendly\n",
      "q21_copy_you\n",
      "q22_point_things\n",
      "q23_gestures_wanted\n",
      "q24_nod_head\n",
      "q25_shake_head\n",
      "q26_look_directly\n",
      "q28_things_interested\n",
      "q29_share\n",
      "q30_join_enjoyment\n",
      "q31_comfort\n",
      "q32_help_attention\n",
      "q33_range_expressions\n",
      "q35_make_believe\n",
      "q36_same_age\n",
      "q38_pay_attention\n",
      "q02_catch_ball\n",
      "q05_run_fast_similar\n",
      "q06_plan_motor_activity\n",
      "q09_appropriate_tension_printing_writing\n",
      "q10_cuts_pictures_shapes\n",
      "q11_likes_sports_motors_skills\n",
      "q13_quick_competent_tidying_up\n",
      "fine_motor_handwriting\n",
      "dev_id\n",
      "dev_lang_dis\n",
      "mood_or_anx\n",
      "neuro_oth_calc\n",
      "diagnosis_age\n",
      "ASD_services\n",
      "iep_asd\n",
      "cognitive_impairment_at_enrollment\n",
      "language_level_at_enrollment\n",
      "deriv_cog_impair\n"
     ]
    }
   ],
   "source": [
    "for col in final.columns:\n",
    "    print(col)"
   ]
  },
  {
   "cell_type": "markdown",
   "id": "75aafdd1-0a76-448b-abb8-2219026886de",
   "metadata": {},
   "source": [
    "### Missing values in final dataset"
   ]
  },
  {
   "cell_type": "markdown",
   "id": "c51b186b-223f-4b52-a9ac-f087f1ed9522",
   "metadata": {},
   "source": [
    "Only 59 rows ar obtained after we have combined all the required datasets?\n",
    "\n",
    "How can we increase the no of entries? \n",
    "Should we allow some entries to remain empty for some subjects, and then apply some form of imputation?"
   ]
  },
  {
   "cell_type": "code",
   "execution_count": 64,
   "id": "b2743087-5794-4ab7-8a47-0f5d0355c45e",
   "metadata": {
    "scrolled": true
   },
   "outputs": [
    {
     "name": "stdout",
     "output_type": "stream",
     "text": [
      "Column 'subject_sp_id': 0 blank entries\n",
      "Column 'age_onset_mos': 2860 blank entries\n",
      "Column 'cog_age_level': 2928 blank entries\n",
      "Column 'family_hx_asd_mat_aunt_uncle': 5877 blank entries\n",
      "Column 'father_highest_education': 2899 blank entries\n",
      "Column 'fed_self_spoon_age_mos': 2990 blank entries\n",
      "Column 'function_age_level': 2866 blank entries\n",
      "Column 'hand': 2849 blank entries\n",
      "Column 'intervention_counseling': 5017 blank entries\n",
      "Column 'intervention_medication': 4621 blank entries\n",
      "Column 'intervention_ot_fine_mot': 4179 blank entries\n",
      "Column 'intervention_ot_sensory': 4579 blank entries\n",
      "Column 'intervention_social_skills': 5214 blank entries\n",
      "Column 'intervention_speech_language': 3836 blank entries\n",
      "Column 'language_age_level': 2871 blank entries\n",
      "Column 'mother_highest_education': 2854 blank entries\n",
      "Column 'onset_concern': 2870 blank entries\n",
      "Column 'plateau_y_n': 2853 blank entries\n",
      "Column 'regress_lang_return_y_n': 5096 blank entries\n",
      "Column 'regress_lang_time_return': 5399 blank entries\n",
      "Column 'regress_lang_y_n': 2857 blank entries\n",
      "Column 'repeat_grade': 2914 blank entries\n",
      "Column 'smiled_age_mos': 2928 blank entries\n",
      "Column 'sped_504': 5779 blank entries\n",
      "Column 'sped_aide': 5079 blank entries\n",
      "Column 'sped_asd_class_ft': 5607 blank entries\n",
      "Column 'sped_birth_to_three': 4486 blank entries\n",
      "Column 'sped_iep_asd': 4003 blank entries\n",
      "Column 'sped_iep_other': 4457 blank entries\n",
      "Column 'sped_ot': 3803 blank entries\n",
      "Column 'sped_other': 5830 blank entries\n",
      "Column 'sped_other_class_ft': 5842 blank entries\n",
      "Column 'sped_other_class_pt': 5861 blank entries\n",
      "Column 'sped_preschool': 4025 blank entries\n",
      "Column 'sped_priv_asd': 5869 blank entries\n",
      "Column 'sped_pt': 5141 blank entries\n",
      "Column 'sped_soc_skills': 5023 blank entries\n",
      "Column 'sped_speech': 3549 blank entries\n",
      "Column 'sped_y_n': 2864 blank entries\n",
      "Column 'support_require': 2851 blank entries\n",
      "Column 'q01_phrases': 2183 blank entries\n",
      "Column 'q02_conversation': 2944 blank entries\n",
      "Column 'q04_inappropriate_question': 2951 blank entries\n",
      "Column 'q06_invented_words': 2949 blank entries\n",
      "Column 'q09_expressions_appropriate': 2178 blank entries\n",
      "Column 'q10_hand_tool': 2172 blank entries\n",
      "Column 'q13_interests_intensity': 2178 blank entries\n",
      "Column 'q14_senses': 2176 blank entries\n",
      "Column 'q18_objects_carry': 2169 blank entries\n",
      "Column 'q20_talk_friendly': 2180 blank entries\n",
      "Column 'q21_copy_you': 2193 blank entries\n",
      "Column 'q22_point_things': 2204 blank entries\n",
      "Column 'q23_gestures_wanted': 2188 blank entries\n",
      "Column 'q24_nod_head': 2193 blank entries\n",
      "Column 'q25_shake_head': 2186 blank entries\n",
      "Column 'q26_look_directly': 2189 blank entries\n",
      "Column 'q28_things_interested': 2193 blank entries\n",
      "Column 'q29_share': 2189 blank entries\n",
      "Column 'q30_join_enjoyment': 2191 blank entries\n",
      "Column 'q31_comfort': 2189 blank entries\n",
      "Column 'q32_help_attention': 2192 blank entries\n",
      "Column 'q33_range_expressions': 2196 blank entries\n",
      "Column 'q35_make_believe': 2188 blank entries\n",
      "Column 'q36_same_age': 2186 blank entries\n",
      "Column 'q38_pay_attention': 2187 blank entries\n",
      "Column 'q02_catch_ball': 3429 blank entries\n",
      "Column 'q05_run_fast_similar': 3427 blank entries\n",
      "Column 'q06_plan_motor_activity': 3433 blank entries\n",
      "Column 'q09_appropriate_tension_printing_writing': 3431 blank entries\n",
      "Column 'q10_cuts_pictures_shapes': 3429 blank entries\n",
      "Column 'q11_likes_sports_motors_skills': 3430 blank entries\n",
      "Column 'q13_quick_competent_tidying_up': 3431 blank entries\n",
      "Column 'fine_motor_handwriting': 3427 blank entries\n",
      "Column 'dev_id': 5115 blank entries\n",
      "Column 'dev_lang_dis': 3700 blank entries\n",
      "Column 'mood_or_anx': 4884 blank entries\n",
      "Column 'neuro_oth_calc': 1784 blank entries\n",
      "Column 'diagnosis_age': 75 blank entries\n",
      "Column 'ASD_services': 15 blank entries\n",
      "Column 'iep_asd': 15 blank entries\n",
      "Column 'cognitive_impairment_at_enrollment': 30 blank entries\n",
      "Column 'language_level_at_enrollment': 239 blank entries\n",
      "Column 'deriv_cog_impair': 5383 blank entries\n"
     ]
    }
   ],
   "source": [
    "# check missing data in left joined final dataset\n",
    "\n",
    "blank_entries_per_column = {}\n",
    "\n",
    "# Iterate over each column\n",
    "for column in final.columns:\n",
    "    # Count the number of blank entries in the column\n",
    "    blank_entries_count = final[column].isnull().sum()\n",
    "    \n",
    "    # Add the column name and corresponding count of blank entries to the dictionary\n",
    "    blank_entries_per_column[column] = blank_entries_count\n",
    "\n",
    "# Print the dictionary containing column names and corresponding counts of blank entries\n",
    "for column, count in blank_entries_per_column.items():\n",
    "    print(f\"Column '{column}': {count} blank entries\")"
   ]
  },
  {
   "cell_type": "markdown",
   "id": "46308c11-e402-4d98-9f5d-19c29a5bee63",
   "metadata": {
    "jp-MarkdownHeadingCollapsed": true
   },
   "source": [
    "# Experimental IQ data"
   ]
  },
  {
   "cell_type": "code",
   "execution_count": null,
   "id": "6942e78f-55de-4d4c-a4eb-65d387e391d4",
   "metadata": {},
   "outputs": [],
   "source": [
    "# check overlap between exp_iq data and other datasets i.e. iq and basic\n",
    "\n",
    "iq_basic['asd'].fillna(value=0)\n"
   ]
  },
  {
   "cell_type": "code",
   "execution_count": 70,
   "id": "c4789697-1917-44cd-a185-cdb0944e260f",
   "metadata": {},
   "outputs": [],
   "source": [
    "exp_id = pd.read_csv(\"predicted_iq_experimental-2023-07-21.csv\")"
   ]
  },
  {
   "cell_type": "code",
   "execution_count": 77,
   "id": "88903c9f-89d0-44e5-8832-1c98f8a2ca51",
   "metadata": {},
   "outputs": [
    {
     "name": "stdout",
     "output_type": "stream",
     "text": [
      "total entries: (49621, 8)\n"
     ]
    }
   ],
   "source": [
    "print(\"total entries:\", exp_id.shape)"
   ]
  },
  {
   "cell_type": "code",
   "execution_count": 69,
   "id": "bb3ee2cb-3757-4707-80ef-0b2bc9f9b868",
   "metadata": {},
   "outputs": [
    {
     "name": "stdout",
     "output_type": "stream",
     "text": [
      "derived_cog_impair counts:  (108801, 8)\n"
     ]
    }
   ],
   "source": [
    "exp_id = exp_id[exp_id['derived_cog_impair'].notna()]\n",
    "print(\"derived_cog_impair counts: \", exp_id.shape)"
   ]
  },
  {
   "cell_type": "code",
   "execution_count": 71,
   "id": "d1ee7657-570d-4aea-9507-380670a8b144",
   "metadata": {},
   "outputs": [
    {
     "name": "stdout",
     "output_type": "stream",
     "text": [
      "ml_predicted_cog_impair counts:  (49621, 8)\n"
     ]
    }
   ],
   "source": [
    "exp_id = exp_id[exp_id['ml_predicted_cog_impair'].notna()]\n",
    "print(\"ml_predicted_cog_impair counts: \", exp_id.shape)"
   ]
  },
  {
   "cell_type": "code",
   "execution_count": 78,
   "id": "0ba50237-678f-481f-bc88-c3aebc259a14",
   "metadata": {},
   "outputs": [
    {
     "name": "stdout",
     "output_type": "stream",
     "text": [
      "individual reg: (328974, 45)\n"
     ]
    }
   ],
   "source": [
    "print(\"individual reg:\", indi.shape)"
   ]
  },
  {
   "cell_type": "markdown",
   "id": "6f77b411-699f-44c8-a9bc-e935657afbc1",
   "metadata": {},
   "source": [
    "# 26/03"
   ]
  },
  {
   "cell_type": "markdown",
   "id": "0b8638a4-c177-4846-abb6-f0aa37b480e9",
   "metadata": {},
   "source": [
    "why is the no of datapoints in exp iq data so much more than less5 or mini?\n",
    "\n",
    "what are the metrics being used in the reference paper?\n",
    "- AUC score"
   ]
  },
  {
   "cell_type": "code",
   "execution_count": 91,
   "id": "a96c09c2-8934-43e4-90f2-f8d87e3fbb0d",
   "metadata": {},
   "outputs": [],
   "source": [
    "temp = final.iloc[:, 1:81].copy()"
   ]
  },
  {
   "cell_type": "code",
   "execution_count": 92,
   "id": "2c005cb5-5268-4441-a7b5-43f14acae46e",
   "metadata": {},
   "outputs": [
    {
     "data": {
      "text/plain": [
       "(6062, 80)"
      ]
     },
     "execution_count": 92,
     "metadata": {},
     "output_type": "execute_result"
    }
   ],
   "source": [
    "temp.shape"
   ]
  },
  {
   "cell_type": "markdown",
   "id": "66dd30a0-72e5-4bf7-a4d9-07d2972d938a",
   "metadata": {},
   "source": [
    "### XGBClassifier"
   ]
  },
  {
   "cell_type": "code",
   "execution_count": 1,
   "id": "b531c8a7-3d2e-48aa-abe3-45fdb84c7847",
   "metadata": {
    "scrolled": true
   },
   "outputs": [
    {
     "ename": "FileNotFoundError",
     "evalue": "[Errno 2] No such file or directory: 'final.csv'",
     "output_type": "error",
     "traceback": [
      "\u001b[0;31m---------------------------------------------------------------------------\u001b[0m",
      "\u001b[0;31mFileNotFoundError\u001b[0m                         Traceback (most recent call last)",
      "Cell \u001b[0;32mIn[1], line 71\u001b[0m\n\u001b[1;32m     67\u001b[0m     \u001b[38;5;28mprint\u001b[39m(\u001b[38;5;124mf\u001b[39m\u001b[38;5;124m\"\u001b[39m\u001b[38;5;124mStandard deviation: \u001b[39m\u001b[38;5;132;01m{\u001b[39;00mstd_dev\u001b[38;5;132;01m}\u001b[39;00m\u001b[38;5;124m\"\u001b[39m)\n\u001b[1;32m     70\u001b[0m \u001b[38;5;28;01mif\u001b[39;00m \u001b[38;5;18m__name__\u001b[39m \u001b[38;5;241m==\u001b[39m \u001b[38;5;124m\"\u001b[39m\u001b[38;5;124m__main__\u001b[39m\u001b[38;5;124m\"\u001b[39m:\n\u001b[0;32m---> 71\u001b[0m     \u001b[43mmain\u001b[49m\u001b[43m(\u001b[49m\u001b[43m)\u001b[49m\n",
      "Cell \u001b[0;32mIn[1], line 34\u001b[0m, in \u001b[0;36mmain\u001b[0;34m()\u001b[0m\n\u001b[1;32m     33\u001b[0m \u001b[38;5;28;01mdef\u001b[39;00m \u001b[38;5;21mmain\u001b[39m():\n\u001b[0;32m---> 34\u001b[0m     X, y \u001b[38;5;241m=\u001b[39m \u001b[43mload_data\u001b[49m\u001b[43m(\u001b[49m\u001b[43m)\u001b[49m\n\u001b[1;32m     36\u001b[0m     \u001b[38;5;66;03m# Perform cross validation (manually, using a for loop, for finer control)\u001b[39;00m\n\u001b[1;32m     37\u001b[0m     \u001b[38;5;66;03m# place the entire block of dividing datasets, model fitting, and testing within loop\u001b[39;00m\n\u001b[1;32m     39\u001b[0m     k \u001b[38;5;241m=\u001b[39m \u001b[38;5;241m10\u001b[39m\n",
      "Cell \u001b[0;32mIn[1], line 8\u001b[0m, in \u001b[0;36mload_data\u001b[0;34m()\u001b[0m\n\u001b[1;32m      7\u001b[0m \u001b[38;5;28;01mdef\u001b[39;00m \u001b[38;5;21mload_data\u001b[39m():\n\u001b[0;32m----> 8\u001b[0m     df \u001b[38;5;241m=\u001b[39m \u001b[43mpd\u001b[49m\u001b[38;5;241;43m.\u001b[39;49m\u001b[43mread_csv\u001b[49m\u001b[43m(\u001b[49m\u001b[38;5;124;43m'\u001b[39;49m\u001b[38;5;124;43mfinal.csv\u001b[39;49m\u001b[38;5;124;43m'\u001b[39;49m\u001b[43m)\u001b[49m\n\u001b[1;32m     10\u001b[0m     \u001b[38;5;66;03m# drop rows where target variable deriv_cog_impair is missing\u001b[39;00m\n\u001b[1;32m     11\u001b[0m     df \u001b[38;5;241m=\u001b[39m df\u001b[38;5;241m.\u001b[39mdropna(subset\u001b[38;5;241m=\u001b[39m[\u001b[38;5;124m'\u001b[39m\u001b[38;5;124mderiv_cog_impair\u001b[39m\u001b[38;5;124m'\u001b[39m])\n",
      "File \u001b[0;32m~/.local/lib/python3.8/site-packages/pandas/io/parsers/readers.py:912\u001b[0m, in \u001b[0;36mread_csv\u001b[0;34m(filepath_or_buffer, sep, delimiter, header, names, index_col, usecols, dtype, engine, converters, true_values, false_values, skipinitialspace, skiprows, skipfooter, nrows, na_values, keep_default_na, na_filter, verbose, skip_blank_lines, parse_dates, infer_datetime_format, keep_date_col, date_parser, date_format, dayfirst, cache_dates, iterator, chunksize, compression, thousands, decimal, lineterminator, quotechar, quoting, doublequote, escapechar, comment, encoding, encoding_errors, dialect, on_bad_lines, delim_whitespace, low_memory, memory_map, float_precision, storage_options, dtype_backend)\u001b[0m\n\u001b[1;32m    899\u001b[0m kwds_defaults \u001b[38;5;241m=\u001b[39m _refine_defaults_read(\n\u001b[1;32m    900\u001b[0m     dialect,\n\u001b[1;32m    901\u001b[0m     delimiter,\n\u001b[0;32m   (...)\u001b[0m\n\u001b[1;32m    908\u001b[0m     dtype_backend\u001b[38;5;241m=\u001b[39mdtype_backend,\n\u001b[1;32m    909\u001b[0m )\n\u001b[1;32m    910\u001b[0m kwds\u001b[38;5;241m.\u001b[39mupdate(kwds_defaults)\n\u001b[0;32m--> 912\u001b[0m \u001b[38;5;28;01mreturn\u001b[39;00m \u001b[43m_read\u001b[49m\u001b[43m(\u001b[49m\u001b[43mfilepath_or_buffer\u001b[49m\u001b[43m,\u001b[49m\u001b[43m \u001b[49m\u001b[43mkwds\u001b[49m\u001b[43m)\u001b[49m\n",
      "File \u001b[0;32m~/.local/lib/python3.8/site-packages/pandas/io/parsers/readers.py:577\u001b[0m, in \u001b[0;36m_read\u001b[0;34m(filepath_or_buffer, kwds)\u001b[0m\n\u001b[1;32m    574\u001b[0m _validate_names(kwds\u001b[38;5;241m.\u001b[39mget(\u001b[38;5;124m\"\u001b[39m\u001b[38;5;124mnames\u001b[39m\u001b[38;5;124m\"\u001b[39m, \u001b[38;5;28;01mNone\u001b[39;00m))\n\u001b[1;32m    576\u001b[0m \u001b[38;5;66;03m# Create the parser.\u001b[39;00m\n\u001b[0;32m--> 577\u001b[0m parser \u001b[38;5;241m=\u001b[39m \u001b[43mTextFileReader\u001b[49m\u001b[43m(\u001b[49m\u001b[43mfilepath_or_buffer\u001b[49m\u001b[43m,\u001b[49m\u001b[43m \u001b[49m\u001b[38;5;241;43m*\u001b[39;49m\u001b[38;5;241;43m*\u001b[39;49m\u001b[43mkwds\u001b[49m\u001b[43m)\u001b[49m\n\u001b[1;32m    579\u001b[0m \u001b[38;5;28;01mif\u001b[39;00m chunksize \u001b[38;5;129;01mor\u001b[39;00m iterator:\n\u001b[1;32m    580\u001b[0m     \u001b[38;5;28;01mreturn\u001b[39;00m parser\n",
      "File \u001b[0;32m~/.local/lib/python3.8/site-packages/pandas/io/parsers/readers.py:1407\u001b[0m, in \u001b[0;36mTextFileReader.__init__\u001b[0;34m(self, f, engine, **kwds)\u001b[0m\n\u001b[1;32m   1404\u001b[0m     \u001b[38;5;28mself\u001b[39m\u001b[38;5;241m.\u001b[39moptions[\u001b[38;5;124m\"\u001b[39m\u001b[38;5;124mhas_index_names\u001b[39m\u001b[38;5;124m\"\u001b[39m] \u001b[38;5;241m=\u001b[39m kwds[\u001b[38;5;124m\"\u001b[39m\u001b[38;5;124mhas_index_names\u001b[39m\u001b[38;5;124m\"\u001b[39m]\n\u001b[1;32m   1406\u001b[0m \u001b[38;5;28mself\u001b[39m\u001b[38;5;241m.\u001b[39mhandles: IOHandles \u001b[38;5;241m|\u001b[39m \u001b[38;5;28;01mNone\u001b[39;00m \u001b[38;5;241m=\u001b[39m \u001b[38;5;28;01mNone\u001b[39;00m\n\u001b[0;32m-> 1407\u001b[0m \u001b[38;5;28mself\u001b[39m\u001b[38;5;241m.\u001b[39m_engine \u001b[38;5;241m=\u001b[39m \u001b[38;5;28;43mself\u001b[39;49m\u001b[38;5;241;43m.\u001b[39;49m\u001b[43m_make_engine\u001b[49m\u001b[43m(\u001b[49m\u001b[43mf\u001b[49m\u001b[43m,\u001b[49m\u001b[43m \u001b[49m\u001b[38;5;28;43mself\u001b[39;49m\u001b[38;5;241;43m.\u001b[39;49m\u001b[43mengine\u001b[49m\u001b[43m)\u001b[49m\n",
      "File \u001b[0;32m~/.local/lib/python3.8/site-packages/pandas/io/parsers/readers.py:1661\u001b[0m, in \u001b[0;36mTextFileReader._make_engine\u001b[0;34m(self, f, engine)\u001b[0m\n\u001b[1;32m   1659\u001b[0m     \u001b[38;5;28;01mif\u001b[39;00m \u001b[38;5;124m\"\u001b[39m\u001b[38;5;124mb\u001b[39m\u001b[38;5;124m\"\u001b[39m \u001b[38;5;129;01mnot\u001b[39;00m \u001b[38;5;129;01min\u001b[39;00m mode:\n\u001b[1;32m   1660\u001b[0m         mode \u001b[38;5;241m+\u001b[39m\u001b[38;5;241m=\u001b[39m \u001b[38;5;124m\"\u001b[39m\u001b[38;5;124mb\u001b[39m\u001b[38;5;124m\"\u001b[39m\n\u001b[0;32m-> 1661\u001b[0m \u001b[38;5;28mself\u001b[39m\u001b[38;5;241m.\u001b[39mhandles \u001b[38;5;241m=\u001b[39m \u001b[43mget_handle\u001b[49m\u001b[43m(\u001b[49m\n\u001b[1;32m   1662\u001b[0m \u001b[43m    \u001b[49m\u001b[43mf\u001b[49m\u001b[43m,\u001b[49m\n\u001b[1;32m   1663\u001b[0m \u001b[43m    \u001b[49m\u001b[43mmode\u001b[49m\u001b[43m,\u001b[49m\n\u001b[1;32m   1664\u001b[0m \u001b[43m    \u001b[49m\u001b[43mencoding\u001b[49m\u001b[38;5;241;43m=\u001b[39;49m\u001b[38;5;28;43mself\u001b[39;49m\u001b[38;5;241;43m.\u001b[39;49m\u001b[43moptions\u001b[49m\u001b[38;5;241;43m.\u001b[39;49m\u001b[43mget\u001b[49m\u001b[43m(\u001b[49m\u001b[38;5;124;43m\"\u001b[39;49m\u001b[38;5;124;43mencoding\u001b[39;49m\u001b[38;5;124;43m\"\u001b[39;49m\u001b[43m,\u001b[49m\u001b[43m \u001b[49m\u001b[38;5;28;43;01mNone\u001b[39;49;00m\u001b[43m)\u001b[49m\u001b[43m,\u001b[49m\n\u001b[1;32m   1665\u001b[0m \u001b[43m    \u001b[49m\u001b[43mcompression\u001b[49m\u001b[38;5;241;43m=\u001b[39;49m\u001b[38;5;28;43mself\u001b[39;49m\u001b[38;5;241;43m.\u001b[39;49m\u001b[43moptions\u001b[49m\u001b[38;5;241;43m.\u001b[39;49m\u001b[43mget\u001b[49m\u001b[43m(\u001b[49m\u001b[38;5;124;43m\"\u001b[39;49m\u001b[38;5;124;43mcompression\u001b[39;49m\u001b[38;5;124;43m\"\u001b[39;49m\u001b[43m,\u001b[49m\u001b[43m \u001b[49m\u001b[38;5;28;43;01mNone\u001b[39;49;00m\u001b[43m)\u001b[49m\u001b[43m,\u001b[49m\n\u001b[1;32m   1666\u001b[0m \u001b[43m    \u001b[49m\u001b[43mmemory_map\u001b[49m\u001b[38;5;241;43m=\u001b[39;49m\u001b[38;5;28;43mself\u001b[39;49m\u001b[38;5;241;43m.\u001b[39;49m\u001b[43moptions\u001b[49m\u001b[38;5;241;43m.\u001b[39;49m\u001b[43mget\u001b[49m\u001b[43m(\u001b[49m\u001b[38;5;124;43m\"\u001b[39;49m\u001b[38;5;124;43mmemory_map\u001b[39;49m\u001b[38;5;124;43m\"\u001b[39;49m\u001b[43m,\u001b[49m\u001b[43m \u001b[49m\u001b[38;5;28;43;01mFalse\u001b[39;49;00m\u001b[43m)\u001b[49m\u001b[43m,\u001b[49m\n\u001b[1;32m   1667\u001b[0m \u001b[43m    \u001b[49m\u001b[43mis_text\u001b[49m\u001b[38;5;241;43m=\u001b[39;49m\u001b[43mis_text\u001b[49m\u001b[43m,\u001b[49m\n\u001b[1;32m   1668\u001b[0m \u001b[43m    \u001b[49m\u001b[43merrors\u001b[49m\u001b[38;5;241;43m=\u001b[39;49m\u001b[38;5;28;43mself\u001b[39;49m\u001b[38;5;241;43m.\u001b[39;49m\u001b[43moptions\u001b[49m\u001b[38;5;241;43m.\u001b[39;49m\u001b[43mget\u001b[49m\u001b[43m(\u001b[49m\u001b[38;5;124;43m\"\u001b[39;49m\u001b[38;5;124;43mencoding_errors\u001b[39;49m\u001b[38;5;124;43m\"\u001b[39;49m\u001b[43m,\u001b[49m\u001b[43m \u001b[49m\u001b[38;5;124;43m\"\u001b[39;49m\u001b[38;5;124;43mstrict\u001b[39;49m\u001b[38;5;124;43m\"\u001b[39;49m\u001b[43m)\u001b[49m\u001b[43m,\u001b[49m\n\u001b[1;32m   1669\u001b[0m \u001b[43m    \u001b[49m\u001b[43mstorage_options\u001b[49m\u001b[38;5;241;43m=\u001b[39;49m\u001b[38;5;28;43mself\u001b[39;49m\u001b[38;5;241;43m.\u001b[39;49m\u001b[43moptions\u001b[49m\u001b[38;5;241;43m.\u001b[39;49m\u001b[43mget\u001b[49m\u001b[43m(\u001b[49m\u001b[38;5;124;43m\"\u001b[39;49m\u001b[38;5;124;43mstorage_options\u001b[39;49m\u001b[38;5;124;43m\"\u001b[39;49m\u001b[43m,\u001b[49m\u001b[43m \u001b[49m\u001b[38;5;28;43;01mNone\u001b[39;49;00m\u001b[43m)\u001b[49m\u001b[43m,\u001b[49m\n\u001b[1;32m   1670\u001b[0m \u001b[43m\u001b[49m\u001b[43m)\u001b[49m\n\u001b[1;32m   1671\u001b[0m \u001b[38;5;28;01massert\u001b[39;00m \u001b[38;5;28mself\u001b[39m\u001b[38;5;241m.\u001b[39mhandles \u001b[38;5;129;01mis\u001b[39;00m \u001b[38;5;129;01mnot\u001b[39;00m \u001b[38;5;28;01mNone\u001b[39;00m\n\u001b[1;32m   1672\u001b[0m f \u001b[38;5;241m=\u001b[39m \u001b[38;5;28mself\u001b[39m\u001b[38;5;241m.\u001b[39mhandles\u001b[38;5;241m.\u001b[39mhandle\n",
      "File \u001b[0;32m~/.local/lib/python3.8/site-packages/pandas/io/common.py:859\u001b[0m, in \u001b[0;36mget_handle\u001b[0;34m(path_or_buf, mode, encoding, compression, memory_map, is_text, errors, storage_options)\u001b[0m\n\u001b[1;32m    854\u001b[0m \u001b[38;5;28;01melif\u001b[39;00m \u001b[38;5;28misinstance\u001b[39m(handle, \u001b[38;5;28mstr\u001b[39m):\n\u001b[1;32m    855\u001b[0m     \u001b[38;5;66;03m# Check whether the filename is to be opened in binary mode.\u001b[39;00m\n\u001b[1;32m    856\u001b[0m     \u001b[38;5;66;03m# Binary mode does not support 'encoding' and 'newline'.\u001b[39;00m\n\u001b[1;32m    857\u001b[0m     \u001b[38;5;28;01mif\u001b[39;00m ioargs\u001b[38;5;241m.\u001b[39mencoding \u001b[38;5;129;01mand\u001b[39;00m \u001b[38;5;124m\"\u001b[39m\u001b[38;5;124mb\u001b[39m\u001b[38;5;124m\"\u001b[39m \u001b[38;5;129;01mnot\u001b[39;00m \u001b[38;5;129;01min\u001b[39;00m ioargs\u001b[38;5;241m.\u001b[39mmode:\n\u001b[1;32m    858\u001b[0m         \u001b[38;5;66;03m# Encoding\u001b[39;00m\n\u001b[0;32m--> 859\u001b[0m         handle \u001b[38;5;241m=\u001b[39m \u001b[38;5;28;43mopen\u001b[39;49m\u001b[43m(\u001b[49m\n\u001b[1;32m    860\u001b[0m \u001b[43m            \u001b[49m\u001b[43mhandle\u001b[49m\u001b[43m,\u001b[49m\n\u001b[1;32m    861\u001b[0m \u001b[43m            \u001b[49m\u001b[43mioargs\u001b[49m\u001b[38;5;241;43m.\u001b[39;49m\u001b[43mmode\u001b[49m\u001b[43m,\u001b[49m\n\u001b[1;32m    862\u001b[0m \u001b[43m            \u001b[49m\u001b[43mencoding\u001b[49m\u001b[38;5;241;43m=\u001b[39;49m\u001b[43mioargs\u001b[49m\u001b[38;5;241;43m.\u001b[39;49m\u001b[43mencoding\u001b[49m\u001b[43m,\u001b[49m\n\u001b[1;32m    863\u001b[0m \u001b[43m            \u001b[49m\u001b[43merrors\u001b[49m\u001b[38;5;241;43m=\u001b[39;49m\u001b[43merrors\u001b[49m\u001b[43m,\u001b[49m\n\u001b[1;32m    864\u001b[0m \u001b[43m            \u001b[49m\u001b[43mnewline\u001b[49m\u001b[38;5;241;43m=\u001b[39;49m\u001b[38;5;124;43m\"\u001b[39;49m\u001b[38;5;124;43m\"\u001b[39;49m\u001b[43m,\u001b[49m\n\u001b[1;32m    865\u001b[0m \u001b[43m        \u001b[49m\u001b[43m)\u001b[49m\n\u001b[1;32m    866\u001b[0m     \u001b[38;5;28;01melse\u001b[39;00m:\n\u001b[1;32m    867\u001b[0m         \u001b[38;5;66;03m# Binary mode\u001b[39;00m\n\u001b[1;32m    868\u001b[0m         handle \u001b[38;5;241m=\u001b[39m \u001b[38;5;28mopen\u001b[39m(handle, ioargs\u001b[38;5;241m.\u001b[39mmode)\n",
      "\u001b[0;31mFileNotFoundError\u001b[0m: [Errno 2] No such file or directory: 'final.csv'"
     ]
    }
   ],
   "source": [
    "from xgboost import XGBClassifier\n",
    "import pandas as pd\n",
    "import numpy as np\n",
    "from sklearn.model_selection import train_test_split\n",
    "\n",
    "\n",
    "def load_data():\n",
    "    df = pd.read_csv('final.csv')\n",
    "\n",
    "    # drop rows where target variable deriv_cog_impair is missing\n",
    "    df = df.dropna(subset=['deriv_cog_impair'])\n",
    "\n",
    "\n",
    "    # Identify categorical columns\n",
    "    categorical_columns = ['cog_age_level', 'father_highest_education', 'function_age_level', 'hand', 'language_age_level',\n",
    "                       'mother_highest_education', 'onset_concern', 'regress_lang_time_return', 'support_require',\n",
    "                       'ASD_services', 'iep_asd', 'cognitive_impairment_at_enrollment', 'language_level_at_enrollment']\n",
    "\n",
    "    # One-hot encode categorical columns\n",
    "    df_encoded = pd.get_dummies(df, columns=categorical_columns)\n",
    "\n",
    "    # Separate features and target variable\n",
    "    X = df_encoded.drop(columns=['subject_sp_id','deriv_cog_impair']) \n",
    "    y = df_encoded['deriv_cog_impair']\n",
    "\n",
    "    return X, y\n",
    "\n",
    "\n",
    "def create_model(eval_metrics):\n",
    "    return XGBClassifier(n_estimators=100, learning_rate=0.1, eval_metric=eval_metrics, early_stopping_rounds=5)\n",
    "\n",
    "\n",
    "def main():\n",
    "    X, y = load_data()\n",
    "\n",
    "    # Perform cross validation (manually, using a for loop, for finer control)\n",
    "    # place the entire block of dividing datasets, model fitting, and testing within loop\n",
    "\n",
    "    k = 10\n",
    "\n",
    "    eval_metrics = [\"auc\"]\n",
    "    results = []\n",
    "\n",
    "    # Loop over each fold\n",
    "    for i in range(k):\n",
    "        # Split data into training and test sets for current fold\n",
    "        X_train, X_test, y_train, y_test = train_test_split(X, y, test_size=0.2, random_state=i)\n",
    "        X_train, X_val, y_train, y_val = train_test_split(X_train, y_train, test_size=0.2, random_state=i)\n",
    "\n",
    "        eval_set = [(X_train, y_train), (X_val, y_val)]\n",
    "\n",
    "        # Create and fit model for current fold\n",
    "        model = create_model(eval_metrics)\n",
    "        model.fit(X_train, y_train, eval_set=eval_set, verbose=True)\n",
    "\n",
    "        # Evaluate model on test set for current fold\n",
    "        score = model.score(X_test, y_test)\n",
    "        results.append(score)\n",
    "    \n",
    "    # Calculate average score and standard deviation\n",
    "    avg_auc_score = np.mean(results)\n",
    "    std_dev = np.std(results)\n",
    "\n",
    "    print(\"\\n AUC scores: \\n\")\n",
    "\n",
    "    print(f\"Average score: {avg_auc_score}\")\n",
    "    print(f\"Standard deviation: {std_dev}\")\n",
    "\n",
    "\n",
    "if __name__ == \"__main__\":\n",
    "    main()"
   ]
  },
  {
   "cell_type": "markdown",
   "id": "882046ac-1192-4d73-a1fd-d067afed6213",
   "metadata": {},
   "source": [
    "## SVC"
   ]
  },
  {
   "cell_type": "code",
   "execution_count": 99,
   "id": "c698e1a6-4236-42b6-9521-d221ce0f6485",
   "metadata": {},
   "outputs": [
    {
     "ename": "ValueError",
     "evalue": "Input X contains NaN.\nSVC does not accept missing values encoded as NaN natively. For supervised learning, you might want to consider sklearn.ensemble.HistGradientBoostingClassifier and Regressor which accept missing values encoded as NaNs natively. Alternatively, it is possible to preprocess the data, for instance by using an imputer transformer in a pipeline or drop samples with missing values. See https://scikit-learn.org/stable/modules/impute.html You can find a list of all estimators that handle NaN values at the following page: https://scikit-learn.org/stable/modules/impute.html#estimators-that-handle-nan-values",
     "output_type": "error",
     "traceback": [
      "\u001b[1;31m---------------------------------------------------------------------------\u001b[0m",
      "\u001b[1;31mValueError\u001b[0m                                Traceback (most recent call last)",
      "Cell \u001b[1;32mIn[99], line 62\u001b[0m\n\u001b[0;32m     58\u001b[0m     \u001b[38;5;28mprint\u001b[39m(\u001b[38;5;124mf\u001b[39m\u001b[38;5;124m\"\u001b[39m\u001b[38;5;124mStandard deviation: \u001b[39m\u001b[38;5;132;01m{\u001b[39;00mstd_dev\u001b[38;5;132;01m}\u001b[39;00m\u001b[38;5;124m\"\u001b[39m)\n\u001b[0;32m     61\u001b[0m \u001b[38;5;28;01mif\u001b[39;00m \u001b[38;5;18m__name__\u001b[39m \u001b[38;5;241m==\u001b[39m \u001b[38;5;124m\"\u001b[39m\u001b[38;5;124m__main__\u001b[39m\u001b[38;5;124m\"\u001b[39m:\n\u001b[1;32m---> 62\u001b[0m     \u001b[43mmain\u001b[49m\u001b[43m(\u001b[49m\u001b[43m)\u001b[49m\n",
      "Cell \u001b[1;32mIn[99], line 46\u001b[0m, in \u001b[0;36mmain\u001b[1;34m()\u001b[0m\n\u001b[0;32m     44\u001b[0m \u001b[38;5;66;03m# Create and fit model for current fold\u001b[39;00m\n\u001b[0;32m     45\u001b[0m model \u001b[38;5;241m=\u001b[39m create_model()\n\u001b[1;32m---> 46\u001b[0m \u001b[43mmodel\u001b[49m\u001b[38;5;241;43m.\u001b[39;49m\u001b[43mfit\u001b[49m\u001b[43m(\u001b[49m\u001b[43mX_train\u001b[49m\u001b[43m,\u001b[49m\u001b[43m \u001b[49m\u001b[43my_train\u001b[49m\u001b[43m)\u001b[49m\n\u001b[0;32m     48\u001b[0m \u001b[38;5;66;03m# Evaluate model on test set for current fold\u001b[39;00m\n\u001b[0;32m     49\u001b[0m score \u001b[38;5;241m=\u001b[39m model\u001b[38;5;241m.\u001b[39mscore(X_test, y_test)\n",
      "File \u001b[1;32mD:\\SOFTWARE\\Python\\Lib\\site-packages\\sklearn\\base.py:1151\u001b[0m, in \u001b[0;36m_fit_context.<locals>.decorator.<locals>.wrapper\u001b[1;34m(estimator, *args, **kwargs)\u001b[0m\n\u001b[0;32m   1144\u001b[0m     estimator\u001b[38;5;241m.\u001b[39m_validate_params()\n\u001b[0;32m   1146\u001b[0m \u001b[38;5;28;01mwith\u001b[39;00m config_context(\n\u001b[0;32m   1147\u001b[0m     skip_parameter_validation\u001b[38;5;241m=\u001b[39m(\n\u001b[0;32m   1148\u001b[0m         prefer_skip_nested_validation \u001b[38;5;129;01mor\u001b[39;00m global_skip_validation\n\u001b[0;32m   1149\u001b[0m     )\n\u001b[0;32m   1150\u001b[0m ):\n\u001b[1;32m-> 1151\u001b[0m     \u001b[38;5;28;01mreturn\u001b[39;00m \u001b[43mfit_method\u001b[49m\u001b[43m(\u001b[49m\u001b[43mestimator\u001b[49m\u001b[43m,\u001b[49m\u001b[43m \u001b[49m\u001b[38;5;241;43m*\u001b[39;49m\u001b[43margs\u001b[49m\u001b[43m,\u001b[49m\u001b[43m \u001b[49m\u001b[38;5;241;43m*\u001b[39;49m\u001b[38;5;241;43m*\u001b[39;49m\u001b[43mkwargs\u001b[49m\u001b[43m)\u001b[49m\n",
      "File \u001b[1;32mD:\\SOFTWARE\\Python\\Lib\\site-packages\\sklearn\\svm\\_base.py:190\u001b[0m, in \u001b[0;36mBaseLibSVM.fit\u001b[1;34m(self, X, y, sample_weight)\u001b[0m\n\u001b[0;32m    188\u001b[0m     check_consistent_length(X, y)\n\u001b[0;32m    189\u001b[0m \u001b[38;5;28;01melse\u001b[39;00m:\n\u001b[1;32m--> 190\u001b[0m     X, y \u001b[38;5;241m=\u001b[39m \u001b[38;5;28;43mself\u001b[39;49m\u001b[38;5;241;43m.\u001b[39;49m\u001b[43m_validate_data\u001b[49m\u001b[43m(\u001b[49m\n\u001b[0;32m    191\u001b[0m \u001b[43m        \u001b[49m\u001b[43mX\u001b[49m\u001b[43m,\u001b[49m\n\u001b[0;32m    192\u001b[0m \u001b[43m        \u001b[49m\u001b[43my\u001b[49m\u001b[43m,\u001b[49m\n\u001b[0;32m    193\u001b[0m \u001b[43m        \u001b[49m\u001b[43mdtype\u001b[49m\u001b[38;5;241;43m=\u001b[39;49m\u001b[43mnp\u001b[49m\u001b[38;5;241;43m.\u001b[39;49m\u001b[43mfloat64\u001b[49m\u001b[43m,\u001b[49m\n\u001b[0;32m    194\u001b[0m \u001b[43m        \u001b[49m\u001b[43morder\u001b[49m\u001b[38;5;241;43m=\u001b[39;49m\u001b[38;5;124;43m\"\u001b[39;49m\u001b[38;5;124;43mC\u001b[39;49m\u001b[38;5;124;43m\"\u001b[39;49m\u001b[43m,\u001b[49m\n\u001b[0;32m    195\u001b[0m \u001b[43m        \u001b[49m\u001b[43maccept_sparse\u001b[49m\u001b[38;5;241;43m=\u001b[39;49m\u001b[38;5;124;43m\"\u001b[39;49m\u001b[38;5;124;43mcsr\u001b[39;49m\u001b[38;5;124;43m\"\u001b[39;49m\u001b[43m,\u001b[49m\n\u001b[0;32m    196\u001b[0m \u001b[43m        \u001b[49m\u001b[43maccept_large_sparse\u001b[49m\u001b[38;5;241;43m=\u001b[39;49m\u001b[38;5;28;43;01mFalse\u001b[39;49;00m\u001b[43m,\u001b[49m\n\u001b[0;32m    197\u001b[0m \u001b[43m    \u001b[49m\u001b[43m)\u001b[49m\n\u001b[0;32m    199\u001b[0m y \u001b[38;5;241m=\u001b[39m \u001b[38;5;28mself\u001b[39m\u001b[38;5;241m.\u001b[39m_validate_targets(y)\n\u001b[0;32m    201\u001b[0m sample_weight \u001b[38;5;241m=\u001b[39m np\u001b[38;5;241m.\u001b[39masarray(\n\u001b[0;32m    202\u001b[0m     [] \u001b[38;5;28;01mif\u001b[39;00m sample_weight \u001b[38;5;129;01mis\u001b[39;00m \u001b[38;5;28;01mNone\u001b[39;00m \u001b[38;5;28;01melse\u001b[39;00m sample_weight, dtype\u001b[38;5;241m=\u001b[39mnp\u001b[38;5;241m.\u001b[39mfloat64\n\u001b[0;32m    203\u001b[0m )\n",
      "File \u001b[1;32mD:\\SOFTWARE\\Python\\Lib\\site-packages\\sklearn\\base.py:621\u001b[0m, in \u001b[0;36mBaseEstimator._validate_data\u001b[1;34m(self, X, y, reset, validate_separately, cast_to_ndarray, **check_params)\u001b[0m\n\u001b[0;32m    619\u001b[0m         y \u001b[38;5;241m=\u001b[39m check_array(y, input_name\u001b[38;5;241m=\u001b[39m\u001b[38;5;124m\"\u001b[39m\u001b[38;5;124my\u001b[39m\u001b[38;5;124m\"\u001b[39m, \u001b[38;5;241m*\u001b[39m\u001b[38;5;241m*\u001b[39mcheck_y_params)\n\u001b[0;32m    620\u001b[0m     \u001b[38;5;28;01melse\u001b[39;00m:\n\u001b[1;32m--> 621\u001b[0m         X, y \u001b[38;5;241m=\u001b[39m \u001b[43mcheck_X_y\u001b[49m\u001b[43m(\u001b[49m\u001b[43mX\u001b[49m\u001b[43m,\u001b[49m\u001b[43m \u001b[49m\u001b[43my\u001b[49m\u001b[43m,\u001b[49m\u001b[43m \u001b[49m\u001b[38;5;241;43m*\u001b[39;49m\u001b[38;5;241;43m*\u001b[39;49m\u001b[43mcheck_params\u001b[49m\u001b[43m)\u001b[49m\n\u001b[0;32m    622\u001b[0m     out \u001b[38;5;241m=\u001b[39m X, y\n\u001b[0;32m    624\u001b[0m \u001b[38;5;28;01mif\u001b[39;00m \u001b[38;5;129;01mnot\u001b[39;00m no_val_X \u001b[38;5;129;01mand\u001b[39;00m check_params\u001b[38;5;241m.\u001b[39mget(\u001b[38;5;124m\"\u001b[39m\u001b[38;5;124mensure_2d\u001b[39m\u001b[38;5;124m\"\u001b[39m, \u001b[38;5;28;01mTrue\u001b[39;00m):\n",
      "File \u001b[1;32mD:\\SOFTWARE\\Python\\Lib\\site-packages\\sklearn\\utils\\validation.py:1147\u001b[0m, in \u001b[0;36mcheck_X_y\u001b[1;34m(X, y, accept_sparse, accept_large_sparse, dtype, order, copy, force_all_finite, ensure_2d, allow_nd, multi_output, ensure_min_samples, ensure_min_features, y_numeric, estimator)\u001b[0m\n\u001b[0;32m   1142\u001b[0m         estimator_name \u001b[38;5;241m=\u001b[39m _check_estimator_name(estimator)\n\u001b[0;32m   1143\u001b[0m     \u001b[38;5;28;01mraise\u001b[39;00m \u001b[38;5;167;01mValueError\u001b[39;00m(\n\u001b[0;32m   1144\u001b[0m         \u001b[38;5;124mf\u001b[39m\u001b[38;5;124m\"\u001b[39m\u001b[38;5;132;01m{\u001b[39;00mestimator_name\u001b[38;5;132;01m}\u001b[39;00m\u001b[38;5;124m requires y to be passed, but the target y is None\u001b[39m\u001b[38;5;124m\"\u001b[39m\n\u001b[0;32m   1145\u001b[0m     )\n\u001b[1;32m-> 1147\u001b[0m X \u001b[38;5;241m=\u001b[39m \u001b[43mcheck_array\u001b[49m\u001b[43m(\u001b[49m\n\u001b[0;32m   1148\u001b[0m \u001b[43m    \u001b[49m\u001b[43mX\u001b[49m\u001b[43m,\u001b[49m\n\u001b[0;32m   1149\u001b[0m \u001b[43m    \u001b[49m\u001b[43maccept_sparse\u001b[49m\u001b[38;5;241;43m=\u001b[39;49m\u001b[43maccept_sparse\u001b[49m\u001b[43m,\u001b[49m\n\u001b[0;32m   1150\u001b[0m \u001b[43m    \u001b[49m\u001b[43maccept_large_sparse\u001b[49m\u001b[38;5;241;43m=\u001b[39;49m\u001b[43maccept_large_sparse\u001b[49m\u001b[43m,\u001b[49m\n\u001b[0;32m   1151\u001b[0m \u001b[43m    \u001b[49m\u001b[43mdtype\u001b[49m\u001b[38;5;241;43m=\u001b[39;49m\u001b[43mdtype\u001b[49m\u001b[43m,\u001b[49m\n\u001b[0;32m   1152\u001b[0m \u001b[43m    \u001b[49m\u001b[43morder\u001b[49m\u001b[38;5;241;43m=\u001b[39;49m\u001b[43morder\u001b[49m\u001b[43m,\u001b[49m\n\u001b[0;32m   1153\u001b[0m \u001b[43m    \u001b[49m\u001b[43mcopy\u001b[49m\u001b[38;5;241;43m=\u001b[39;49m\u001b[43mcopy\u001b[49m\u001b[43m,\u001b[49m\n\u001b[0;32m   1154\u001b[0m \u001b[43m    \u001b[49m\u001b[43mforce_all_finite\u001b[49m\u001b[38;5;241;43m=\u001b[39;49m\u001b[43mforce_all_finite\u001b[49m\u001b[43m,\u001b[49m\n\u001b[0;32m   1155\u001b[0m \u001b[43m    \u001b[49m\u001b[43mensure_2d\u001b[49m\u001b[38;5;241;43m=\u001b[39;49m\u001b[43mensure_2d\u001b[49m\u001b[43m,\u001b[49m\n\u001b[0;32m   1156\u001b[0m \u001b[43m    \u001b[49m\u001b[43mallow_nd\u001b[49m\u001b[38;5;241;43m=\u001b[39;49m\u001b[43mallow_nd\u001b[49m\u001b[43m,\u001b[49m\n\u001b[0;32m   1157\u001b[0m \u001b[43m    \u001b[49m\u001b[43mensure_min_samples\u001b[49m\u001b[38;5;241;43m=\u001b[39;49m\u001b[43mensure_min_samples\u001b[49m\u001b[43m,\u001b[49m\n\u001b[0;32m   1158\u001b[0m \u001b[43m    \u001b[49m\u001b[43mensure_min_features\u001b[49m\u001b[38;5;241;43m=\u001b[39;49m\u001b[43mensure_min_features\u001b[49m\u001b[43m,\u001b[49m\n\u001b[0;32m   1159\u001b[0m \u001b[43m    \u001b[49m\u001b[43mestimator\u001b[49m\u001b[38;5;241;43m=\u001b[39;49m\u001b[43mestimator\u001b[49m\u001b[43m,\u001b[49m\n\u001b[0;32m   1160\u001b[0m \u001b[43m    \u001b[49m\u001b[43minput_name\u001b[49m\u001b[38;5;241;43m=\u001b[39;49m\u001b[38;5;124;43m\"\u001b[39;49m\u001b[38;5;124;43mX\u001b[39;49m\u001b[38;5;124;43m\"\u001b[39;49m\u001b[43m,\u001b[49m\n\u001b[0;32m   1161\u001b[0m \u001b[43m\u001b[49m\u001b[43m)\u001b[49m\n\u001b[0;32m   1163\u001b[0m y \u001b[38;5;241m=\u001b[39m _check_y(y, multi_output\u001b[38;5;241m=\u001b[39mmulti_output, y_numeric\u001b[38;5;241m=\u001b[39my_numeric, estimator\u001b[38;5;241m=\u001b[39mestimator)\n\u001b[0;32m   1165\u001b[0m check_consistent_length(X, y)\n",
      "File \u001b[1;32mD:\\SOFTWARE\\Python\\Lib\\site-packages\\sklearn\\utils\\validation.py:959\u001b[0m, in \u001b[0;36mcheck_array\u001b[1;34m(array, accept_sparse, accept_large_sparse, dtype, order, copy, force_all_finite, ensure_2d, allow_nd, ensure_min_samples, ensure_min_features, estimator, input_name)\u001b[0m\n\u001b[0;32m    953\u001b[0m         \u001b[38;5;28;01mraise\u001b[39;00m \u001b[38;5;167;01mValueError\u001b[39;00m(\n\u001b[0;32m    954\u001b[0m             \u001b[38;5;124m\"\u001b[39m\u001b[38;5;124mFound array with dim \u001b[39m\u001b[38;5;132;01m%d\u001b[39;00m\u001b[38;5;124m. \u001b[39m\u001b[38;5;132;01m%s\u001b[39;00m\u001b[38;5;124m expected <= 2.\u001b[39m\u001b[38;5;124m\"\u001b[39m\n\u001b[0;32m    955\u001b[0m             \u001b[38;5;241m%\u001b[39m (array\u001b[38;5;241m.\u001b[39mndim, estimator_name)\n\u001b[0;32m    956\u001b[0m         )\n\u001b[0;32m    958\u001b[0m     \u001b[38;5;28;01mif\u001b[39;00m force_all_finite:\n\u001b[1;32m--> 959\u001b[0m         \u001b[43m_assert_all_finite\u001b[49m\u001b[43m(\u001b[49m\n\u001b[0;32m    960\u001b[0m \u001b[43m            \u001b[49m\u001b[43marray\u001b[49m\u001b[43m,\u001b[49m\n\u001b[0;32m    961\u001b[0m \u001b[43m            \u001b[49m\u001b[43minput_name\u001b[49m\u001b[38;5;241;43m=\u001b[39;49m\u001b[43minput_name\u001b[49m\u001b[43m,\u001b[49m\n\u001b[0;32m    962\u001b[0m \u001b[43m            \u001b[49m\u001b[43mestimator_name\u001b[49m\u001b[38;5;241;43m=\u001b[39;49m\u001b[43mestimator_name\u001b[49m\u001b[43m,\u001b[49m\n\u001b[0;32m    963\u001b[0m \u001b[43m            \u001b[49m\u001b[43mallow_nan\u001b[49m\u001b[38;5;241;43m=\u001b[39;49m\u001b[43mforce_all_finite\u001b[49m\u001b[43m \u001b[49m\u001b[38;5;241;43m==\u001b[39;49m\u001b[43m \u001b[49m\u001b[38;5;124;43m\"\u001b[39;49m\u001b[38;5;124;43mallow-nan\u001b[39;49m\u001b[38;5;124;43m\"\u001b[39;49m\u001b[43m,\u001b[49m\n\u001b[0;32m    964\u001b[0m \u001b[43m        \u001b[49m\u001b[43m)\u001b[49m\n\u001b[0;32m    966\u001b[0m \u001b[38;5;28;01mif\u001b[39;00m ensure_min_samples \u001b[38;5;241m>\u001b[39m \u001b[38;5;241m0\u001b[39m:\n\u001b[0;32m    967\u001b[0m     n_samples \u001b[38;5;241m=\u001b[39m _num_samples(array)\n",
      "File \u001b[1;32mD:\\SOFTWARE\\Python\\Lib\\site-packages\\sklearn\\utils\\validation.py:124\u001b[0m, in \u001b[0;36m_assert_all_finite\u001b[1;34m(X, allow_nan, msg_dtype, estimator_name, input_name)\u001b[0m\n\u001b[0;32m    121\u001b[0m \u001b[38;5;28;01mif\u001b[39;00m first_pass_isfinite:\n\u001b[0;32m    122\u001b[0m     \u001b[38;5;28;01mreturn\u001b[39;00m\n\u001b[1;32m--> 124\u001b[0m \u001b[43m_assert_all_finite_element_wise\u001b[49m\u001b[43m(\u001b[49m\n\u001b[0;32m    125\u001b[0m \u001b[43m    \u001b[49m\u001b[43mX\u001b[49m\u001b[43m,\u001b[49m\n\u001b[0;32m    126\u001b[0m \u001b[43m    \u001b[49m\u001b[43mxp\u001b[49m\u001b[38;5;241;43m=\u001b[39;49m\u001b[43mxp\u001b[49m\u001b[43m,\u001b[49m\n\u001b[0;32m    127\u001b[0m \u001b[43m    \u001b[49m\u001b[43mallow_nan\u001b[49m\u001b[38;5;241;43m=\u001b[39;49m\u001b[43mallow_nan\u001b[49m\u001b[43m,\u001b[49m\n\u001b[0;32m    128\u001b[0m \u001b[43m    \u001b[49m\u001b[43mmsg_dtype\u001b[49m\u001b[38;5;241;43m=\u001b[39;49m\u001b[43mmsg_dtype\u001b[49m\u001b[43m,\u001b[49m\n\u001b[0;32m    129\u001b[0m \u001b[43m    \u001b[49m\u001b[43mestimator_name\u001b[49m\u001b[38;5;241;43m=\u001b[39;49m\u001b[43mestimator_name\u001b[49m\u001b[43m,\u001b[49m\n\u001b[0;32m    130\u001b[0m \u001b[43m    \u001b[49m\u001b[43minput_name\u001b[49m\u001b[38;5;241;43m=\u001b[39;49m\u001b[43minput_name\u001b[49m\u001b[43m,\u001b[49m\n\u001b[0;32m    131\u001b[0m \u001b[43m\u001b[49m\u001b[43m)\u001b[49m\n",
      "File \u001b[1;32mD:\\SOFTWARE\\Python\\Lib\\site-packages\\sklearn\\utils\\validation.py:173\u001b[0m, in \u001b[0;36m_assert_all_finite_element_wise\u001b[1;34m(X, xp, allow_nan, msg_dtype, estimator_name, input_name)\u001b[0m\n\u001b[0;32m    156\u001b[0m \u001b[38;5;28;01mif\u001b[39;00m estimator_name \u001b[38;5;129;01mand\u001b[39;00m input_name \u001b[38;5;241m==\u001b[39m \u001b[38;5;124m\"\u001b[39m\u001b[38;5;124mX\u001b[39m\u001b[38;5;124m\"\u001b[39m \u001b[38;5;129;01mand\u001b[39;00m has_nan_error:\n\u001b[0;32m    157\u001b[0m     \u001b[38;5;66;03m# Improve the error message on how to handle missing values in\u001b[39;00m\n\u001b[0;32m    158\u001b[0m     \u001b[38;5;66;03m# scikit-learn.\u001b[39;00m\n\u001b[0;32m    159\u001b[0m     msg_err \u001b[38;5;241m+\u001b[39m\u001b[38;5;241m=\u001b[39m (\n\u001b[0;32m    160\u001b[0m         \u001b[38;5;124mf\u001b[39m\u001b[38;5;124m\"\u001b[39m\u001b[38;5;130;01m\\n\u001b[39;00m\u001b[38;5;132;01m{\u001b[39;00mestimator_name\u001b[38;5;132;01m}\u001b[39;00m\u001b[38;5;124m does not accept missing values\u001b[39m\u001b[38;5;124m\"\u001b[39m\n\u001b[0;32m    161\u001b[0m         \u001b[38;5;124m\"\u001b[39m\u001b[38;5;124m encoded as NaN natively. For supervised learning, you might want\u001b[39m\u001b[38;5;124m\"\u001b[39m\n\u001b[1;32m   (...)\u001b[0m\n\u001b[0;32m    171\u001b[0m         \u001b[38;5;124m\"\u001b[39m\u001b[38;5;124m#estimators-that-handle-nan-values\u001b[39m\u001b[38;5;124m\"\u001b[39m\n\u001b[0;32m    172\u001b[0m     )\n\u001b[1;32m--> 173\u001b[0m \u001b[38;5;28;01mraise\u001b[39;00m \u001b[38;5;167;01mValueError\u001b[39;00m(msg_err)\n",
      "\u001b[1;31mValueError\u001b[0m: Input X contains NaN.\nSVC does not accept missing values encoded as NaN natively. For supervised learning, you might want to consider sklearn.ensemble.HistGradientBoostingClassifier and Regressor which accept missing values encoded as NaNs natively. Alternatively, it is possible to preprocess the data, for instance by using an imputer transformer in a pipeline or drop samples with missing values. See https://scikit-learn.org/stable/modules/impute.html You can find a list of all estimators that handle NaN values at the following page: https://scikit-learn.org/stable/modules/impute.html#estimators-that-handle-nan-values"
     ]
    }
   ],
   "source": [
    "from sklearn.svm import SVC\n",
    "from sklearn.model_selection import train_test_split\n",
    "import pandas as pd\n",
    "import numpy as np\n",
    "\n",
    "def load_data():\n",
    "    df = pd.read_csv('final.csv')\n",
    "\n",
    "    # Drop rows where target variable 'deriv_cog_impair' is missing\n",
    "    df = df.dropna(subset=['deriv_cog_impair'])\n",
    "\n",
    "    # Identify categorical columns\n",
    "    categorical_columns = ['cog_age_level', 'father_highest_education', 'function_age_level', 'hand',\n",
    "                            'language_age_level', 'mother_highest_education', 'onset_concern',\n",
    "                            'regress_lang_time_return', 'support_require', 'ASD_services', 'iep_asd',\n",
    "                            'cognitive_impairment_at_enrollment', 'language_level_at_enrollment']\n",
    "\n",
    "    # One-hot encode categorical columns\n",
    "    df_encoded = pd.get_dummies(df, columns=categorical_columns)\n",
    "\n",
    "    # Separate features and target variable\n",
    "    X = df_encoded.drop(columns=['subject_sp_id', 'deriv_cog_impair'])\n",
    "    y = df_encoded['deriv_cog_impair']\n",
    "\n",
    "    return X, y\n",
    "\n",
    "\n",
    "def create_model():\n",
    "    return SVC(kernel='rbf', probability=True)  # Use radial basis function kernel\n",
    "\n",
    "\n",
    "def main():\n",
    "    X, y = load_data()\n",
    "\n",
    "    # Perform cross validation (manually, using a for loop, for finer control)\n",
    "    k = 10\n",
    "    results = []\n",
    "\n",
    "    # Loop over each fold\n",
    "    for i in range(k):\n",
    "        # Split data into training and test sets for current fold\n",
    "        X_train, X_test, y_train, y_test = train_test_split(X, y, test_size=0.2, random_state=i)\n",
    "\n",
    "        # Create and fit model for current fold\n",
    "        model = create_model()\n",
    "        model.fit(X_train, y_train)\n",
    "\n",
    "        # Evaluate model on test set for current fold\n",
    "        score = model.score(X_test, y_test)\n",
    "        results.append(score)\n",
    "\n",
    "    # Calculate average score and standard deviation\n",
    "    avg_score = np.mean(results)\n",
    "    std_dev = np.std(results)\n",
    "\n",
    "    print(\"\\nAccuracy scores: \\n\")\n",
    "    print(f\"Average score: {avg_score}\")\n",
    "    print(f\"Standard deviation: {std_dev}\")\n",
    "\n",
    "\n",
    "if __name__ == \"__main__\":\n",
    "    main()\n"
   ]
  },
  {
   "cell_type": "markdown",
   "id": "3ec3a69c",
   "metadata": {},
   "source": [
    "# Final dataset (Reference replication; Ready-to-Import)"
   ]
  },
  {
   "cell_type": "code",
   "execution_count": null,
   "id": "e8f79b6e",
   "metadata": {},
   "outputs": [],
   "source": [
    "df = pd.read_csv('final.csv')\n",
    "\n",
    "# Drop rows where target variable 'deriv_cog_impair' is missing\n",
    "df = df.dropna(subset=['deriv_cog_impair'])\n",
    "\n",
    "# Identify categorical columns\n",
    "categorical_columns = ['cog_age_level', 'father_highest_education', 'function_age_level', 'hand',\n",
    "                        'language_age_level', 'mother_highest_education', 'onset_concern',\n",
    "                        'regress_lang_time_return', 'support_require', 'ASD_services', 'iep_asd',\n",
    "                        'cognitive_impairment_at_enrollment', 'language_level_at_enrollment']\n",
    "\n",
    "# One-hot encode categorical columns\n",
    "df_encoded = pd.get_dummies(df, columns=categorical_columns)\n",
    "\n",
    "# Separate features and target variable\n",
    "X = df_encoded.drop(columns=['subject_sp_id', 'deriv_cog_impair'])\n",
    "y = df_encoded['deriv_cog_impair']"
   ]
  },
  {
   "cell_type": "code",
   "execution_count": 2,
   "id": "1a5cd660",
   "metadata": {},
   "outputs": [],
   "source": [
    "# print the parameters in X to check syntax\n"
   ]
  },
  {
   "cell_type": "code",
   "execution_count": 3,
   "id": "5e5f7b23",
   "metadata": {},
   "outputs": [],
   "source": [
    "# drop the unwanted columns\n"
   ]
  },
  {
   "cell_type": "markdown",
   "id": "c643eb7a",
   "metadata": {},
   "source": [
    "## Create a version with imputation (for non-XGB models)"
   ]
  },
  {
   "cell_type": "code",
   "execution_count": null,
   "id": "902c68ae",
   "metadata": {},
   "outputs": [],
   "source": []
  }
 ],
 "metadata": {
  "kernelspec": {
   "display_name": "Python 3 (ipykernel)",
   "language": "python",
   "name": "python3"
  },
  "language_info": {
   "codemirror_mode": {
    "name": "ipython",
    "version": 3
   },
   "file_extension": ".py",
   "mimetype": "text/x-python",
   "name": "python",
   "nbconvert_exporter": "python",
   "pygments_lexer": "ipython3",
   "version": "3.8.10"
  }
 },
 "nbformat": 4,
 "nbformat_minor": 5
}
