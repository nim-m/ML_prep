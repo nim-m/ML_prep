{
 "cells": [
  {
   "cell_type": "code",
   "execution_count": 1,
   "id": "8c667b9a-e9f6-4526-b1a0-1b2c0eba9b4e",
   "metadata": {},
   "outputs": [],
   "source": [
    "import pandas as pd\n",
    "import numpy as np"
   ]
  },
  {
   "cell_type": "code",
   "execution_count": 149,
   "id": "1a0dfa8b-405c-45de-bc0e-134a1c0ca64b",
   "metadata": {},
   "outputs": [
    {
     "name": "stderr",
     "output_type": "stream",
     "text": [
      "/tmp/ipykernel_3011828/4199636074.py:5: DtypeWarning: Columns (6) have mixed types. Specify dtype option on import or set low_memory=False.\n",
      "  dcdq = pd.read_csv(\"dcdq-2023-07-21.csv\")\n",
      "/tmp/ipykernel_3011828/4199636074.py:14: DtypeWarning: Columns (22,24) have mixed types. Specify dtype option on import or set low_memory=False.\n",
      "  core = pd.read_csv(\"core_descriptive_variables-2023-07-21.csv\")\n",
      "/tmp/ipykernel_3011828/4199636074.py:15: DtypeWarning: Columns (34) have mixed types. Specify dtype option on import or set low_memory=False.\n",
      "  indi = pd.read_csv(\"individuals_registration-2023-07-21.csv\")\n"
     ]
    }
   ],
   "source": [
    "cbcl = pd.read_csv('cbcl_1_5-2023-07-21.csv')\n",
    "iq = pd.read_csv(\"iq-2023-07-21.csv\")\n",
    "\n",
    "basic = pd.read_csv(\"basic_medical_screening-2023-07-21.csv\")\n",
    "dcdq = pd.read_csv(\"dcdq-2023-07-21.csv\")\n",
    "vineland = pd.read_csv(\"vineland-3-2023-07-21.csv\")\n",
    "rbsr = pd.read_csv(\"rbsr-2023-07-21.csv\")\n",
    "scq = pd.read_csv(\"scq-2023-07-21.csv\")\n",
    "\n",
    "bg_child = pd.read_csv(\"background_history_child-2023-07-21.csv\")\n",
    "bg_sibling = pd.read_csv(\"background_history_sibling-2023-07-21.csv\")\n",
    "\n",
    "core = pd.read_csv(\"core_descriptive_variables-2023-07-21.csv\")\n",
    "indi = pd.read_csv(\"individuals_registration-2023-07-21.csv\")\n",
    "\n",
    "expiq = pd.read_csv(\"predicted_iq_experimental-2023-07-21.csv\")"
   ]
  },
  {
   "cell_type": "markdown",
   "id": "62024d90",
   "metadata": {},
   "source": [
    "# Missing Data handling"
   ]
  },
  {
   "cell_type": "code",
   "execution_count": null,
   "id": "b9bc010a",
   "metadata": {},
   "outputs": [],
   "source": [
    "# background history\n",
    "\n"
   ]
  },
  {
   "cell_type": "code",
   "execution_count": 110,
   "id": "eebca94f",
   "metadata": {},
   "outputs": [],
   "source": [
    "# basic medical screening\n",
    "\n",
    "paras = [\"dev_id\",\n",
    "    \"dev_lang_dis\",\n",
    "    \"mood_or_anx\",\n",
    "    \"neuro_oth_calc\",\n",
    "    \"dev_speech\",\n",
    "    \"med_cond_birth\",\n",
    "    \"med_cond_neuro\",\n",
    "    \"med_cond_visaud\",\n",
    "    \"mood_anx\",\n",
    "    \"mood_soc_anx\",\n",
    "    \"attn_behav\",\n",
    "    \"behav_adhd\",\n",
    "    \"birth_prem\"]\n",
    "\n",
    "basic[paras] = basic[paras].fillna(0)"
   ]
  },
  {
   "cell_type": "markdown",
   "id": "09e8f1d0",
   "metadata": {},
   "source": [
    "# Data merging"
   ]
  },
  {
   "cell_type": "code",
   "execution_count": 111,
   "id": "70ce93fd-8dd4-47b6-a4a9-07dde3a9c5d2",
   "metadata": {},
   "outputs": [],
   "source": [
    "# modified code to include all parameters for calculating cognitive impairment\n",
    "# dfs = [iq, vineland, basic, cbcl, core, background, rbsr, dcdq, indi, scq]\n",
    "dfs = [basic, indi, core, scq, background, rbsr, dcdq, vineland, cbcl, iq, expiq]  # SORTED in descending order\n",
    "total = dfs[0].copy(deep=True)\n",
    "\n",
    "suffixes = ['_' + str(i) for i in range(1, len(dfs))]\n",
    "\n",
    "for df, sfx in zip(dfs[1:], suffixes):\n",
    "    total = pd.merge(total, df, on='subject_sp_id', how=\"left\", suffixes=(sfx, ''))"
   ]
  },
  {
   "cell_type": "code",
   "execution_count": 162,
   "id": "e2a7653f",
   "metadata": {},
   "outputs": [
    {
     "data": {
      "text/plain": [
       "(192969, 777)"
      ]
     },
     "execution_count": 162,
     "metadata": {},
     "output_type": "execute_result"
    }
   ],
   "source": [
    "total.shape"
   ]
  },
  {
   "cell_type": "markdown",
   "id": "40534fb0",
   "metadata": {},
   "source": [
    "# Filtering"
   ]
  },
  {
   "cell_type": "markdown",
   "id": "b040313b",
   "metadata": {},
   "source": [
    "## Validity"
   ]
  },
  {
   "cell_type": "code",
   "execution_count": 163,
   "id": "0a94d689",
   "metadata": {},
   "outputs": [],
   "source": [
    "validity_paras = []\n",
    "\n",
    "total_drop_iq_na = total.dropna(subset=[validity_paras])"
   ]
  },
  {
   "cell_type": "markdown",
   "id": "355e4c47",
   "metadata": {},
   "source": [
    "## FSIQ null values"
   ]
  },
  {
   "cell_type": "code",
   "execution_count": 164,
   "id": "aea80ac8",
   "metadata": {},
   "outputs": [
    {
     "data": {
      "text/plain": [
       "(4091, 777)"
      ]
     },
     "execution_count": 164,
     "metadata": {},
     "output_type": "execute_result"
    }
   ],
   "source": [
    "total_drop_iq_na = total.dropna(subset=['fsiq'])\n",
    "total_drop_iq_na.shape"
   ]
  },
  {
   "cell_type": "markdown",
   "id": "4da65090",
   "metadata": {},
   "source": [
    "# Making demographic subsets"
   ]
  },
  {
   "cell_type": "code",
   "execution_count": 166,
   "id": "80ff372b-8aa1-40f8-a9bb-39608bfd7447",
   "metadata": {},
   "outputs": [
    {
     "data": {
      "text/plain": [
       "(1135, 777)"
      ]
     },
     "execution_count": 166,
     "metadata": {},
     "output_type": "execute_result"
    }
   ],
   "source": [
    "less5 = total_drop_iq_na[total_drop_iq_na['age_at_eval_months_3'] < 61]\n",
    "less5.shape"
   ]
  },
  {
   "cell_type": "code",
   "execution_count": 167,
   "id": "0cf147be",
   "metadata": {},
   "outputs": [
    {
     "data": {
      "text/plain": [
       "(3816, 777)"
      ]
     },
     "execution_count": 167,
     "metadata": {},
     "output_type": "execute_result"
    }
   ],
   "source": [
    "less18 = total_drop_iq_na[total_drop_iq_na['age_at_eval_months_3'] < 217]\n",
    "less18.shape"
   ]
  },
  {
   "cell_type": "markdown",
   "id": "96e49c14",
   "metadata": {},
   "source": [
    "# Descriptive statistics"
   ]
  },
  {
   "cell_type": "code",
   "execution_count": 168,
   "id": "beca3a7c",
   "metadata": {
    "scrolled": true
   },
   "outputs": [
    {
     "data": {
      "text/plain": [
       "asd_verif\n",
       "1.0      3643\n",
       "998.0     107\n",
       "0.0        66\n",
       "Name: count, dtype: int64"
      ]
     },
     "execution_count": 168,
     "metadata": {},
     "output_type": "execute_result"
    }
   ],
   "source": [
    "less18['asd_verif'].value_counts(dropna=False)"
   ]
  },
  {
   "cell_type": "markdown",
   "id": "bb58ced6",
   "metadata": {},
   "source": [
    "# Computed deriv_cog_impair"
   ]
  },
  {
   "cell_type": "code",
   "execution_count": 124,
   "id": "91d70156-05e1-45da-b259-083061990fc2",
   "metadata": {
    "scrolled": true
   },
   "outputs": [],
   "source": [
    "# maybe skip this code and use the available derived_cog_impair parameter from expiq df\n",
    "\n",
    "def check_cognitive_impairment(row):\n",
    "    if row['invalid'] != 1:\n",
    "        if pd.notnull(row['fsiq_score']) or pd.notnull(row['nviq_score']):\n",
    "            if pd.notnull(row['fsiq_score']) and row['fsiq_score'] < 80:\n",
    "                return 1\n",
    "            elif pd.notnull(row['nviq_score']) and row['nviq_score'] < 80:\n",
    "                return 1\n",
    "            else:\n",
    "                return 0\n",
    "        elif pd.notnull(row['fsiq_ratio']) or pd.notnull(row['nviq_ratio']):\n",
    "            if pd.notnull(row['fsiq_ratio']) and row['fsiq_ratio'] < 80:\n",
    "                return 1\n",
    "            elif pd.notnull(row['nviq_ratio']) and row['nviq_ratio'] < 80:\n",
    "                return 1\n",
    "            else:\n",
    "                return 0\n",
    "        elif pd.notnull(row['intel_class']):\n",
    "            if row['intel_class'] in ['profound', 'severe', 'moderate', 'mild', 'border', 'id_nos']:\n",
    "                return 1\n",
    "            else:\n",
    "                return 0\n",
    "        elif pd.notnull(row['communication_standard']):\n",
    "            if row['communication_standard'] < 80:\n",
    "                return 1\n",
    "            else:\n",
    "                return 0\n",
    "        elif pd.notnull(row['cognitive_impairment_latest']):\n",
    "            if (row['cognitive_impairment_latest'] == 1):\n",
    "                return 1\n",
    "            else:\n",
    "                return 0\n",
    "        elif pd.notnull(row['age_at_registration_years']) and pd.notnull(row['language_level_latest']):\n",
    "            if (row['age_at_registration_years'] >= 4) and (row['language_level_latest'] != 'Uses longer sentences of his/her own and is able to tell you something that happened'):\n",
    "                return 1\n",
    "            else:\n",
    "                return 0\n",
    "        elif pd.notnull(row['cog_age_level']):\n",
    "            if row['cog_age_level'] == 'signif_below_age' : \n",
    "                return 1\n",
    "            else:\n",
    "                return 0\n",
    "        elif pd.notnull(row['cog_test_score']):\n",
    "            if row['cog_test_score'] in ['24_below', '25_39', '40_54', '55_69', '70_79']:\n",
    "                return 1\n",
    "            else:\n",
    "                return 0\n",
    "        elif pd.notnull(row['age_at_registration_months']) and pd.notnull(row['motor_able']) and pd.notnull(row['dev_lang']):\n",
    "            if (row['age_at_registration_months'] >= 60) and (row['motor_able'] != 1) and (row['dev_lang'] == 1):\n",
    "                return 1\n",
    "            else:\n",
    "                return 0\n",
    "        elif pd.notnull(row['regress_lang_return_y_n']) and pd.notnull(row['language_level_at_enrollment']):\n",
    "            if (row['regress_lang_return_y_n'] == 4) and (row['language_level_at_enrollment'] != 'Uses longer sentences of his/her own and is able to tell you something that happened'):\n",
    "                return 1\n",
    "            else:\n",
    "                return 0\n",
    "        elif pd.notnull(row['age_at_eval_years']) and pd.notnull(row['cog_age_equivalent']) and pd.notnull(row['cog_age_equivalent_in_months']):\n",
    "            if (row['age_at_eval_years'] < 15) and pd.notnull(row['cog_age_equivalent']) and (row['cog_age_equivalent_in_months']/12*100 < 80):\n",
    "                return 1\n",
    "            else:\n",
    "                return 0\n",
    "\n",
    "# Define the mapping for cog_age_equivalent\n",
    "cog_age_map = {\n",
    "    'under_12mos': 6,\n",
    "    '12_18mos': 15,\n",
    "    '18_24mos': 21,\n",
    "    '2_3years': 30,\n",
    "    '4_5years': 54,\n",
    "    '6_8years': 84,\n",
    "    '9_11years': 120,\n",
    "    '12_or_older': 144\n",
    "}\n",
    "\n",
    "# Add a new column 'cog_age_equivalent_in_months' based on 'cog_age_equivalent'\n",
    "less5.loc[:, 'cog_age_equivalent_in_months'] = less5['cog_age_equivalent'].apply(lambda x: cog_age_map.get(x, 0))\n",
    "\n",
    "total_drop_iq_na.loc[:, 'cog_age_equivalent_in_months'] = total_drop_iq_na['cog_age_equivalent'].apply(lambda x: cog_age_map.get(x, 0))\n",
    "less5_drop_iq_na.loc[:, 'cog_age_equivalent_in_months'] = less5_drop_iq_na['cog_age_equivalent'].apply(lambda x: cog_age_map.get(x, 0))\n",
    "less18_drop_iq_na.loc[:, 'cog_age_equivalent_in_months'] = less18_drop_iq_na['cog_age_equivalent'].apply(lambda x: cog_age_map.get(x, 0))\n",
    "\n",
    "\n",
    "# create a parameter called deriv_cog_impair in less5 df\n",
    "less5.loc[:, 'deriv_cog_impair'] = None\n",
    "\n",
    "total_drop_iq_na.loc[:, 'deriv_cog_impair'] = None\n",
    "less18_drop_iq_na.loc[:, 'deriv_cog_impair'] = None\n",
    "less5_drop_iq_na.loc[:, 'deriv_cog_impair'] = None\n",
    "\n",
    "# Apply the function to each row of the DataFrame\n",
    "less5.loc[:, 'deriv_cog_impair'] = less5.apply(check_cognitive_impairment, axis=1)\n",
    "\n",
    "total_drop_iq_na.loc[:, 'deriv_cog_impair'] = total_drop_iq_na.apply(check_cognitive_impairment, axis=1)\n",
    "less18_drop_iq_na.loc[:, 'deriv_cog_impair'] = less18_drop_iq_na.apply(check_cognitive_impairment, axis=1)\n",
    "less5_drop_iq_na.loc[:, 'deriv_cog_impair'] = less5_drop_iq_na.apply(check_cognitive_impairment, axis=1)"
   ]
  },
  {
   "cell_type": "code",
   "execution_count": 95,
   "id": "7230bf69-7537-4e09-a8ed-cf0105429c3b",
   "metadata": {},
   "outputs": [
    {
     "data": {
      "text/plain": [
       "deriv_cog_impair\n",
       "0.0    12366\n",
       "NaN     8257\n",
       "1.0     6465\n",
       "Name: count, dtype: int64"
      ]
     },
     "execution_count": 95,
     "metadata": {},
     "output_type": "execute_result"
    }
   ],
   "source": [
    "# older results (without fsiq filtering)\n",
    "less5['deriv_cog_impair'].value_counts(dropna=False)"
   ]
  },
  {
   "cell_type": "code",
   "execution_count": 161,
   "id": "3b886c11",
   "metadata": {
    "scrolled": true
   },
   "outputs": [
    {
     "name": "stdout",
     "output_type": "stream",
     "text": [
      "total deriv_cog_impair\n",
      "0.0    1997\n",
      "1.0    1915\n",
      "NaN     179\n",
      "Name: count, dtype: int64\n",
      "\n",
      "less18 deriv_cog_impair\n",
      "0.0    1830\n",
      "1.0    1811\n",
      "NaN     175\n",
      "Name: count, dtype: int64\n",
      "\n",
      "less5 deriv_cog_impair\n",
      "1.0    746\n",
      "0.0    335\n",
      "NaN     54\n",
      "Name: count, dtype: int64\n"
     ]
    }
   ],
   "source": [
    "# new filtered results\n",
    "print(\"total\", total_drop_iq_na['deriv_cog_impair'].value_counts(dropna=False))\n",
    "print(\"\\nless18\", less18_drop_iq_na['deriv_cog_impair'].value_counts(dropna=False))\n",
    "print(\"\\nless5\", less5_drop_iq_na['deriv_cog_impair'].value_counts(dropna=False))"
   ]
  },
  {
   "cell_type": "markdown",
   "id": "4586df95",
   "metadata": {},
   "source": [
    "# ExpIQ derived_cog_impair extraction"
   ]
  },
  {
   "cell_type": "code",
   "execution_count": 172,
   "id": "02eeff38",
   "metadata": {},
   "outputs": [
    {
     "name": "stdout",
     "output_type": "stream",
     "text": [
      "\n",
      "less18 derived_cog_impair\n",
      "0.0    1773\n",
      "1.0    1653\n",
      "NaN     390\n",
      "Name: count, dtype: int64\n",
      "\n",
      "less5 derived_cog_impair\n",
      "1.0    506\n",
      "NaN    362\n",
      "0.0    267\n",
      "Name: count, dtype: int64\n"
     ]
    }
   ],
   "source": [
    "# print(\"total\", total_drop_iq_na['derived_cog_impair'].value_counts(dropna=False))\n",
    "print(\"\\nless18\", less18_drop_iq_na['derived_cog_impair'].value_counts(dropna=False))\n",
    "print(\"\\nless5\", less5_drop_iq_na['derived_cog_impair'].value_counts(dropna=False))"
   ]
  },
  {
   "cell_type": "markdown",
   "id": "b9ff31e6",
   "metadata": {},
   "source": [
    "## Compare the overlap/matching of the two variables"
   ]
  },
  {
   "cell_type": "code",
   "execution_count": 170,
   "id": "daa014f5",
   "metadata": {},
   "outputs": [
    {
     "name": "stdout",
     "output_type": "stream",
     "text": [
      "Number of rows where the values are the same:\n",
      "3236\n",
      "\n",
      "Number of rows where the values are different:\n",
      "580\n"
     ]
    }
   ],
   "source": [
    "# Calculate the number of rows where the values in 'derived_cog_impair' and 'deriv_cog_impair' are the same\n",
    "same_values_count = less18_drop_iq_na['derived_cog_impair'].eq(less18_drop_iq_na['deriv_cog_impair']).sum()\n",
    "\n",
    "# Calculate the number of rows where the values in 'derived_cog_impair' and 'deriv_cog_impair' are different\n",
    "diff_values_count = (~less18_drop_iq_na['derived_cog_impair'].eq(less18_drop_iq_na['deriv_cog_impair'])).sum()\n",
    "\n",
    "# Print the results\n",
    "print(\"Number of rows where the values are the same:\")\n",
    "print(same_values_count)\n",
    "\n",
    "print(\"\\nNumber of rows where the values are different:\")\n",
    "print(diff_values_count)"
   ]
  },
  {
   "cell_type": "code",
   "execution_count": 171,
   "id": "0738b58a",
   "metadata": {},
   "outputs": [
    {
     "name": "stdout",
     "output_type": "stream",
     "text": [
      "Count of each combination of mismatched values:\n",
      "   derived_cog_impair  deriv_cog_impair  count\n",
      "1                 0.0               1.0     11\n",
      "2                 1.0               0.0     16\n"
     ]
    }
   ],
   "source": [
    "# Calculate the number of rows where the values in 'derived_cog_impair' and 'deriv_cog_impair' are different\n",
    "# Using groupby on the two columns to find all possible combinations and their counts\n",
    "mismatch_combinations = less18_drop_iq_na.groupby(\n",
    "    ['derived_cog_impair', 'deriv_cog_impair']\n",
    ").size().reset_index(name='count')\n",
    "\n",
    "# Filter only mismatched values\n",
    "mismatch_combinations = mismatch_combinations[\n",
    "    mismatch_combinations['derived_cog_impair'] != mismatch_combinations['deriv_cog_impair']\n",
    "]\n",
    "\n",
    "# Print the results\n",
    "print(\"Count of each combination of mismatched values:\")\n",
    "print(mismatch_combinations)"
   ]
  },
  {
   "cell_type": "markdown",
   "id": "5b5687a2",
   "metadata": {},
   "source": [
    "**Conclusion**\n",
    "\n",
    "3405 matching\n",
    "27 mismatching\n",
    "580 either both or one value missing, hence mismatched\n",
    "\n",
    "the parameter we computed (deriv_cog_impair) has less missing values compared to the existing parameter (derived_cog_impair)"
   ]
  },
  {
   "cell_type": "markdown",
   "id": "9e644563",
   "metadata": {},
   "source": [
    "# Dataset export"
   ]
  },
  {
   "cell_type": "code",
   "execution_count": 173,
   "id": "201483d7-e2ad-4230-b599-02b8c07c61bc",
   "metadata": {},
   "outputs": [],
   "source": [
    "# save CSV files\n",
    "total_drop_iq_na.to_csv(\"total_fsiq.csv\", index=False)\n",
    "less18_drop_iq_na.to_csv(\"less18_fsiq.csv\", index=False)\n",
    "less5_drop_iq_na.to_csv(\"tless5_fsiq.csv\", index=False)"
   ]
  },
  {
   "cell_type": "code",
   "execution_count": 174,
   "id": "a3a5687e-6499-4bb5-9514-9dfe5d104ddf",
   "metadata": {},
   "outputs": [],
   "source": [
    "# ref129 = less5.copy()\n",
    "\n",
    "ref129_total = total_drop_iq_na.copy()\n",
    "ref129_less18 = less18_drop_iq_na.copy()\n",
    "ref129_less5 = less5_drop_iq_na.copy()"
   ]
  },
  {
   "cell_type": "markdown",
   "id": "bec3fbc5",
   "metadata": {},
   "source": [
    "# minimal dataset (129 parameters)"
   ]
  },
  {
   "cell_type": "code",
   "execution_count": 99,
   "id": "fe1f9791-7611-40e9-9d20-cb90bdbd8963",
   "metadata": {},
   "outputs": [],
   "source": [
    "# extract required parameters\n",
    "\n",
    "model_para = [\n",
    "    # \n",
    "    \"subject_sp_id\",\n",
    "    \"asd_5\",\n",
    "    \"derived_cog_impair\",\n",
    "    #\n",
    "    # BACKGROUND --------------\n",
    "    \"age_onset_mos\",   # standardisation\n",
    "    \"cog_age_level\",   # ENCODING\n",
    "    \"family_hx_asd_mat_aunt_uncle\",\n",
    "    \"father_highest_education\",\n",
    "    \"fed_self_spoon_age_mos\",\n",
    "    \"function_age_level\",   # ENCODING\n",
    "    \"hand\",\n",
    "    \"intervention_counseling\",\n",
    "    \"intervention_medication\",\n",
    "    \"intervention_ot_fine_mot\",\n",
    "    \"intervention_ot_sensory\",\n",
    "    \"intervention_social_skills\",\n",
    "    \"intervention_speech_language\",\n",
    "    \"language_age_level\",   # ENCODING\n",
    "    \"mother_highest_education\",\n",
    "    \"onset_concern\",\n",
    "    \"plateau_y_n\",\n",
    "    \"regress_lang_return_y_n\",\n",
    "    \"regress_lang_time_return\",\n",
    "    \"regress_lang_y_n\",\n",
    "    \"repeat_grade\",\n",
    "    \"smiled_age_mos\",\n",
    "    \"sped_504\",\n",
    "    \"sped_aide\",\n",
    "    \"sped_asd_class_ft\",\n",
    "    \"sped_birth_to_three\",\n",
    "    \"sped_iep_asd\",\n",
    "    \"sped_iep_other\",\n",
    "    \"sped_ot\",\n",
    "    \"sped_other\",\n",
    "    \"sped_other_class_ft\",\n",
    "    \"sped_other_class_pt\",\n",
    "    \"sped_preschool\",\n",
    "    \"sped_priv_asd\",\n",
    "    \"sped_pt\",\n",
    "    \"sped_soc_skills\",\n",
    "    \"sped_speech\",\n",
    "    \"sped_y_n\",\n",
    "    \"support_require\",\n",
    "    # \n",
    "    # SCQ -----------\n",
    "    \"q01_phrases\",\n",
    "    \"q02_conversation\",\n",
    "    \"q04_inappropriate_question\",\n",
    "    \"q06_invented_words\",\n",
    "    \"q09_expressions_appropriate\",\n",
    "    \"q10_hand_tool\",\n",
    "    \"q13_interests_intensity\",\n",
    "    \"q14_senses\",\n",
    "    \"q18_objects_carry\",\n",
    "    \"q20_talk_friendly\",\n",
    "    \"q21_copy_you\",\n",
    "    \"q22_point_things\",\n",
    "    \"q23_gestures_wanted\",\n",
    "    \"q24_nod_head\",\n",
    "    \"q25_shake_head\",\n",
    "    \"q26_look_directly\",\n",
    "    \"q28_things_interested\",\n",
    "    \"q29_share\",\n",
    "    \"q30_join_enjoyment\",\n",
    "    \"q31_comfort\",\n",
    "    \"q32_help_attention\",\n",
    "    \"q33_range_expressions\",\n",
    "    \"q35_make_believe\",\n",
    "    \"q36_same_age\",\n",
    "    \"q38_pay_attention\",\n",
    "    # \n",
    "    # DCDQ --------------------------\n",
    "    \"q02_catch_ball\",\n",
    "    \"q05_run_fast_similar\",\n",
    "    \"q06_plan_motor_activity\",\n",
    "    \"q09_appropriate_tension_printing_writing\",\n",
    "    \"q10_cuts_pictures_shapes\",\n",
    "    \"q11_likes_sports_motors_skills\",\n",
    "    \"q13_quick_competent_tidying_up\",\n",
    "    \"fine_motor_handwriting\",\n",
    "    #\n",
    "    # basic medical screening --------------\n",
    "    \"dev_id\",\n",
    "    \"dev_lang_dis\",\n",
    "    \"mood_or_anx\",\n",
    "    \"neuro_oth_calc\",\n",
    "    \"dev_speech\",\n",
    "    \"med_cond_birth\",\n",
    "    \"med_cond_neuro\",\n",
    "    \"med_cond_visaud\",\n",
    "    \"mood_anx\",\n",
    "    \"mood_soc_anx\",\n",
    "    \"attn_behav\",\n",
    "    \"behav_adhd\",\n",
    "    \"birth_prem\",\n",
    "    # \n",
    "    # individuals registration -------------\n",
    "    \"diagnosis_age\",\n",
    "    \"ASD_services\",\n",
    "    \"iep_asd\",\n",
    "    \"cognitive_impairment_at_enrollment\",   # ENCODING\n",
    "    \"language_level_at_enrollment\",   # ENCODING\n",
    "    # \n",
    "    # RBSR --------------------\n",
    "    \"q01_whole_body\",\n",
    "    \"q03_hand_finger\",\n",
    "    \"q07_hits_self_body\",\n",
    "    \"q08_hits_self_against_object\",\n",
    "    \"q09_hits_self_with_object\",\n",
    "    \"q12_rubs\",\n",
    "    \"q16_complete\",\n",
    "    \"q18_checking\",\n",
    "    \"q19_counting\",\n",
    "    \"q22_touch_tap\",\n",
    "    \"q32_insists_walking\",\n",
    "    \"q27_play\",\n",
    "    \"q28_communication\",\n",
    "    \"q29_things_same_place\",\n",
    "    \"q31_becomes_upset\",\n",
    "    \"q34_dislikes_changes\",\n",
    "    \"q35_insists_door\",\n",
    "    \"q36_likes_piece_music\",\n",
    "    \"q39_insists_time\",\n",
    "    \"q41_strongly_attached\",\n",
    "    \"q43_fascination_movement\"\n",
    "]\n",
    "\n",
    "\n",
    "ref129_total = ref129_total[model_para]\n",
    "ref129_less18 = ref129_less18[model_para]\n",
    "ref129_less5 = ref129_less5[model_para]"
   ]
  },
  {
   "cell_type": "code",
   "execution_count": 100,
   "id": "889cde40-6624-4e4b-8946-ec2e49ece12e",
   "metadata": {},
   "outputs": [],
   "source": [
    "ref129_total.rename(columns={'asd_5': 'asd'}, inplace=True)\n",
    "ref129_less18.rename(columns={'asd_5': 'asd'}, inplace=True)\n",
    "ref129_less5.rename(columns={'asd_5': 'asd'}, inplace=True)"
   ]
  },
  {
   "cell_type": "markdown",
   "id": "7f4a8bb7",
   "metadata": {},
   "source": [
    "## encoding and elimination of extra parameters"
   ]
  },
  {
   "cell_type": "code",
   "execution_count": 101,
   "id": "d85b8019-ea80-4efd-83d6-535de0740762",
   "metadata": {},
   "outputs": [],
   "source": [
    "# perform one hot encoding of the dataframe\n",
    "\n",
    "# Identify categorical columns\n",
    "categorical_columns = ['cog_age_level', 'father_highest_education', 'function_age_level', 'hand', 'language_age_level',\n",
    "                   'mother_highest_education', 'onset_concern', 'regress_lang_time_return', 'support_require',\n",
    "                   'ASD_services', 'iep_asd', 'cognitive_impairment_at_enrollment', 'language_level_at_enrollment']\n",
    "\n",
    "# One-hot encode categorical columns\n",
    "ref129_total_encoded = pd.get_dummies(ref129_total, columns=categorical_columns)\n",
    "ref129_less18_encoded = pd.get_dummies(ref129_less18, columns=categorical_columns)\n",
    "ref129_less5_encoded = pd.get_dummies(ref129_less5, columns=categorical_columns)"
   ]
  },
  {
   "cell_type": "code",
   "execution_count": 102,
   "id": "caf65ceb-4c51-4d93-9e97-2a0f0ef381a2",
   "metadata": {},
   "outputs": [],
   "source": [
    "# drop paramters\n",
    "\n",
    "drop_para = [\n",
    "    'father_highest_education_associate_degree',\n",
    "    'father_highest_education_did_not_attend_high_school',\n",
    "    'father_highest_education_ged_diploma',\n",
    "    'father_highest_education_graduate_or_professional_degree',\n",
    "    'father_highest_education_some_high_school',\n",
    "    'father_highest_education_trade_school',\n",
    "    'function_age_level_above_age',\n",
    "    'function_age_level_at_age',\n",
    "    'function_age_level_slight_below_age',\n",
    "    'hand_left',\n",
    "    'hand_not_able',\n",
    "    'language_age_level_at_age',\n",
    "    'language_age_level_slight_below_age',\n",
    "    'mother_highest_education_associate_degree',\n",
    "    'mother_highest_education_baccalaureate_degree',\n",
    "    'mother_highest_education_did_not_attend_high_school',\n",
    "    'mother_highest_education_ged_diploma',\n",
    "    'mother_highest_education_some_college',\n",
    "    'mother_highest_education_some_high_school',\n",
    "    'mother_highest_education_trade_school',\n",
    "    'onset_concern_change_loss',\n",
    "    'onset_concern_something_else',\n",
    "    'onset_concern_unusual_habits',\n",
    "    'onset_concern_unusual_speech',\n",
    "    'support_require_substantial',\n",
    "    'ASD_services_False',\n",
    "    'iep_asd_False',\n",
    "    'cognitive_impairment_at_enrollment_False',\n",
    "    'language_level_at_enrollment_No words/does not speak'\n",
    "]\n",
    "\n",
    "\n",
    "# ref129_dropped = ref129_encoded.drop(columns=drop_para) \n",
    "\n",
    "ref129_total_encoded = ref129_total_encoded.drop(columns=drop_para) \n",
    "ref129_less18_encoded = ref129_less18_encoded.drop(columns=drop_para) \n",
    "ref129_less5_encoded = ref129_less5_encoded.drop(columns=drop_para) "
   ]
  },
  {
   "cell_type": "markdown",
   "id": "06951f7c",
   "metadata": {},
   "source": [
    "## Boolean to 0/1 replacement"
   ]
  },
  {
   "cell_type": "code",
   "execution_count": 103,
   "id": "ed27930a-fd6d-42b4-b1d9-bc5e0b2f355e",
   "metadata": {
    "scrolled": true
   },
   "outputs": [],
   "source": [
    "# List of parameters to replace\n",
    "parameters_to_replace = [\n",
    "    'cog_age_level_above_age', 'cog_age_level_at_age', 'cog_age_level_signif_below_age',\n",
    "    'cog_age_level_slight_below_age', 'father_highest_education_baccalaureate_degree',\n",
    "    'father_highest_education_high_school_graduate', 'father_highest_education_some_college',\n",
    "    'function_age_level_signif_below_age', 'hand_ambi', 'hand_right',\n",
    "    'language_age_level_above_age', 'language_age_level_signif_below_age',\n",
    "    'mother_highest_education_graduate_or_professional_degree',\n",
    "    'mother_highest_education_high_school_graduate', 'onset_concern_late_speech',\n",
    "    'onset_concern_late_walk', 'onset_concern_mood', 'onset_concern_social',\n",
    "    'regress_lang_time_return_5_or_more_yr', 'regress_lang_time_return_6_to_12_mo',\n",
    "    'regress_lang_time_return_bt_1_to_2_yr', 'regress_lang_time_return_bt_2_to_3_yr',\n",
    "    'regress_lang_time_return_bt_3_to_4_yr', 'regress_lang_time_return_bt_4_to_5_yr',\n",
    "    'regress_lang_time_return_less_than_6_mo', 'support_require_minimal_no_support',\n",
    "    'support_require_some_support', 'support_require_very_substantial', 'ASD_services_True',\n",
    "    'iep_asd_True', 'cognitive_impairment_at_enrollment_True',\n",
    "    'language_level_at_enrollment_Combines 3 words together into short sentences',\n",
    "    'language_level_at_enrollment_Uses longer sentences of his/her own and is able to tell you something that happened',\n",
    "    'language_level_at_enrollment_Uses single words meaningfully (for example, to request)'\n",
    "]\n",
    "\n",
    "# Iterate through the list of parameters and perform replacement\n",
    "for param in parameters_to_replace:\n",
    "    ref129_total_encoded[param] = ref129_total_encoded[param].map({True: 1, False: 0})\n",
    "    ref129_less18_encoded[param] = ref129_less18_encoded[param].map({True: 1, False: 0})\n",
    "    ref129_less5_encoded[param] = ref129_less5_encoded[param].map({True: 1, False: 0})"
   ]
  },
  {
   "cell_type": "markdown",
   "id": "5f7716df",
   "metadata": {},
   "source": [
    "# Missing values evaluation"
   ]
  },
  {
   "cell_type": "code",
   "execution_count": 153,
   "id": "b8a7ad1c",
   "metadata": {
    "scrolled": true
   },
   "outputs": [
    {
     "data": {
      "text/plain": [
       "asd                              918\n",
       "deriv_cog_impair                 175\n",
       "age_onset_mos                    934\n",
       "family_hx_asd_mat_aunt_uncle    3647\n",
       "fed_self_spoon_age_mos          1046\n",
       "                                ... \n",
       "q35_insists_door                 980\n",
       "q36_likes_piece_music            975\n",
       "q39_insists_time                 975\n",
       "q41_strongly_attached            977\n",
       "q43_fascination_movement         971\n",
       "Length: 87, dtype: int64"
      ]
     },
     "execution_count": 153,
     "metadata": {},
     "output_type": "execute_result"
    }
   ],
   "source": [
    "nan_counts = ref129_less18_encoded.isnull().sum()\n",
    "more_na = nan_counts[nan_counts > 0]\n",
    "\n",
    "more_na"
   ]
  },
  {
   "cell_type": "code",
   "execution_count": 154,
   "id": "8fb21b83",
   "metadata": {
    "scrolled": true
   },
   "outputs": [
    {
     "name": "stdout",
     "output_type": "stream",
     "text": [
      "1 asd\n",
      "2 deriv_cog_impair\n",
      "3 age_onset_mos\n",
      "4 family_hx_asd_mat_aunt_uncle\n",
      "5 fed_self_spoon_age_mos\n",
      "6 intervention_counseling\n",
      "7 intervention_medication\n",
      "8 intervention_ot_fine_mot\n",
      "9 intervention_ot_sensory\n",
      "10 intervention_social_skills\n",
      "11 intervention_speech_language\n",
      "12 plateau_y_n\n",
      "13 regress_lang_return_y_n\n",
      "14 regress_lang_y_n\n",
      "15 repeat_grade\n",
      "16 smiled_age_mos\n",
      "17 sped_504\n",
      "18 sped_aide\n",
      "19 sped_asd_class_ft\n",
      "20 sped_birth_to_three\n",
      "21 sped_iep_asd\n",
      "22 sped_iep_other\n",
      "23 sped_ot\n",
      "24 sped_other\n",
      "25 sped_other_class_ft\n",
      "26 sped_other_class_pt\n",
      "27 sped_preschool\n",
      "28 sped_priv_asd\n",
      "29 sped_pt\n",
      "30 sped_soc_skills\n",
      "31 sped_speech\n",
      "32 sped_y_n\n",
      "33 q01_phrases\n",
      "34 q02_conversation\n",
      "35 q04_inappropriate_question\n",
      "36 q06_invented_words\n",
      "37 q09_expressions_appropriate\n",
      "38 q10_hand_tool\n",
      "39 q13_interests_intensity\n",
      "40 q14_senses\n",
      "41 q18_objects_carry\n",
      "42 q20_talk_friendly\n",
      "43 q21_copy_you\n",
      "44 q22_point_things\n",
      "45 q23_gestures_wanted\n",
      "46 q24_nod_head\n",
      "47 q25_shake_head\n",
      "48 q26_look_directly\n",
      "49 q28_things_interested\n",
      "50 q29_share\n",
      "51 q30_join_enjoyment\n",
      "52 q31_comfort\n",
      "53 q32_help_attention\n",
      "54 q33_range_expressions\n",
      "55 q35_make_believe\n",
      "56 q36_same_age\n",
      "57 q38_pay_attention\n",
      "58 q02_catch_ball\n",
      "59 q05_run_fast_similar\n",
      "60 q06_plan_motor_activity\n",
      "61 q09_appropriate_tension_printing_writing\n",
      "62 q10_cuts_pictures_shapes\n",
      "63 q11_likes_sports_motors_skills\n",
      "64 q13_quick_competent_tidying_up\n",
      "65 fine_motor_handwriting\n",
      "66 diagnosis_age\n",
      "67 q01_whole_body\n",
      "68 q03_hand_finger\n",
      "69 q07_hits_self_body\n",
      "70 q08_hits_self_against_object\n",
      "71 q09_hits_self_with_object\n",
      "72 q12_rubs\n",
      "73 q16_complete\n",
      "74 q18_checking\n",
      "75 q19_counting\n",
      "76 q22_touch_tap\n",
      "77 q32_insists_walking\n",
      "78 q27_play\n",
      "79 q28_communication\n",
      "80 q29_things_same_place\n",
      "81 q31_becomes_upset\n",
      "82 q34_dislikes_changes\n",
      "83 q35_insists_door\n",
      "84 q36_likes_piece_music\n",
      "85 q39_insists_time\n",
      "86 q41_strongly_attached\n",
      "87 q43_fascination_movement\n"
     ]
    }
   ],
   "source": [
    "i = 1\n",
    "for item in more_na.index:\n",
    "    print(i, item)\n",
    "    i = i+1"
   ]
  },
  {
   "cell_type": "markdown",
   "id": "565f356e",
   "metadata": {},
   "source": [
    "- lots of SCQ and RBSR parameters are missing in a huge portion of dataset\n",
    "- basic medical screening parameters can be imputed with 0 "
   ]
  },
  {
   "cell_type": "code",
   "execution_count": 155,
   "id": "8fdd2449",
   "metadata": {
    "scrolled": true
   },
   "outputs": [
    {
     "data": {
      "text/plain": [
       "q01_whole_body                  983\n",
       "q03_hand_finger                 978\n",
       "q07_hits_self_body              973\n",
       "q08_hits_self_against_object    978\n",
       "q09_hits_self_with_object       976\n",
       "q12_rubs                        986\n",
       "q16_complete                    973\n",
       "q18_checking                    983\n",
       "q19_counting                    977\n",
       "q22_touch_tap                   975\n",
       "q32_insists_walking             979\n",
       "q27_play                        973\n",
       "q28_communication               971\n",
       "q29_things_same_place           973\n",
       "q31_becomes_upset               977\n",
       "q34_dislikes_changes            975\n",
       "q35_insists_door                980\n",
       "q36_likes_piece_music           975\n",
       "q39_insists_time                975\n",
       "q41_strongly_attached           977\n",
       "q43_fascination_movement        971\n",
       "dtype: int64"
      ]
     },
     "execution_count": 155,
     "metadata": {},
     "output_type": "execute_result"
    }
   ],
   "source": [
    "# check missing parameters for RBSR\n",
    "\n",
    "paras = [\"q01_whole_body\",\n",
    "    \"q03_hand_finger\",\n",
    "    \"q07_hits_self_body\",\n",
    "    \"q08_hits_self_against_object\",\n",
    "    \"q09_hits_self_with_object\",\n",
    "    \"q12_rubs\",\n",
    "    \"q16_complete\",\n",
    "    \"q18_checking\",\n",
    "    \"q19_counting\",\n",
    "    \"q22_touch_tap\",\n",
    "    \"q32_insists_walking\",\n",
    "    \"q27_play\",\n",
    "    \"q28_communication\",\n",
    "    \"q29_things_same_place\",\n",
    "    \"q31_becomes_upset\",\n",
    "    \"q34_dislikes_changes\",\n",
    "    \"q35_insists_door\",\n",
    "    \"q36_likes_piece_music\",\n",
    "    \"q39_insists_time\",\n",
    "    \"q41_strongly_attached\",\n",
    "    \"q43_fascination_movement\"]\n",
    "\n",
    "ref129_less18_encoded[paras].isnull().sum()"
   ]
  },
  {
   "cell_type": "code",
   "execution_count": 136,
   "id": "49a59bb9",
   "metadata": {
    "scrolled": true
   },
   "outputs": [
    {
     "data": {
      "text/plain": [
       "q01_phrases                     419\n",
       "q02_conversation               1106\n",
       "q04_inappropriate_question     1112\n",
       "q06_invented_words             1110\n",
       "q09_expressions_appropriate     416\n",
       "q10_hand_tool                   413\n",
       "q13_interests_intensity         416\n",
       "q14_senses                      415\n",
       "q18_objects_carry               410\n",
       "q20_talk_friendly               421\n",
       "q21_copy_you                    432\n",
       "q22_point_things                438\n",
       "q23_gestures_wanted             429\n",
       "q24_nod_head                    434\n",
       "q25_shake_head                  427\n",
       "q26_look_directly               429\n",
       "q28_things_interested           434\n",
       "q29_share                       429\n",
       "q30_join_enjoyment              432\n",
       "q31_comfort                     429\n",
       "q32_help_attention              433\n",
       "q33_range_expressions           437\n",
       "q35_make_believe                429\n",
       "q36_same_age                    426\n",
       "q38_pay_attention               428\n",
       "dtype: int64"
      ]
     },
     "execution_count": 136,
     "metadata": {},
     "output_type": "execute_result"
    }
   ],
   "source": [
    "# check missing parameters for SCQ\n",
    "\n",
    "paras = [\"q01_phrases\",\n",
    "    \"q02_conversation\",\n",
    "    \"q04_inappropriate_question\",\n",
    "    \"q06_invented_words\",\n",
    "    \"q09_expressions_appropriate\",\n",
    "    \"q10_hand_tool\",\n",
    "    \"q13_interests_intensity\",\n",
    "    \"q14_senses\",\n",
    "    \"q18_objects_carry\",\n",
    "    \"q20_talk_friendly\",\n",
    "    \"q21_copy_you\",\n",
    "    \"q22_point_things\",\n",
    "    \"q23_gestures_wanted\",\n",
    "    \"q24_nod_head\",\n",
    "    \"q25_shake_head\",\n",
    "    \"q26_look_directly\",\n",
    "    \"q28_things_interested\",\n",
    "    \"q29_share\",\n",
    "    \"q30_join_enjoyment\",\n",
    "    \"q31_comfort\",\n",
    "    \"q32_help_attention\",\n",
    "    \"q33_range_expressions\",\n",
    "    \"q35_make_believe\",\n",
    "    \"q36_same_age\",\n",
    "    \"q38_pay_attention\"]\n",
    "\n",
    "ref129_total_encoded[paras].isnull().sum()"
   ]
  },
  {
   "cell_type": "code",
   "execution_count": 156,
   "id": "7d002c9f",
   "metadata": {
    "scrolled": false
   },
   "outputs": [
    {
     "data": {
      "text/plain": [
       "age_onset_mos                    934\n",
       "family_hx_asd_mat_aunt_uncle    3647\n",
       "fed_self_spoon_age_mos          1046\n",
       "intervention_counseling         2893\n",
       "intervention_medication         2568\n",
       "intervention_ot_fine_mot        2131\n",
       "intervention_ot_sensory         2497\n",
       "intervention_social_skills      3079\n",
       "intervention_speech_language    1826\n",
       "plateau_y_n                      928\n",
       "regress_lang_return_y_n         2960\n",
       "regress_lang_y_n                 930\n",
       "repeat_grade                     982\n",
       "smiled_age_mos                   991\n",
       "sped_504                        3550\n",
       "sped_aide                       2966\n",
       "sped_asd_class_ft               3448\n",
       "sped_birth_to_three             2411\n",
       "sped_iep_asd                    2001\n",
       "sped_iep_other                  2390\n",
       "sped_ot                         1811\n",
       "sped_other                      3615\n",
       "sped_other_class_ft             3634\n",
       "sped_other_class_pt             3639\n",
       "sped_preschool                  2005\n",
       "sped_priv_asd                   3649\n",
       "sped_pt                         3016\n",
       "sped_soc_skills                 2890\n",
       "sped_speech                     1574\n",
       "sped_y_n                         939\n",
       "dtype: int64"
      ]
     },
     "execution_count": 156,
     "metadata": {},
     "output_type": "execute_result"
    }
   ],
   "source": [
    "# check missing parameters for background\n",
    "\n",
    "paras = [# BACKGROUND --------------\n",
    "    \"age_onset_mos\",   # standardisation\n",
    "    #\"cog_age_level\",   # ENCODING\n",
    "    \"family_hx_asd_mat_aunt_uncle\",\n",
    "    #\"father_highest_education\",   # ENCODING\n",
    "    \"fed_self_spoon_age_mos\",\n",
    "    #\"function_age_level\",   # ENCODING\n",
    "    #\"hand\",   # ENCODING\n",
    "    \"intervention_counseling\",\n",
    "    \"intervention_medication\",\n",
    "    \"intervention_ot_fine_mot\",\n",
    "    \"intervention_ot_sensory\",\n",
    "    \"intervention_social_skills\",\n",
    "    \"intervention_speech_language\",\n",
    "    #\"language_age_level\",   # ENCODING\n",
    "    #\"mother_highest_education\",\n",
    "    #\"onset_concern\",\n",
    "    \"plateau_y_n\",\n",
    "    \"regress_lang_return_y_n\",\n",
    "    #\"regress_lang_time_return\",\n",
    "    \"regress_lang_y_n\",\n",
    "    \"repeat_grade\",\n",
    "    \"smiled_age_mos\",\n",
    "    \"sped_504\",\n",
    "    \"sped_aide\",\n",
    "    \"sped_asd_class_ft\",\n",
    "    \"sped_birth_to_three\",\n",
    "    \"sped_iep_asd\",\n",
    "    \"sped_iep_other\",\n",
    "    \"sped_ot\",\n",
    "    \"sped_other\",\n",
    "    \"sped_other_class_ft\",\n",
    "    \"sped_other_class_pt\",\n",
    "    \"sped_preschool\",\n",
    "    \"sped_priv_asd\",\n",
    "    \"sped_pt\",\n",
    "    \"sped_soc_skills\",\n",
    "    \"sped_speech\",\n",
    "    \"sped_y_n\",\n",
    "    #\"support_require\"\n",
    "    ]\n",
    "\n",
    "ref129_less18_encoded[paras].isnull().sum()\n",
    "# ref129_less5_encoded[paras].isnull().sum()"
   ]
  },
  {
   "cell_type": "markdown",
   "id": "6879c926",
   "metadata": {},
   "source": [
    "- RBSR : most para missing in 1100_ entries\n",
    "- SCQ : most parameters missing in 410+ entries\n",
    "    - \"q02_conversation\", \"q04_inappropriate_question\", \"q06_invented_words\" missing in 1100+ entries\n",
    "- background history\n",
    "    - cannot be imputed:\n",
    "    age_onset_mos, fed_self_spoon_age_mos, smiled_age_mos\n",
    "    plateau_y_n, regress_lang_return_y_n, regress_lang_y_n, repeat_grade\n",
    "    \n",
    "**Criteria parameters (least missing)**\n",
    "\n",
    "- RBSR => q28_communication\n",
    "- SCQ => q18_objects_carry"
   ]
  },
  {
   "cell_type": "markdown",
   "id": "b8a4bf5c",
   "metadata": {},
   "source": [
    "## "
   ]
  },
  {
   "cell_type": "code",
   "execution_count": 140,
   "id": "61694b9d",
   "metadata": {},
   "outputs": [
    {
     "name": "stdout",
     "output_type": "stream",
     "text": [
      "Number of entries where neither 'q28_communication' nor 'q18_objects_carry' are null: 2816\n"
     ]
    }
   ],
   "source": [
    "# Define the parameters\n",
    "param1 = 'q28_communication'\n",
    "param2 = 'q18_objects_carry'\n",
    "\n",
    "# Filter rows with non-null values in both parameters\n",
    "non_null_overlap = ref129_total_encoded.dropna(subset=['q28_communication', 'q18_objects_carry'])\n",
    "\n",
    "# Count the number of rows where neither of the two parameters are null\n",
    "non_null_count = non_null_overlap.shape[0]\n",
    "\n",
    "# Print the count\n",
    "print(f\"Number of entries where neither '{param1}' nor '{param2}' are null: {non_null_count}\")"
   ]
  },
  {
   "cell_type": "code",
   "execution_count": 141,
   "id": "7d58d92b",
   "metadata": {},
   "outputs": [
    {
     "name": "stdout",
     "output_type": "stream",
     "text": [
      "The parameter with the most missing values is 'family_hx_asd_mat_aunt_uncle' with 3919 missing values.\n"
     ]
    }
   ],
   "source": [
    "# which parameter has the most missing values in ref129_total_encoded?\n",
    "\n",
    "# Calculate the number of missing values in each column\n",
    "missing_values_count = ref129_total_encoded.isnull().sum()\n",
    "\n",
    "# Find the parameter (column) with the most missing values\n",
    "parameter_with_most_missing = missing_values_count.idxmax()\n",
    "\n",
    "# Get the count of missing values in that parameter\n",
    "max_missing_count = missing_values_count[parameter_with_most_missing]\n",
    "\n",
    "# Print the result\n",
    "print(f\"The parameter with the most missing values is '{parameter_with_most_missing}' with {max_missing_count} missing values.\")"
   ]
  },
  {
   "cell_type": "markdown",
   "id": "603b5291",
   "metadata": {},
   "source": [
    "## Eliminate entries with too many missing values"
   ]
  },
  {
   "cell_type": "code",
   "execution_count": null,
   "id": "2da399b7",
   "metadata": {},
   "outputs": [],
   "source": []
  },
  {
   "cell_type": "markdown",
   "id": "bd2e2ed0",
   "metadata": {},
   "source": [
    "## Export final ref129 file"
   ]
  },
  {
   "cell_type": "code",
   "execution_count": 49,
   "id": "0ccc5a32-65a2-4313-ac18-7a6337a6a448",
   "metadata": {},
   "outputs": [],
   "source": [
    "# save CSV files\n",
    "# ref129_dropped.to_csv(\"ref129_2.csv\", index=False)\n",
    "ref_copy.to_csv(\"ref129_latest.csv\", index=False)"
   ]
  }
 ],
 "metadata": {
  "kernelspec": {
   "display_name": "Python 3 (ipykernel)",
   "language": "python",
   "name": "python3"
  },
  "language_info": {
   "codemirror_mode": {
    "name": "ipython",
    "version": 3
   },
   "file_extension": ".py",
   "mimetype": "text/x-python",
   "name": "python",
   "nbconvert_exporter": "python",
   "pygments_lexer": "ipython3",
   "version": "3.8.10"
  }
 },
 "nbformat": 4,
 "nbformat_minor": 5
}
