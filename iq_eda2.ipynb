{
 "cells": [
  {
   "cell_type": "code",
   "execution_count": 1,
   "id": "6ede3852",
   "metadata": {},
   "outputs": [],
   "source": [
    "import pandas as pd\n",
    "import numpy as np\n",
    "import matplotlib.pyplot as plt\n",
    "import seaborn as sns"
   ]
  },
  {
   "cell_type": "code",
   "execution_count": 2,
   "id": "aae841d9",
   "metadata": {},
   "outputs": [
    {
     "name": "stderr",
     "output_type": "stream",
     "text": [
      "/tmp/ipykernel_2224318/3030006616.py:5: DtypeWarning: Columns (6) have mixed types. Specify dtype option on import or set low_memory=False.\n",
      "  dcdq = pd.read_csv(\"dcdq-2023-07-21.csv\")\n",
      "/tmp/ipykernel_2224318/3030006616.py:11: DtypeWarning: Columns (34) have mixed types. Specify dtype option on import or set low_memory=False.\n",
      "  indi = pd.read_csv(\"individuals_registration-2023-07-21.csv\")\n"
     ]
    }
   ],
   "source": [
    "cbcl = pd.read_csv('cbcl_1_5-2023-07-21.csv')\n",
    "iq = pd.read_csv(\"iq-2023-07-21.csv\")\n",
    "\n",
    "basic = pd.read_csv(\"basic_medical_screening-2023-07-21.csv\")\n",
    "dcdq = pd.read_csv(\"dcdq-2023-07-21.csv\")\n",
    "vineland = pd.read_csv(\"vineland-3-2023-07-21.csv\")\n",
    "rbsr = pd.read_csv(\"rbsr-2023-07-21.csv\")\n",
    "scq = pd.read_csv(\"scq-2023-07-21.csv\")\n",
    "exp = pd.read_csv(\"predicted_iq_experimental-2023-07-21.csv\")\n",
    "\n",
    "indi = pd.read_csv(\"individuals_registration-2023-07-21.csv\")\n",
    "background = pd.read_csv(\"background_history_child-2023-07-21.csv\")"
   ]
  },
  {
   "cell_type": "code",
   "execution_count": 9,
   "id": "761c45b4",
   "metadata": {},
   "outputs": [
    {
     "name": "stdout",
     "output_type": "stream",
     "text": [
      "indi.shape (328974, 45)\n",
      "exp.shape (132368, 8)\n",
      "basic.shape (192557, 133)\n",
      "background.shape (47583, 117)\n",
      "iq.shape (5966, 26)\n"
     ]
    }
   ],
   "source": [
    "print(\"indi.shape\", indi.shape)\n",
    "print(\"exp.shape\", exp.shape)\n",
    "print(\"basic.shape\", basic.shape)\n",
    "print(\"background.shape\", background.shape)\n",
    "print(\"iq.shape\", iq.shape)"
   ]
  },
  {
   "cell_type": "code",
   "execution_count": 24,
   "id": "5258ecb4",
   "metadata": {},
   "outputs": [
    {
     "name": "stdout",
     "output_type": "stream",
     "text": [
      " derived_cog_impair\n",
      "1.0    57287\n",
      "0.0    51514\n",
      "NaN    23567\n",
      "Name: count, dtype: int64\n",
      "\n",
      " ml_predicted_cog_impair\n",
      "NaN    82747\n",
      "1.0    33467\n",
      "0.0    16154\n",
      "Name: count, dtype: int64\n"
     ]
    }
   ],
   "source": [
    "# check no of entries in exp df with non-null values in derived_cog_impair and ml_predicted_cog_impair\n",
    "\n",
    "print(\"\", exp['derived_cog_impair'].value_counts(dropna=False))\n",
    "\n",
    "print(\"\\n\", exp['ml_predicted_cog_impair'].value_counts(dropna=False))"
   ]
  },
  {
   "cell_type": "markdown",
   "id": "f40bb3cc",
   "metadata": {},
   "source": [
    "|                    | derived_cog_impair | ml_predicted_cog_impair |\n",
    "|--------------------|---------------------|-------------------------|\n",
    "| 1.0                | 57287               | 33467                   |\n",
    "| 0.0                | 51514               | 16154                   |\n",
    "| NaN                | 23567               | 82747                   |"
   ]
  },
  {
   "cell_type": "markdown",
   "id": "f77aab32",
   "metadata": {},
   "source": [
    "**Some entries HAVE derived_cog_impair but DO NOT HAVE ml_predicted_cog_impair .**\n",
    "\n",
    "- This suggests that there were enough parameters to obtain the derived classification, but the predictor parameters for the model were not available.\n",
    "\n",
    "\n",
    "**Some entries DO NOT HAVE derived_cog_impair but HAVE ml_predicted_cog_impair.**\n",
    "\n",
    "- This suggests that derived_cog_impair is not a required parameter for training of model.\n",
    "- There is enough data for ML prediction but not for derivation of classification? \n",
    "    - Or is the data missing due to unrelated reasons? (highly unlikely)"
   ]
  },
  {
   "cell_type": "code",
   "execution_count": null,
   "id": "230a3be1",
   "metadata": {},
   "outputs": [],
   "source": [
    "# check which dataset contains all entries from exp\n",
    "\n",
    "# iterate through each subject_sp_id in exp df and check for a match in indi df and basic df\n",
    "# if match, do nothing. if unmatch, increase a counter\n",
    "# after all iterations, print the no of entries from exp df which were not found in the reference df\n",
    "\n",
    "unmatched_count = 0\n",
    "\n",
    "for subject_sp_id in exp['subject_sp_id']:\n",
    "    if (subject_sp_id not in indi['subject_sp_id'].values):\n",
    "        unmatched_count += 1\n",
    "\n",
    "print(unmatched_count)"
   ]
  },
  {
   "cell_type": "code",
   "execution_count": null,
   "id": "7fe152be",
   "metadata": {},
   "outputs": [],
   "source": [
    "# check for duplicate entries in exp df"
   ]
  }
 ],
 "metadata": {
  "kernelspec": {
   "display_name": "Python 3 (ipykernel)",
   "language": "python",
   "name": "python3"
  },
  "language_info": {
   "codemirror_mode": {
    "name": "ipython",
    "version": 3
   },
   "file_extension": ".py",
   "mimetype": "text/x-python",
   "name": "python",
   "nbconvert_exporter": "python",
   "pygments_lexer": "ipython3",
   "version": "3.8.10"
  }
 },
 "nbformat": 4,
 "nbformat_minor": 5
}
